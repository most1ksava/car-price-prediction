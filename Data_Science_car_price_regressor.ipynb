{
 "cells": [
  {
   "cell_type": "markdown",
   "metadata": {
    "id": "xaUimSn--Q22"
   },
   "source": [
    "# Определение стоимости автомобилей"
   ]
  },
  {
   "cell_type": "markdown",
   "metadata": {
    "id": "MDO1ZuKk-Q22"
   },
   "source": [
    "Сервис по продаже автомобилей с пробегом «Не бит, не крашен» разрабатывает приложение для привлечения новых клиентов. В нём можно быстро узнать рыночную стоимость своего автомобиля. В вашем распоряжении исторические данные: технические характеристики, комплектации и цены автомобилей. Вам нужно построить модель для определения стоимости.\n",
    "\n",
    "Заказчику важны:\n",
    "\n",
    "- качество предсказания;\n",
    "- скорость предсказания;\n",
    "- время обучения."
   ]
  },
  {
   "cell_type": "markdown",
   "metadata": {
    "id": "sAkqdZGl-Q22"
   },
   "source": [
    "## Описание данных\n",
    "Признаки\n",
    "\n",
    "\n",
    "- DateCrawled — дата скачивания анкеты из базы\n",
    "- VehicleType — тип автомобильного кузова\n",
    "- RegistrationYear — год регистрации автомобиля\n",
    "- Gearbox — тип коробки передач\n",
    "- Power — мощность (л. с.)\n",
    "- Model — модель автомобиля\n",
    "- Kilometer — пробег (км)\n",
    "- RegistrationMonth — месяц регистрации автомобиля\n",
    "- FuelType — тип топлива\n",
    "- Brand — марка автомобиля\n",
    "- Repaired  — была машина в ремонте или нет\n",
    "- DateCreated — дата создания анкеты\n",
    "- NumberOfPictures — количество фотографий автомобиля\n",
    "- PostalCode — почтовый индекс владельца анкеты (пользователя)\n",
    "- LastSeen — дата последней активности пользователя\n",
    "\n",
    "Целевой признак\n",
    "- Price — цена (евро)"
   ]
  },
  {
   "cell_type": "markdown",
   "metadata": {
    "id": "7cRh1aMn-Q23"
   },
   "source": [
    "## Подготовка данных"
   ]
  },
  {
   "cell_type": "markdown",
   "metadata": {
    "id": "gFqlcbxx-Q23"
   },
   "source": [
    "загрузим необходимое для работы\n"
   ]
  },
  {
   "cell_type": "code",
   "execution_count": 1,
   "metadata": {
    "colab": {
     "base_uri": "https://localhost:8080/"
    },
    "id": "cHPaNyuC-p46",
    "outputId": "098b136d-54d5-40b5-a2cd-d80fd201a12b"
   },
   "outputs": [
    {
     "name": "stdout",
     "output_type": "stream",
     "text": [
      "Defaulting to user installation because normal site-packages is not writeable\n",
      "Requirement already satisfied: catboost in c:\\users\\saveliy\\appdata\\roaming\\python\\python312\\site-packages (1.2.7)\n",
      "Requirement already satisfied: graphviz in c:\\users\\saveliy\\appdata\\roaming\\python\\python312\\site-packages (from catboost) (0.20.3)\n",
      "Requirement already satisfied: matplotlib in c:\\users\\saveliy\\appdata\\roaming\\python\\python312\\site-packages (from catboost) (3.9.2)\n",
      "Requirement already satisfied: numpy<2.0,>=1.16.0 in c:\\users\\saveliy\\appdata\\roaming\\python\\python312\\site-packages (from catboost) (1.26.4)\n",
      "Requirement already satisfied: pandas>=0.24 in c:\\users\\saveliy\\appdata\\roaming\\python\\python312\\site-packages (from catboost) (2.2.3)\n",
      "Requirement already satisfied: scipy in c:\\programdata\\anaconda3\\lib\\site-packages (from catboost) (1.13.1)\n",
      "Requirement already satisfied: plotly in c:\\users\\saveliy\\appdata\\roaming\\python\\python312\\site-packages (from catboost) (5.24.1)\n",
      "Requirement already satisfied: six in c:\\programdata\\anaconda3\\lib\\site-packages (from catboost) (1.16.0)\n",
      "Requirement already satisfied: python-dateutil>=2.8.2 in c:\\programdata\\anaconda3\\lib\\site-packages (from pandas>=0.24->catboost) (2.9.0.post0)\n",
      "Requirement already satisfied: pytz>=2020.1 in c:\\programdata\\anaconda3\\lib\\site-packages (from pandas>=0.24->catboost) (2024.1)\n",
      "Requirement already satisfied: tzdata>=2022.7 in c:\\users\\saveliy\\appdata\\roaming\\python\\python312\\site-packages (from pandas>=0.24->catboost) (2024.2)\n",
      "Requirement already satisfied: contourpy>=1.0.1 in c:\\users\\saveliy\\appdata\\roaming\\python\\python312\\site-packages (from matplotlib->catboost) (1.3.0)\n",
      "Requirement already satisfied: cycler>=0.10 in c:\\users\\saveliy\\appdata\\roaming\\python\\python312\\site-packages (from matplotlib->catboost) (0.12.1)\n",
      "Requirement already satisfied: fonttools>=4.22.0 in c:\\users\\saveliy\\appdata\\roaming\\python\\python312\\site-packages (from matplotlib->catboost) (4.54.1)\n",
      "Requirement already satisfied: kiwisolver>=1.3.1 in c:\\users\\saveliy\\appdata\\roaming\\python\\python312\\site-packages (from matplotlib->catboost) (1.4.7)\n",
      "Requirement already satisfied: packaging>=20.0 in c:\\programdata\\anaconda3\\lib\\site-packages (from matplotlib->catboost) (24.1)\n",
      "Requirement already satisfied: pillow>=8 in c:\\programdata\\anaconda3\\lib\\site-packages (from matplotlib->catboost) (10.4.0)\n",
      "Requirement already satisfied: pyparsing>=2.3.1 in c:\\users\\saveliy\\appdata\\roaming\\python\\python312\\site-packages (from matplotlib->catboost) (3.2.0)\n",
      "Requirement already satisfied: tenacity>=6.2.0 in c:\\users\\saveliy\\appdata\\roaming\\python\\python312\\site-packages (from plotly->catboost) (9.0.0)\n"
     ]
    }
   ],
   "source": [
    "!pip3 install catboost"
   ]
  },
  {
   "cell_type": "code",
   "execution_count": 2,
   "metadata": {},
   "outputs": [
    {
     "name": "stdout",
     "output_type": "stream",
     "text": [
      "Defaulting to user installation because normal site-packages is not writeable\n",
      "Requirement already satisfied: xgboost in c:\\users\\saveliy\\appdata\\roaming\\python\\python312\\site-packages (3.0.0)\n",
      "Requirement already satisfied: numpy in c:\\users\\saveliy\\appdata\\roaming\\python\\python312\\site-packages (from xgboost) (1.26.4)\n",
      "Requirement already satisfied: scipy in c:\\programdata\\anaconda3\\lib\\site-packages (from xgboost) (1.13.1)\n"
     ]
    }
   ],
   "source": [
    "!pip3 install xgboost"
   ]
  },
  {
   "cell_type": "code",
   "execution_count": 3,
   "metadata": {},
   "outputs": [
    {
     "name": "stdout",
     "output_type": "stream",
     "text": [
      "Defaulting to user installation because normal site-packages is not writeable\n",
      "Requirement already satisfied: lightgbm in c:\\users\\saveliy\\appdata\\roaming\\python\\python312\\site-packages (4.6.0)\n",
      "Requirement already satisfied: numpy>=1.17.0 in c:\\users\\saveliy\\appdata\\roaming\\python\\python312\\site-packages (from lightgbm) (1.26.4)\n",
      "Requirement already satisfied: scipy in c:\\programdata\\anaconda3\\lib\\site-packages (from lightgbm) (1.13.1)\n"
     ]
    }
   ],
   "source": [
    "!pip3 install lightgbm"
   ]
  },
  {
   "cell_type": "code",
   "execution_count": 4,
   "metadata": {
    "id": "dJFtk5AC-Q23"
   },
   "outputs": [],
   "source": [
    "import time\n",
    "import numpy as np\n",
    "import pandas as pd\n",
    "import matplotlib.pyplot as plt\n",
    "\n",
    "from time import time\n",
    "from random import randint\n",
    "from tqdm import tqdm_notebook\n",
    "\n",
    "from sklearn.model_selection import GridSearchCV\n",
    "from sklearn.model_selection import RandomizedSearchCV\n",
    "\n",
    "from sklearn.linear_model import LinearRegression\n",
    "from sklearn.tree import DecisionTreeRegressor\n",
    "from sklearn.ensemble import RandomForestRegressor\n",
    "from xgboost import XGBRegressor\n",
    "from lightgbm import LGBMRegressor\n",
    "from catboost import CatBoostRegressor\n",
    "\n",
    "from sklearn.metrics import mean_squared_error\n",
    "\n",
    "from sklearn.model_selection import  train_test_split\n",
    "from sklearn.preprocessing import OrdinalEncoder, StandardScaler"
   ]
  },
  {
   "cell_type": "markdown",
   "metadata": {
    "id": "CO8EgvtT-Q25"
   },
   "source": [
    "загрузим и проверим данные"
   ]
  },
  {
   "cell_type": "code",
   "execution_count": 5,
   "metadata": {
    "colab": {
     "base_uri": "https://localhost:8080/"
    },
    "id": "RLKhmlCY-Q25",
    "outputId": "638c67ac-4822-4fd4-c7dd-77f1cab2376b"
   },
   "outputs": [
    {
     "name": "stdout",
     "output_type": "stream",
     "text": [
      "<class 'pandas.core.frame.DataFrame'>\n",
      "RangeIndex: 354369 entries, 0 to 354368\n",
      "Data columns (total 16 columns):\n",
      " #   Column             Non-Null Count   Dtype \n",
      "---  ------             --------------   ----- \n",
      " 0   DateCrawled        354369 non-null  object\n",
      " 1   Price              354369 non-null  int64 \n",
      " 2   VehicleType        316879 non-null  object\n",
      " 3   RegistrationYear   354369 non-null  int64 \n",
      " 4   Gearbox            334536 non-null  object\n",
      " 5   Power              354369 non-null  int64 \n",
      " 6   Model              334664 non-null  object\n",
      " 7   Kilometer          354369 non-null  int64 \n",
      " 8   RegistrationMonth  354369 non-null  int64 \n",
      " 9   FuelType           321474 non-null  object\n",
      " 10  Brand              354369 non-null  object\n",
      " 11  Repaired           283215 non-null  object\n",
      " 12  DateCreated        354369 non-null  object\n",
      " 13  NumberOfPictures   354369 non-null  int64 \n",
      " 14  PostalCode         354369 non-null  int64 \n",
      " 15  LastSeen           354369 non-null  object\n",
      "dtypes: int64(7), object(9)\n",
      "memory usage: 43.3+ MB\n"
     ]
    }
   ],
   "source": [
    "data = pd.read_csv(\"autos.csv\")\n",
    "data.head()\n",
    "data.info()\n",
    "len_data_original = len(data)"
   ]
  },
  {
   "cell_type": "markdown",
   "metadata": {
    "id": "sNSBPosF-Q26"
   },
   "source": [
    "переименуем столбцы к нужному стилю"
   ]
  },
  {
   "cell_type": "code",
   "execution_count": 6,
   "metadata": {
    "id": "Y82CVDnk-Q26"
   },
   "outputs": [],
   "source": [
    "data.columns = data.columns.str.lower()\n",
    "data = data.rename(columns={'datecrawled':'date_crawled',\n",
    "                        'vehicletype':'vehicle_type',\n",
    "                        'registrationyear':'registration_year',\n",
    "                        'registrationmonth':'registration_month',\n",
    "                        'fueltype':'fuel_type',\n",
    "                        'notrepaired':'not_repaired',\n",
    "                        'datecreated':'date_created',\n",
    "                        'numberofpictures': 'number_of_pictures',\n",
    "                        'postalcode':'postal_code',\n",
    "                        'lastseen':'last_seen'})"
   ]
  },
  {
   "cell_type": "markdown",
   "metadata": {
    "id": "CoGw6HzK-Q27"
   },
   "source": [
    "узнаем какая последняя дата в данных"
   ]
  },
  {
   "cell_type": "code",
   "execution_count": 7,
   "metadata": {
    "colab": {
     "base_uri": "https://localhost:8080/"
    },
    "id": "LB8pbRkd-Q27",
    "outputId": "6195a8ea-a71b-4ce4-91f7-e03bb82aad3c"
   },
   "outputs": [
    {
     "name": "stdout",
     "output_type": "stream",
     "text": [
      "Крайняя дата выгрузки: 2016-04-07 14:36:58\n"
     ]
    }
   ],
   "source": [
    "print('Крайняя дата выгрузки:', data['date_crawled'].max())"
   ]
  },
  {
   "cell_type": "markdown",
   "metadata": {
    "id": "S0Em-cvO-Q28"
   },
   "source": [
    "посмотрим на значения в колонках"
   ]
  },
  {
   "cell_type": "code",
   "execution_count": 8,
   "metadata": {
    "colab": {
     "base_uri": "https://localhost:8080/"
    },
    "id": "K5BWVN7x-Q28",
    "outputId": "7d58257d-c630-46ae-8568-35ac42d3b79a"
   },
   "outputs": [
    {
     "name": "stdout",
     "output_type": "stream",
     "text": [
      "Уникальные значения\n",
      "date_crawled : ['2016-03-24 11:52:17' '2016-03-24 10:58:45' '2016-03-14 12:52:21' ...\n",
      " '2016-03-21 09:50:58' '2016-03-14 17:48:27' '2016-03-19 18:57:12']\n",
      "price : [  480 18300  9800 ... 12395 18429 10985]\n",
      "vehicle_type : [nan 'coupe' 'suv' 'small' 'sedan' 'convertible' 'bus' 'wagon' 'other']\n",
      "registration_year : [1993 2011 2004 2001 2008 1995 1980 2014 1998 2005 1910 2016 2007 2009\n",
      " 2002 2018 1997 1990 2017 1981 2003 1994 1991 1984 2006 1999 2012 2010\n",
      " 2000 1992 2013 1996 1985 1989 2015 1982 1976 1983 1973 1111 1969 1971\n",
      " 1987 1986 1988 1970 1965 1945 1925 1974 1979 1955 1978 1972 1968 1977\n",
      " 1961 1960 1966 1975 1963 1964 5000 1954 1958 1967 1959 9999 1956 3200\n",
      " 1000 1941 8888 1500 2200 4100 1962 1929 1957 1940 3000 2066 1949 2019\n",
      " 1937 1951 1800 1953 1234 8000 5300 9000 2900 6000 5900 5911 1933 1400\n",
      " 1950 4000 1948 1952 1200 8500 1932 1255 3700 3800 4800 1942 7000 1935\n",
      " 1936 6500 1923 2290 2500 1930 1001 9450 1944 1943 1934 1938 1688 2800\n",
      " 1253 1928 1919 5555 5600 1600 2222 1039 9996 1300 8455 1931 1915 4500\n",
      " 1920 1602 7800 9229 1947 1927 7100 8200 1946 7500 3500]\n",
      "gearbox : ['manual' 'auto' nan]\n",
      "power : [    0   190   163    75    69   102   109    50   125   101   105   140\n",
      "   115   131    60   136   160   231    90   118   193    99   113   218\n",
      "   122   129    70   306    95    61   177    80   170    55   143    64\n",
      "   286   232   150   156    82   155    54   185    87   180    86    84\n",
      "   224   235   200   178   265    77   110   144   120   116   184   126\n",
      "   204    88   194   305   197   179   250    45   313    41   165    98\n",
      "   130   114   211    56   201   213    58   107    83   174   100   220\n",
      "    85    73   192    68    66   299    74    52   147    65   310    71\n",
      "    97   239   203     5   300   103   258   320    63    81   148    44\n",
      "   145   230   280   260   104   188   333   186   117   141    59   132\n",
      "   234   158    39    92    51   135    53   209    43   146    67   106\n",
      "   166   276   344    72   249   237   245   111   326   279    23   138\n",
      "   175    96   226    26    37   301   334   128   133   124    33   219\n",
      "   241   167    94   182   196   238  1398   228   112    48   272   139\n",
      "  1799    40   240    79   256   360   243   375   252   396   340   108\n",
      "   121   345   187   289   222   198   284   450   233   387   152   347\n",
      "   172    57   137   212   476   314    30     7    47   173   290   207\n",
      "   205   171   750    78    91    89   349   325    76   151   350   953\n",
      "    93   142   500   343   199   119   164    16   264   367   208   210\n",
      "    46   435  1001   225   127   176   161   603   307   354    35   206\n",
      "   771   355   273   223   255   123   154   149  7515  1400   268   620\n",
      "   169   400   275    34     2   242  1779   285   162   328  1753   329\n",
      "   134   420   247   168 10317   215    18   330   283    62    10   214\n",
      "   183   254    15   321   322   315   952   600   181   426   599   379\n",
      "   999    22   157    42   195   553     4   309   507   381   271   440\n",
      "   189   401  1111  2729    21   236  1240  1704   521     1  1900   270\n",
      "    24   159   292   808   515  1200   303    29    38  1993    14   216\n",
      "   610   504    49   267   331   363   261   385  1011   253   696 10520\n",
      "   376   227   311    27   217    20  1999    11  1056    25   394    12\n",
      "   298   296  1659   294   551  6920   246    17  1800  1625   368   390\n",
      "   221  1367   259   606   327  2017  1597   266   374   392     9   405\n",
      "    13   262   601   430   295     8   411   900   541  7512   382 10218\n",
      "  7544  1102   287    19   751   297  1090   457   282   602   388     6\n",
      "  1000  5411   335  1360   202  3750   805  1062  1024 11530   364  1796\n",
      "  5000   269   460  1002   288  1780 12012 17932   316  2005  1399   191\n",
      "   278  1300   380   257   449  1256   153  1653   520   560   281 12510\n",
      "     3  1500   386    32  1202  2016  1436  1405   671   274  1288  1055\n",
      " 10912 15016  6226  1115   277  1105   341  1223  2340  8404  1968   338\n",
      "   445  1920   370   517  4400 10710 10522  9010   431  1164 11509   371\n",
      "  1501   428 11635    36   304   348  1703  1910  1995   579 10000   580\n",
      "   408    31  1005   358  1403   489  5575 19211   585   960   365   353\n",
      "   490   352  1801   346   550  3199   800  7508  1312   357  1937   950\n",
      "  4700  1600  3454 19208   251   850   337   700  8011  2331  2789   487\n",
      "   519  2461  6006  3500  5815  6018  1781  1503   612  1596   229  1506\n",
      "  5809 15020  5867  2172  1598 17410  1363   584  1054   851  1339   318\n",
      "   510   525  1700    28  1151   685  6011   317   703  1771 15001   514\n",
      "   362   332   324  6045   530   425   308  6010   475   903   640  2000\n",
      "   248   651  2799 17011   505  1103  1521   351 16051   398  9000  1998\n",
      " 10311   409  1230 17019 12684  8259  1895   901  1317   871   909  2201\n",
      "  1595   776 17700 11011  1199   459  1162  1120 15033  1896   339   361\n",
      "   574  6512   454   650 13616   604   607 16312  1082   336 20000   416\n",
      "   678  6012  1401  1021  1870 13636  1250  9710   323  1158  2009   902\n",
      "  6062  1275   572   244   399  1016   743  1221  2402 16011  1362   544\n",
      "   645   907   702 12512  1986  1003  1432  9013  9011   442  1017  1394\n",
      " 15017 10910  1992   540  2018 11025  1433  1701  2792  1502  1239  1390\n",
      " 14009  1160  1351 11111  1783  9007   923  1149   754  1988   402  2004\n",
      "  5420  1793  1324   356  7511  1299   293 19312  1079  1689   998  1100\n",
      "  9012  1933   508 16311   682  1252  1922  7529   732  2389  2200  1707\n",
      "  1416  8500  1012   485  3000 10110   421  4507  1631  7518   377  1004\n",
      "  2007  2598  1548  1241]\n",
      "model : ['golf' nan 'grand' 'fabia' '3er' '2_reihe' 'other' 'c_max' '3_reihe'\n",
      " 'passat' 'navara' 'ka' 'polo' 'twingo' 'a_klasse' 'scirocco' '5er'\n",
      " 'meriva' 'arosa' 'c4' 'civic' 'transporter' 'punto' 'e_klasse' 'clio'\n",
      " 'kadett' 'kangoo' 'corsa' 'one' 'fortwo' '1er' 'b_klasse' 'signum'\n",
      " 'astra' 'a8' 'jetta' 'fiesta' 'c_klasse' 'micra' 'vito' 'sprinter' '156'\n",
      " 'escort' 'forester' 'xc_reihe' 'scenic' 'a4' 'a1' 'insignia' 'combo'\n",
      " 'focus' 'tt' 'a6' 'jazz' 'omega' 'slk' '7er' '80' '147' '100' 'z_reihe'\n",
      " 'sportage' 'sorento' 'v40' 'ibiza' 'mustang' 'eos' 'touran' 'getz' 'a3'\n",
      " 'almera' 'megane' 'lupo' 'r19' 'zafira' 'caddy' 'mondeo' 'cordoba' 'colt'\n",
      " 'impreza' 'vectra' 'berlingo' 'tiguan' 'i_reihe' 'espace' 'sharan'\n",
      " '6_reihe' 'panda' 'up' 'seicento' 'ceed' '5_reihe' 'yeti' 'octavia' 'mii'\n",
      " 'rx_reihe' '6er' 'modus' 'fox' 'matiz' 'beetle' 'c1' 'rio' 'touareg'\n",
      " 'logan' 'spider' 'cuore' 's_max' 'a2' 'galaxy' 'c3' 'viano' 's_klasse'\n",
      " '1_reihe' 'avensis' 'roomster' 'sl' 'kaefer' 'santa' 'cooper' 'leon'\n",
      " '4_reihe' 'a5' '500' 'laguna' 'ptcruiser' 'clk' 'primera' 'x_reihe'\n",
      " 'exeo' '159' 'transit' 'juke' 'qashqai' 'carisma' 'accord' 'corolla'\n",
      " 'lanos' 'phaeton' 'verso' 'swift' 'rav' 'picanto' 'boxster' 'kalos'\n",
      " 'superb' 'stilo' 'alhambra' 'mx_reihe' 'roadster' 'ypsilon' 'cayenne'\n",
      " 'galant' 'justy' '90' 'sirion' 'crossfire' 'agila' 'duster' 'cr_reihe'\n",
      " 'v50' 'c_reihe' 'v_klasse' 'm_klasse' 'yaris' 'c5' 'aygo' 'cc' 'carnival'\n",
      " 'fusion' '911' 'bora' 'forfour' 'm_reihe' 'cl' 'tigra' '300c' 'spark'\n",
      " 'v70' 'kuga' 'x_type' 'ducato' 's_type' 'x_trail' 'toledo' 'altea'\n",
      " 'voyager' 'calibra' 'bravo' 'antara' 'tucson' 'citigo' 'jimny' 'wrangler'\n",
      " 'lybra' 'q7' 'lancer' 'captiva' 'c2' 'discovery' 'freelander' 'sandero'\n",
      " 'note' '900' 'cherokee' 'clubman' 'samara' 'defender' '601' 'cx_reihe'\n",
      " 'legacy' 'pajero' 'auris' 'niva' 's60' 'nubira' 'vivaro' 'g_klasse'\n",
      " 'lodgy' '850' 'range_rover' 'q3' 'serie_2' 'glk' 'charade' 'croma'\n",
      " 'outlander' 'doblo' 'musa' 'move' '9000' 'v60' '145' 'aveo' '200' 'b_max'\n",
      " 'range_rover_sport' 'terios' 'rangerover' 'q5' 'range_rover_evoque'\n",
      " 'materia' 'delta' 'gl' 'kalina' 'amarok' 'elefantino' 'i3' 'kappa'\n",
      " 'serie_3' 'serie_1']\n",
      "kilometer : [150000 125000  90000  40000  30000  70000   5000 100000  60000  20000\n",
      "  80000  50000  10000]\n",
      "registration_month : [ 0  5  8  6  7 10 12 11  2  3  1  4  9]\n",
      "fuel_type : ['petrol' 'gasoline' nan 'lpg' 'other' 'hybrid' 'cng' 'electric']\n",
      "brand : ['volkswagen' 'audi' 'jeep' 'skoda' 'bmw' 'peugeot' 'ford' 'mazda'\n",
      " 'nissan' 'renault' 'mercedes_benz' 'opel' 'seat' 'citroen' 'honda' 'fiat'\n",
      " 'mini' 'smart' 'hyundai' 'sonstige_autos' 'alfa_romeo' 'subaru' 'volvo'\n",
      " 'mitsubishi' 'kia' 'suzuki' 'lancia' 'toyota' 'chevrolet' 'dacia'\n",
      " 'daihatsu' 'trabant' 'saab' 'chrysler' 'jaguar' 'daewoo' 'porsche'\n",
      " 'rover' 'land_rover' 'lada']\n",
      "repaired : [nan 'yes' 'no']\n",
      "date_created : ['2016-03-24 00:00:00' '2016-03-14 00:00:00' '2016-03-17 00:00:00'\n",
      " '2016-03-31 00:00:00' '2016-04-04 00:00:00' '2016-04-01 00:00:00'\n",
      " '2016-03-21 00:00:00' '2016-03-26 00:00:00' '2016-04-07 00:00:00'\n",
      " '2016-03-15 00:00:00' '2016-03-11 00:00:00' '2016-03-20 00:00:00'\n",
      " '2016-03-23 00:00:00' '2016-03-27 00:00:00' '2016-03-12 00:00:00'\n",
      " '2016-03-13 00:00:00' '2016-03-18 00:00:00' '2016-03-10 00:00:00'\n",
      " '2016-03-07 00:00:00' '2016-03-09 00:00:00' '2016-03-08 00:00:00'\n",
      " '2016-04-03 00:00:00' '2016-03-29 00:00:00' '2016-03-25 00:00:00'\n",
      " '2016-03-28 00:00:00' '2016-03-30 00:00:00' '2016-03-22 00:00:00'\n",
      " '2016-02-09 00:00:00' '2016-03-05 00:00:00' '2016-04-02 00:00:00'\n",
      " '2016-03-16 00:00:00' '2016-03-19 00:00:00' '2016-04-05 00:00:00'\n",
      " '2016-03-06 00:00:00' '2016-02-12 00:00:00' '2016-03-03 00:00:00'\n",
      " '2016-03-01 00:00:00' '2016-03-04 00:00:00' '2016-04-06 00:00:00'\n",
      " '2016-02-15 00:00:00' '2016-02-24 00:00:00' '2016-02-27 00:00:00'\n",
      " '2015-03-20 00:00:00' '2016-02-28 00:00:00' '2016-02-17 00:00:00'\n",
      " '2016-01-27 00:00:00' '2016-02-20 00:00:00' '2016-02-29 00:00:00'\n",
      " '2016-02-10 00:00:00' '2016-02-23 00:00:00' '2016-02-21 00:00:00'\n",
      " '2015-11-02 00:00:00' '2016-02-19 00:00:00' '2016-02-26 00:00:00'\n",
      " '2016-02-11 00:00:00' '2016-01-10 00:00:00' '2016-02-06 00:00:00'\n",
      " '2016-02-18 00:00:00' '2016-01-29 00:00:00' '2016-03-02 00:00:00'\n",
      " '2015-12-06 00:00:00' '2016-01-24 00:00:00' '2016-01-30 00:00:00'\n",
      " '2016-02-02 00:00:00' '2016-02-16 00:00:00' '2016-02-13 00:00:00'\n",
      " '2016-02-05 00:00:00' '2016-02-22 00:00:00' '2015-11-17 00:00:00'\n",
      " '2014-03-10 00:00:00' '2016-02-07 00:00:00' '2016-01-23 00:00:00'\n",
      " '2016-02-25 00:00:00' '2016-02-14 00:00:00' '2016-01-02 00:00:00'\n",
      " '2015-09-04 00:00:00' '2015-11-12 00:00:00' '2015-12-27 00:00:00'\n",
      " '2015-11-24 00:00:00' '2016-01-20 00:00:00' '2016-02-03 00:00:00'\n",
      " '2015-12-05 00:00:00' '2015-08-07 00:00:00' '2016-01-28 00:00:00'\n",
      " '2016-01-31 00:00:00' '2016-02-08 00:00:00' '2016-01-07 00:00:00'\n",
      " '2016-01-22 00:00:00' '2016-01-18 00:00:00' '2016-01-08 00:00:00'\n",
      " '2015-11-23 00:00:00' '2016-01-13 00:00:00' '2016-01-17 00:00:00'\n",
      " '2016-01-15 00:00:00' '2015-11-08 00:00:00' '2016-01-26 00:00:00'\n",
      " '2016-02-04 00:00:00' '2016-01-25 00:00:00' '2016-01-16 00:00:00'\n",
      " '2015-08-10 00:00:00' '2016-01-03 00:00:00' '2016-01-19 00:00:00'\n",
      " '2015-12-30 00:00:00' '2016-02-01 00:00:00' '2015-12-17 00:00:00'\n",
      " '2015-11-10 00:00:00' '2016-01-06 00:00:00' '2015-09-09 00:00:00'\n",
      " '2015-06-18 00:00:00']\n",
      "number_of_pictures : [0]\n",
      "postal_code : [70435 66954 90480 ... 38528 38325 31096]\n",
      "last_seen : ['2016-04-07 03:16:57' '2016-04-07 01:46:50' '2016-04-05 12:47:46' ...\n",
      " '2016-03-19 20:44:43' '2016-03-29 10:17:23' '2016-03-21 10:42:49']\n"
     ]
    }
   ],
   "source": [
    "print('Уникальные значения')\n",
    "for col in data.columns:\n",
    "    print(col, ':', data[col].unique())"
   ]
  },
  {
   "cell_type": "markdown",
   "metadata": {
    "id": "oLOiyzGK-Q28"
   },
   "source": [
    "посмотрим на пропущенные значения"
   ]
  },
  {
   "cell_type": "code",
   "execution_count": 9,
   "metadata": {
    "colab": {
     "base_uri": "https://localhost:8080/",
     "height": 551
    },
    "id": "yCoRIvhn-Q28",
    "outputId": "0bfdd1c0-cad5-4630-8338-d52f77686b35"
   },
   "outputs": [
    {
     "data": {
      "text/html": [
       "<div>\n",
       "<style scoped>\n",
       "    .dataframe tbody tr th:only-of-type {\n",
       "        vertical-align: middle;\n",
       "    }\n",
       "\n",
       "    .dataframe tbody tr th {\n",
       "        vertical-align: top;\n",
       "    }\n",
       "\n",
       "    .dataframe thead th {\n",
       "        text-align: right;\n",
       "    }\n",
       "</style>\n",
       "<table border=\"1\" class=\"dataframe\">\n",
       "  <thead>\n",
       "    <tr style=\"text-align: right;\">\n",
       "      <th></th>\n",
       "      <th>количество</th>\n",
       "      <th>процент</th>\n",
       "    </tr>\n",
       "  </thead>\n",
       "  <tbody>\n",
       "    <tr>\n",
       "      <th>date_crawled</th>\n",
       "      <td>0</td>\n",
       "      <td>0.000000</td>\n",
       "    </tr>\n",
       "    <tr>\n",
       "      <th>price</th>\n",
       "      <td>0</td>\n",
       "      <td>0.000000</td>\n",
       "    </tr>\n",
       "    <tr>\n",
       "      <th>vehicle_type</th>\n",
       "      <td>37490</td>\n",
       "      <td>10.579368</td>\n",
       "    </tr>\n",
       "    <tr>\n",
       "      <th>registration_year</th>\n",
       "      <td>0</td>\n",
       "      <td>0.000000</td>\n",
       "    </tr>\n",
       "    <tr>\n",
       "      <th>gearbox</th>\n",
       "      <td>19833</td>\n",
       "      <td>5.596709</td>\n",
       "    </tr>\n",
       "    <tr>\n",
       "      <th>power</th>\n",
       "      <td>0</td>\n",
       "      <td>0.000000</td>\n",
       "    </tr>\n",
       "    <tr>\n",
       "      <th>model</th>\n",
       "      <td>19705</td>\n",
       "      <td>5.560588</td>\n",
       "    </tr>\n",
       "    <tr>\n",
       "      <th>kilometer</th>\n",
       "      <td>0</td>\n",
       "      <td>0.000000</td>\n",
       "    </tr>\n",
       "    <tr>\n",
       "      <th>registration_month</th>\n",
       "      <td>0</td>\n",
       "      <td>0.000000</td>\n",
       "    </tr>\n",
       "    <tr>\n",
       "      <th>fuel_type</th>\n",
       "      <td>32895</td>\n",
       "      <td>9.282697</td>\n",
       "    </tr>\n",
       "    <tr>\n",
       "      <th>brand</th>\n",
       "      <td>0</td>\n",
       "      <td>0.000000</td>\n",
       "    </tr>\n",
       "    <tr>\n",
       "      <th>repaired</th>\n",
       "      <td>71154</td>\n",
       "      <td>20.079070</td>\n",
       "    </tr>\n",
       "    <tr>\n",
       "      <th>date_created</th>\n",
       "      <td>0</td>\n",
       "      <td>0.000000</td>\n",
       "    </tr>\n",
       "    <tr>\n",
       "      <th>number_of_pictures</th>\n",
       "      <td>0</td>\n",
       "      <td>0.000000</td>\n",
       "    </tr>\n",
       "    <tr>\n",
       "      <th>postal_code</th>\n",
       "      <td>0</td>\n",
       "      <td>0.000000</td>\n",
       "    </tr>\n",
       "    <tr>\n",
       "      <th>last_seen</th>\n",
       "      <td>0</td>\n",
       "      <td>0.000000</td>\n",
       "    </tr>\n",
       "  </tbody>\n",
       "</table>\n",
       "</div>"
      ],
      "text/plain": [
       "                    количество    процент\n",
       "date_crawled                 0   0.000000\n",
       "price                        0   0.000000\n",
       "vehicle_type             37490  10.579368\n",
       "registration_year            0   0.000000\n",
       "gearbox                  19833   5.596709\n",
       "power                        0   0.000000\n",
       "model                    19705   5.560588\n",
       "kilometer                    0   0.000000\n",
       "registration_month           0   0.000000\n",
       "fuel_type                32895   9.282697\n",
       "brand                        0   0.000000\n",
       "repaired                 71154  20.079070\n",
       "date_created                 0   0.000000\n",
       "number_of_pictures           0   0.000000\n",
       "postal_code                  0   0.000000\n",
       "last_seen                    0   0.000000"
      ]
     },
     "execution_count": 9,
     "metadata": {},
     "output_type": "execute_result"
    }
   ],
   "source": [
    "pd.concat([data.isna().sum(), (data.isna().sum() / len(data)) * 100], axis=1, keys=['количество', 'процент'])\n"
   ]
  },
  {
   "cell_type": "code",
   "execution_count": 10,
   "metadata": {
    "colab": {
     "base_uri": "https://localhost:8080/",
     "height": 108
    },
    "id": "lwMo0q0S-Q29",
    "outputId": "81948bcb-9984-40fd-bd3f-9baf7dcb8d96"
   },
   "outputs": [
    {
     "name": "stdout",
     "output_type": "stream",
     "text": [
      "Количество дуюликатов 4\n",
      "процент ко всем данным 0.0011287669068118262\n"
     ]
    },
    {
     "data": {
      "text/html": [
       "<div>\n",
       "<style scoped>\n",
       "    .dataframe tbody tr th:only-of-type {\n",
       "        vertical-align: middle;\n",
       "    }\n",
       "\n",
       "    .dataframe tbody tr th {\n",
       "        vertical-align: top;\n",
       "    }\n",
       "\n",
       "    .dataframe thead th {\n",
       "        text-align: right;\n",
       "    }\n",
       "</style>\n",
       "<table border=\"1\" class=\"dataframe\">\n",
       "  <thead>\n",
       "    <tr style=\"text-align: right;\">\n",
       "      <th></th>\n",
       "      <th>date_crawled</th>\n",
       "      <th>price</th>\n",
       "      <th>vehicle_type</th>\n",
       "      <th>registration_year</th>\n",
       "      <th>gearbox</th>\n",
       "      <th>power</th>\n",
       "      <th>model</th>\n",
       "      <th>kilometer</th>\n",
       "      <th>registration_month</th>\n",
       "      <th>fuel_type</th>\n",
       "      <th>brand</th>\n",
       "      <th>repaired</th>\n",
       "      <th>date_created</th>\n",
       "      <th>number_of_pictures</th>\n",
       "      <th>postal_code</th>\n",
       "      <th>last_seen</th>\n",
       "    </tr>\n",
       "  </thead>\n",
       "  <tbody>\n",
       "    <tr>\n",
       "      <th>171088</th>\n",
       "      <td>2016-03-08 18:42:48</td>\n",
       "      <td>1799</td>\n",
       "      <td>coupe</td>\n",
       "      <td>1999</td>\n",
       "      <td>auto</td>\n",
       "      <td>193</td>\n",
       "      <td>clk</td>\n",
       "      <td>20000</td>\n",
       "      <td>7</td>\n",
       "      <td>petrol</td>\n",
       "      <td>mercedes_benz</td>\n",
       "      <td>no</td>\n",
       "      <td>2016-03-08 00:00:00</td>\n",
       "      <td>0</td>\n",
       "      <td>89518</td>\n",
       "      <td>2016-03-09 09:46:57</td>\n",
       "    </tr>\n",
       "    <tr>\n",
       "      <th>231258</th>\n",
       "      <td>2016-03-28 00:56:10</td>\n",
       "      <td>1000</td>\n",
       "      <td>small</td>\n",
       "      <td>2002</td>\n",
       "      <td>manual</td>\n",
       "      <td>83</td>\n",
       "      <td>other</td>\n",
       "      <td>150000</td>\n",
       "      <td>1</td>\n",
       "      <td>petrol</td>\n",
       "      <td>suzuki</td>\n",
       "      <td>no</td>\n",
       "      <td>2016-03-28 00:00:00</td>\n",
       "      <td>0</td>\n",
       "      <td>66589</td>\n",
       "      <td>2016-03-28 08:46:21</td>\n",
       "    </tr>\n",
       "    <tr>\n",
       "      <th>258109</th>\n",
       "      <td>2016-04-03 09:01:15</td>\n",
       "      <td>4699</td>\n",
       "      <td>coupe</td>\n",
       "      <td>2003</td>\n",
       "      <td>auto</td>\n",
       "      <td>218</td>\n",
       "      <td>clk</td>\n",
       "      <td>125000</td>\n",
       "      <td>6</td>\n",
       "      <td>petrol</td>\n",
       "      <td>mercedes_benz</td>\n",
       "      <td>yes</td>\n",
       "      <td>2016-04-03 00:00:00</td>\n",
       "      <td>0</td>\n",
       "      <td>75196</td>\n",
       "      <td>2016-04-07 09:44:54</td>\n",
       "    </tr>\n",
       "    <tr>\n",
       "      <th>325651</th>\n",
       "      <td>2016-03-18 18:46:15</td>\n",
       "      <td>1999</td>\n",
       "      <td>wagon</td>\n",
       "      <td>2001</td>\n",
       "      <td>manual</td>\n",
       "      <td>131</td>\n",
       "      <td>passat</td>\n",
       "      <td>150000</td>\n",
       "      <td>7</td>\n",
       "      <td>gasoline</td>\n",
       "      <td>volkswagen</td>\n",
       "      <td>no</td>\n",
       "      <td>2016-03-18 00:00:00</td>\n",
       "      <td>0</td>\n",
       "      <td>36391</td>\n",
       "      <td>2016-03-18 18:46:15</td>\n",
       "    </tr>\n",
       "  </tbody>\n",
       "</table>\n",
       "</div>"
      ],
      "text/plain": [
       "               date_crawled  price vehicle_type  registration_year gearbox  \\\n",
       "171088  2016-03-08 18:42:48   1799        coupe               1999    auto   \n",
       "231258  2016-03-28 00:56:10   1000        small               2002  manual   \n",
       "258109  2016-04-03 09:01:15   4699        coupe               2003    auto   \n",
       "325651  2016-03-18 18:46:15   1999        wagon               2001  manual   \n",
       "\n",
       "        power   model  kilometer  registration_month fuel_type          brand  \\\n",
       "171088    193     clk      20000                   7    petrol  mercedes_benz   \n",
       "231258     83   other     150000                   1    petrol         suzuki   \n",
       "258109    218     clk     125000                   6    petrol  mercedes_benz   \n",
       "325651    131  passat     150000                   7  gasoline     volkswagen   \n",
       "\n",
       "       repaired         date_created  number_of_pictures  postal_code  \\\n",
       "171088       no  2016-03-08 00:00:00                   0        89518   \n",
       "231258       no  2016-03-28 00:00:00                   0        66589   \n",
       "258109      yes  2016-04-03 00:00:00                   0        75196   \n",
       "325651       no  2016-03-18 00:00:00                   0        36391   \n",
       "\n",
       "                  last_seen  \n",
       "171088  2016-03-09 09:46:57  \n",
       "231258  2016-03-28 08:46:21  \n",
       "258109  2016-04-07 09:44:54  \n",
       "325651  2016-03-18 18:46:15  "
      ]
     },
     "execution_count": 10,
     "metadata": {},
     "output_type": "execute_result"
    }
   ],
   "source": [
    "print('Количество дуюликатов', data.duplicated().sum())\n",
    "print('процент ко всем данным', data.duplicated().sum()/len(data)*100)\n",
    "data[data.duplicated()]"
   ]
  },
  {
   "cell_type": "markdown",
   "metadata": {
    "id": "asq-Cj3q-Q29"
   },
   "source": [
    "удалим дубликаты"
   ]
  },
  {
   "cell_type": "code",
   "execution_count": 11,
   "metadata": {
    "id": "mrx7WwTA-Q29"
   },
   "outputs": [],
   "source": [
    "data = data.drop_duplicates().reset_index(drop=True)"
   ]
  },
  {
   "cell_type": "markdown",
   "metadata": {
    "id": "3Y9AvxZz-Q2-"
   },
   "source": [
    "удалим данные не повливющие на обучении наших моделей"
   ]
  },
  {
   "cell_type": "code",
   "execution_count": 12,
   "metadata": {
    "colab": {
     "base_uri": "https://localhost:8080/",
     "height": 226
    },
    "id": "VvOsiIH8-Q2-",
    "outputId": "83c97ab6-0d03-46cd-9f12-725e28c06573"
   },
   "outputs": [
    {
     "data": {
      "text/html": [
       "<div>\n",
       "<style scoped>\n",
       "    .dataframe tbody tr th:only-of-type {\n",
       "        vertical-align: middle;\n",
       "    }\n",
       "\n",
       "    .dataframe tbody tr th {\n",
       "        vertical-align: top;\n",
       "    }\n",
       "\n",
       "    .dataframe thead th {\n",
       "        text-align: right;\n",
       "    }\n",
       "</style>\n",
       "<table border=\"1\" class=\"dataframe\">\n",
       "  <thead>\n",
       "    <tr style=\"text-align: right;\">\n",
       "      <th></th>\n",
       "      <th>price</th>\n",
       "      <th>vehicle_type</th>\n",
       "      <th>registration_year</th>\n",
       "      <th>gearbox</th>\n",
       "      <th>power</th>\n",
       "      <th>model</th>\n",
       "      <th>kilometer</th>\n",
       "      <th>fuel_type</th>\n",
       "      <th>brand</th>\n",
       "      <th>repaired</th>\n",
       "    </tr>\n",
       "  </thead>\n",
       "  <tbody>\n",
       "    <tr>\n",
       "      <th>0</th>\n",
       "      <td>480</td>\n",
       "      <td>NaN</td>\n",
       "      <td>1993</td>\n",
       "      <td>manual</td>\n",
       "      <td>0</td>\n",
       "      <td>golf</td>\n",
       "      <td>150000</td>\n",
       "      <td>petrol</td>\n",
       "      <td>volkswagen</td>\n",
       "      <td>NaN</td>\n",
       "    </tr>\n",
       "    <tr>\n",
       "      <th>1</th>\n",
       "      <td>18300</td>\n",
       "      <td>coupe</td>\n",
       "      <td>2011</td>\n",
       "      <td>manual</td>\n",
       "      <td>190</td>\n",
       "      <td>NaN</td>\n",
       "      <td>125000</td>\n",
       "      <td>gasoline</td>\n",
       "      <td>audi</td>\n",
       "      <td>yes</td>\n",
       "    </tr>\n",
       "    <tr>\n",
       "      <th>2</th>\n",
       "      <td>9800</td>\n",
       "      <td>suv</td>\n",
       "      <td>2004</td>\n",
       "      <td>auto</td>\n",
       "      <td>163</td>\n",
       "      <td>grand</td>\n",
       "      <td>125000</td>\n",
       "      <td>gasoline</td>\n",
       "      <td>jeep</td>\n",
       "      <td>NaN</td>\n",
       "    </tr>\n",
       "    <tr>\n",
       "      <th>3</th>\n",
       "      <td>1500</td>\n",
       "      <td>small</td>\n",
       "      <td>2001</td>\n",
       "      <td>manual</td>\n",
       "      <td>75</td>\n",
       "      <td>golf</td>\n",
       "      <td>150000</td>\n",
       "      <td>petrol</td>\n",
       "      <td>volkswagen</td>\n",
       "      <td>no</td>\n",
       "    </tr>\n",
       "    <tr>\n",
       "      <th>4</th>\n",
       "      <td>3600</td>\n",
       "      <td>small</td>\n",
       "      <td>2008</td>\n",
       "      <td>manual</td>\n",
       "      <td>69</td>\n",
       "      <td>fabia</td>\n",
       "      <td>90000</td>\n",
       "      <td>gasoline</td>\n",
       "      <td>skoda</td>\n",
       "      <td>no</td>\n",
       "    </tr>\n",
       "  </tbody>\n",
       "</table>\n",
       "</div>"
      ],
      "text/plain": [
       "   price vehicle_type  registration_year gearbox  power  model  kilometer  \\\n",
       "0    480          NaN               1993  manual      0   golf     150000   \n",
       "1  18300        coupe               2011  manual    190    NaN     125000   \n",
       "2   9800          suv               2004    auto    163  grand     125000   \n",
       "3   1500        small               2001  manual     75   golf     150000   \n",
       "4   3600        small               2008  manual     69  fabia      90000   \n",
       "\n",
       "  fuel_type       brand repaired  \n",
       "0    petrol  volkswagen      NaN  \n",
       "1  gasoline        audi      yes  \n",
       "2  gasoline        jeep      NaN  \n",
       "3    petrol  volkswagen       no  \n",
       "4  gasoline       skoda       no  "
      ]
     },
     "execution_count": 12,
     "metadata": {},
     "output_type": "execute_result"
    }
   ],
   "source": [
    "data = data.drop(['date_crawled', 'registration_month', 'date_created',\n",
    "                  'number_of_pictures', 'postal_code', 'last_seen'], axis=1)\n",
    "data.head()"
   ]
  },
  {
   "cell_type": "code",
   "execution_count": 13,
   "metadata": {
    "colab": {
     "base_uri": "https://localhost:8080/",
     "height": 478
    },
    "id": "77fqOgUS-Q2-",
    "outputId": "7e846ad1-5567-4b70-c6c0-c01fca4510d0"
   },
   "outputs": [
    {
     "name": "stdout",
     "output_type": "stream",
     "text": [
      "Количество дуюликатов 45036\n",
      "процент ко всем данным 12.708930057991056\n"
     ]
    },
    {
     "data": {
      "text/html": [
       "<div>\n",
       "<style scoped>\n",
       "    .dataframe tbody tr th:only-of-type {\n",
       "        vertical-align: middle;\n",
       "    }\n",
       "\n",
       "    .dataframe tbody tr th {\n",
       "        vertical-align: top;\n",
       "    }\n",
       "\n",
       "    .dataframe thead th {\n",
       "        text-align: right;\n",
       "    }\n",
       "</style>\n",
       "<table border=\"1\" class=\"dataframe\">\n",
       "  <thead>\n",
       "    <tr style=\"text-align: right;\">\n",
       "      <th></th>\n",
       "      <th>price</th>\n",
       "      <th>vehicle_type</th>\n",
       "      <th>registration_year</th>\n",
       "      <th>gearbox</th>\n",
       "      <th>power</th>\n",
       "      <th>model</th>\n",
       "      <th>kilometer</th>\n",
       "      <th>fuel_type</th>\n",
       "      <th>brand</th>\n",
       "      <th>repaired</th>\n",
       "    </tr>\n",
       "  </thead>\n",
       "  <tbody>\n",
       "    <tr>\n",
       "      <th>1117</th>\n",
       "      <td>950</td>\n",
       "      <td>small</td>\n",
       "      <td>1999</td>\n",
       "      <td>manual</td>\n",
       "      <td>60</td>\n",
       "      <td>polo</td>\n",
       "      <td>150000</td>\n",
       "      <td>petrol</td>\n",
       "      <td>volkswagen</td>\n",
       "      <td>no</td>\n",
       "    </tr>\n",
       "    <tr>\n",
       "      <th>1396</th>\n",
       "      <td>0</td>\n",
       "      <td>NaN</td>\n",
       "      <td>2000</td>\n",
       "      <td>NaN</td>\n",
       "      <td>0</td>\n",
       "      <td>NaN</td>\n",
       "      <td>150000</td>\n",
       "      <td>NaN</td>\n",
       "      <td>volvo</td>\n",
       "      <td>NaN</td>\n",
       "    </tr>\n",
       "    <tr>\n",
       "      <th>2169</th>\n",
       "      <td>0</td>\n",
       "      <td>coupe</td>\n",
       "      <td>2002</td>\n",
       "      <td>manual</td>\n",
       "      <td>129</td>\n",
       "      <td>c_klasse</td>\n",
       "      <td>150000</td>\n",
       "      <td>petrol</td>\n",
       "      <td>mercedes_benz</td>\n",
       "      <td>no</td>\n",
       "    </tr>\n",
       "    <tr>\n",
       "      <th>2833</th>\n",
       "      <td>1499</td>\n",
       "      <td>small</td>\n",
       "      <td>2001</td>\n",
       "      <td>manual</td>\n",
       "      <td>58</td>\n",
       "      <td>corsa</td>\n",
       "      <td>150000</td>\n",
       "      <td>petrol</td>\n",
       "      <td>opel</td>\n",
       "      <td>no</td>\n",
       "    </tr>\n",
       "    <tr>\n",
       "      <th>3025</th>\n",
       "      <td>2800</td>\n",
       "      <td>wagon</td>\n",
       "      <td>2005</td>\n",
       "      <td>NaN</td>\n",
       "      <td>0</td>\n",
       "      <td>touran</td>\n",
       "      <td>150000</td>\n",
       "      <td>gasoline</td>\n",
       "      <td>volkswagen</td>\n",
       "      <td>no</td>\n",
       "    </tr>\n",
       "    <tr>\n",
       "      <th>...</th>\n",
       "      <td>...</td>\n",
       "      <td>...</td>\n",
       "      <td>...</td>\n",
       "      <td>...</td>\n",
       "      <td>...</td>\n",
       "      <td>...</td>\n",
       "      <td>...</td>\n",
       "      <td>...</td>\n",
       "      <td>...</td>\n",
       "      <td>...</td>\n",
       "    </tr>\n",
       "    <tr>\n",
       "      <th>354348</th>\n",
       "      <td>6500</td>\n",
       "      <td>sedan</td>\n",
       "      <td>2003</td>\n",
       "      <td>auto</td>\n",
       "      <td>145</td>\n",
       "      <td>e_klasse</td>\n",
       "      <td>150000</td>\n",
       "      <td>gasoline</td>\n",
       "      <td>mercedes_benz</td>\n",
       "      <td>no</td>\n",
       "    </tr>\n",
       "    <tr>\n",
       "      <th>354351</th>\n",
       "      <td>4400</td>\n",
       "      <td>sedan</td>\n",
       "      <td>2008</td>\n",
       "      <td>manual</td>\n",
       "      <td>105</td>\n",
       "      <td>leon</td>\n",
       "      <td>150000</td>\n",
       "      <td>gasoline</td>\n",
       "      <td>seat</td>\n",
       "      <td>no</td>\n",
       "    </tr>\n",
       "    <tr>\n",
       "      <th>354354</th>\n",
       "      <td>1490</td>\n",
       "      <td>small</td>\n",
       "      <td>1998</td>\n",
       "      <td>manual</td>\n",
       "      <td>50</td>\n",
       "      <td>lupo</td>\n",
       "      <td>150000</td>\n",
       "      <td>petrol</td>\n",
       "      <td>volkswagen</td>\n",
       "      <td>no</td>\n",
       "    </tr>\n",
       "    <tr>\n",
       "      <th>354355</th>\n",
       "      <td>7900</td>\n",
       "      <td>sedan</td>\n",
       "      <td>2010</td>\n",
       "      <td>manual</td>\n",
       "      <td>140</td>\n",
       "      <td>golf</td>\n",
       "      <td>150000</td>\n",
       "      <td>gasoline</td>\n",
       "      <td>volkswagen</td>\n",
       "      <td>no</td>\n",
       "    </tr>\n",
       "    <tr>\n",
       "      <th>354359</th>\n",
       "      <td>1150</td>\n",
       "      <td>bus</td>\n",
       "      <td>2000</td>\n",
       "      <td>manual</td>\n",
       "      <td>0</td>\n",
       "      <td>zafira</td>\n",
       "      <td>150000</td>\n",
       "      <td>petrol</td>\n",
       "      <td>opel</td>\n",
       "      <td>no</td>\n",
       "    </tr>\n",
       "  </tbody>\n",
       "</table>\n",
       "<p>45036 rows × 10 columns</p>\n",
       "</div>"
      ],
      "text/plain": [
       "        price vehicle_type  registration_year gearbox  power     model  \\\n",
       "1117      950        small               1999  manual     60      polo   \n",
       "1396        0          NaN               2000     NaN      0       NaN   \n",
       "2169        0        coupe               2002  manual    129  c_klasse   \n",
       "2833     1499        small               2001  manual     58     corsa   \n",
       "3025     2800        wagon               2005     NaN      0    touran   \n",
       "...       ...          ...                ...     ...    ...       ...   \n",
       "354348   6500        sedan               2003    auto    145  e_klasse   \n",
       "354351   4400        sedan               2008  manual    105      leon   \n",
       "354354   1490        small               1998  manual     50      lupo   \n",
       "354355   7900        sedan               2010  manual    140      golf   \n",
       "354359   1150          bus               2000  manual      0    zafira   \n",
       "\n",
       "        kilometer fuel_type          brand repaired  \n",
       "1117       150000    petrol     volkswagen       no  \n",
       "1396       150000       NaN          volvo      NaN  \n",
       "2169       150000    petrol  mercedes_benz       no  \n",
       "2833       150000    petrol           opel       no  \n",
       "3025       150000  gasoline     volkswagen       no  \n",
       "...           ...       ...            ...      ...  \n",
       "354348     150000  gasoline  mercedes_benz       no  \n",
       "354351     150000  gasoline           seat       no  \n",
       "354354     150000    petrol     volkswagen       no  \n",
       "354355     150000  gasoline     volkswagen       no  \n",
       "354359     150000    petrol           opel       no  \n",
       "\n",
       "[45036 rows x 10 columns]"
      ]
     },
     "execution_count": 13,
     "metadata": {},
     "output_type": "execute_result"
    }
   ],
   "source": [
    "print('Количество дуюликатов', data.duplicated().sum())\n",
    "print('процент ко всем данным', data.duplicated().sum()/len(data)*100)\n",
    "data[data.duplicated()]\n"
   ]
  },
  {
   "cell_type": "markdown",
   "metadata": {
    "id": "ci7NWg2G-Q2_"
   },
   "source": [
    "стало больше дубликатов данных, они нам не нужны - удалим"
   ]
  },
  {
   "cell_type": "code",
   "execution_count": 14,
   "metadata": {
    "id": "ZXtxRseu-Q2_"
   },
   "outputs": [],
   "source": [
    "data = data.drop_duplicates().reset_index(drop=True)"
   ]
  },
  {
   "cell_type": "markdown",
   "metadata": {
    "id": "RWiexOQn-Q2_"
   },
   "source": [
    "заменим repaired на целочисленный тип, пропуски означают что ремонте небыло"
   ]
  },
  {
   "cell_type": "code",
   "execution_count": 15,
   "metadata": {
    "id": "HURxo9h6-Q2_"
   },
   "outputs": [],
   "source": [
    "#Заменим yes на 1 , no на 0\n",
    "data['repaired'] = data['repaired'].map({'yes':1, 'no':0}).fillna(0).astype('int64')\n"
   ]
  },
  {
   "cell_type": "markdown",
   "metadata": {
    "id": "5XtrX4bf-Q3A"
   },
   "source": [
    "### Выбросы"
   ]
  },
  {
   "cell_type": "markdown",
   "metadata": {
    "id": "h5c4Hykf-Q3A"
   },
   "source": [
    "#### Год регистрации"
   ]
  },
  {
   "cell_type": "markdown",
   "metadata": {
    "id": "W8uzep5A-Q3A"
   },
   "source": [
    "ограничемся автомобилями < датой выгрузки данных и 1900"
   ]
  },
  {
   "cell_type": "code",
   "execution_count": 16,
   "metadata": {
    "id": "ZUltxqho-Q3A"
   },
   "outputs": [],
   "source": [
    "data = data.loc[(data['registration_year'] <= 2016) & (data['registration_year'] >= 1900)]"
   ]
  },
  {
   "cell_type": "code",
   "execution_count": 17,
   "metadata": {
    "colab": {
     "base_uri": "https://localhost:8080/",
     "height": 642
    },
    "id": "hkde_8yE-Q3B",
    "outputId": "fc577ba5-5787-40b9-8b66-a3649982c25a"
   },
   "outputs": [
    {
     "data": {
      "image/png": "[encoded data removed]",
      "text/plain": [
       "<Figure size 1200x900 with 2 Axes>"
      ]
     },
     "metadata": {},
     "output_type": "display_data"
    }
   ],
   "source": [
    "fig, ax = plt.subplots(figsize=(12, 9))\n",
    "\n",
    "# Гистограмма\n",
    "data['registration_year'].dropna().hist(bins=100, ax=ax)\n",
    "ax.set_xlabel('registration_year')\n",
    "ax.set_ylabel('количество')\n",
    "\n",
    "# Ящик с усами\n",
    "ax2 = ax.twinx()\n",
    "ax2.boxplot(data['registration_year'], vert=False)\n",
    "\n",
    "plt.title('Распределение registration_year')\n",
    "plt.show()"
   ]
  },
  {
   "cell_type": "code",
   "execution_count": 18,
   "metadata": {
    "id": "n4UJfYJm-Q3B"
   },
   "outputs": [],
   "source": [
    "data = data.loc[(data['registration_year'] >= data['registration_year'].quantile(0.05))]\n"
   ]
  },
  {
   "cell_type": "code",
   "execution_count": 19,
   "metadata": {
    "colab": {
     "base_uri": "https://localhost:8080/",
     "height": 647
    },
    "id": "p5LhZI-U-Q3C",
    "outputId": "5c2d6d95-38cf-47aa-da0b-f1accff4f977"
   },
   "outputs": [
    {
     "data": {
      "image/png": "[encoded data removed]",
      "text/plain": [
       "<Figure size 1200x900 with 2 Axes>"
      ]
     },
     "metadata": {},
     "output_type": "display_data"
    }
   ],
   "source": [
    "fig, ax = plt.subplots(figsize=(12, 9))\n",
    "\n",
    "# Гистограмма\n",
    "data['registration_year'].dropna().hist(bins=25, ax=ax)\n",
    "ax.set_xlabel('registration_year')\n",
    "ax.set_ylabel('количество')\n",
    "\n",
    "# Ящик с усами\n",
    "ax2 = ax.twinx()\n",
    "ax2.boxplot(data['registration_year'], vert=False)\n",
    "\n",
    "plt.title('Распределение registration_year')\n",
    "plt.show()"
   ]
  },
  {
   "cell_type": "markdown",
   "metadata": {
    "id": "UxoytyGP-Q3D"
   },
   "source": [
    "Мощность двигателя"
   ]
  },
  {
   "cell_type": "code",
   "execution_count": 20,
   "metadata": {
    "colab": {
     "base_uri": "https://localhost:8080/"
    },
    "id": "tuo5o0sk-Q3D",
    "outputId": "8b7fd7b9-9b63-44ca-9f0a-3d445e7a6418",
    "scrolled": true
   },
   "outputs": [
    {
     "data": {
      "text/plain": [
       "power\n",
       "0       29189\n",
       "75      17813\n",
       "150     12003\n",
       "60      11865\n",
       "140     10503\n",
       "        ...  \n",
       "850         1\n",
       "337         1\n",
       "8011        1\n",
       "2331        1\n",
       "1241        1\n",
       "Name: count, Length: 681, dtype: int64"
      ]
     },
     "execution_count": 20,
     "metadata": {},
     "output_type": "execute_result"
    }
   ],
   "source": [
    "data['power'].value_counts()"
   ]
  },
  {
   "cell_type": "markdown",
   "metadata": {
    "id": "DRVyOJOP-Q3E"
   },
   "source": [
    "ограничемся >0 и <1300 т.к. это слишком много"
   ]
  },
  {
   "cell_type": "code",
   "execution_count": 21,
   "metadata": {
    "id": "1X2-i0jQ-Q3E"
   },
   "outputs": [],
   "source": [
    "data = data[(data['power']<=1300)&(data['power']>0)]"
   ]
  },
  {
   "cell_type": "code",
   "execution_count": 22,
   "metadata": {
    "colab": {
     "base_uri": "https://localhost:8080/",
     "height": 642
    },
    "id": "i0kyG6RL-Q3E",
    "outputId": "786864be-4a32-4e98-88d1-c728b0f65a49"
   },
   "outputs": [
    {
     "data": {
      "image/png": "[encoded data removed]",
      "text/plain": [
       "<Figure size 1200x900 with 2 Axes>"
      ]
     },
     "metadata": {},
     "output_type": "display_data"
    }
   ],
   "source": [
    "fig, ax = plt.subplots(figsize=(12, 9))\n",
    "\n",
    "# Гистограмма\n",
    "data['power'].dropna().hist(bins=100, ax=ax)\n",
    "ax.set_xlabel('power')\n",
    "ax.set_ylabel('количество')\n",
    "\n",
    "# Ящик с усами\n",
    "ax2 = ax.twinx()\n",
    "ax2.boxplot(data['power'], vert=False)\n",
    "\n",
    "plt.title('Распределение power')\n",
    "plt.show()"
   ]
  },
  {
   "cell_type": "code",
   "execution_count": 23,
   "metadata": {
    "id": "-d5i6ztq-Q3E"
   },
   "outputs": [],
   "source": [
    "data = data.loc[(data['power'] <= data['power'].quantile(0.95))]"
   ]
  },
  {
   "cell_type": "code",
   "execution_count": 24,
   "metadata": {
    "colab": {
     "base_uri": "https://localhost:8080/",
     "height": 647
    },
    "id": "FgIyxYAO-Q3F",
    "outputId": "8df82dce-b324-41bc-a108-e4d5c5abbd9f"
   },
   "outputs": [
    {
     "data": {
      "image/png": "[encoded data removed]",
      "text/plain": [
       "<Figure size 1200x900 with 2 Axes>"
      ]
     },
     "metadata": {},
     "output_type": "display_data"
    }
   ],
   "source": [
    "\n",
    "fig, ax = plt.subplots(figsize=(12, 9))\n",
    "\n",
    "# Гистограмма\n",
    "data['power'].dropna().hist(bins=25, ax=ax)\n",
    "ax.set_xlabel('power')\n",
    "ax.set_ylabel('количество')\n",
    "\n",
    "# Ящик с усами\n",
    "ax2 = ax.twinx()\n",
    "ax2.boxplot(data['power'], vert=False)\n",
    "\n",
    "plt.title('Распределение power')\n",
    "plt.show()"
   ]
  },
  {
   "cell_type": "markdown",
   "metadata": {
    "id": "Uuai4Lqq-Q3F"
   },
   "source": [
    "посмотрим на распределение целвого признака"
   ]
  },
  {
   "cell_type": "code",
   "execution_count": 25,
   "metadata": {
    "colab": {
     "base_uri": "https://localhost:8080/"
    },
    "id": "WdB4i4eE-Q3F",
    "outputId": "67090aae-2114-4e50-ab09-cb7cc10c1a40"
   },
   "outputs": [
    {
     "data": {
      "text/plain": [
       "price\n",
       "0        4701\n",
       "1500     3379\n",
       "500      3314\n",
       "2500     2863\n",
       "1200     2834\n",
       "         ... \n",
       "10760       1\n",
       "2036        1\n",
       "10830       1\n",
       "1497        1\n",
       "10985       1\n",
       "Name: count, Length: 3442, dtype: int64"
      ]
     },
     "execution_count": 25,
     "metadata": {},
     "output_type": "execute_result"
    }
   ],
   "source": [
    "data['price'].value_counts()"
   ]
  },
  {
   "cell_type": "code",
   "execution_count": 26,
   "metadata": {
    "id": "eU_Q63Si-Q3G"
   },
   "outputs": [],
   "source": [
    "data = data[data['price']>0]"
   ]
  },
  {
   "cell_type": "code",
   "execution_count": 27,
   "metadata": {
    "colab": {
     "base_uri": "https://localhost:8080/",
     "height": 647
    },
    "id": "6_G_-cS--Q3G",
    "outputId": "a789b41d-43a7-47a2-d758-51ddb940a04e"
   },
   "outputs": [
    {
     "data": {
      "image/png": "[encoded data removed]",
      "text/plain": [
       "<Figure size 1200x900 with 2 Axes>"
      ]
     },
     "metadata": {},
     "output_type": "display_data"
    }
   ],
   "source": [
    "fig, ax = plt.subplots(figsize=(12, 9))\n",
    "\n",
    "# Гистограмма\n",
    "data['price'].dropna().hist(bins=100, ax=ax)\n",
    "ax.set_xlabel('price')\n",
    "ax.set_ylabel('количество')\n",
    "\n",
    "# Ящик с усами\n",
    "ax2 = ax.twinx()\n",
    "ax2.boxplot(data['price'], vert=False)\n",
    "\n",
    "plt.title('Распределение price')\n",
    "plt.show()"
   ]
  },
  {
   "cell_type": "code",
   "execution_count": 28,
   "metadata": {
    "colab": {
     "base_uri": "https://localhost:8080/",
     "height": 363
    },
    "id": "8GAdPkUh-Q3H",
    "outputId": "4170e8ba-8961-411a-cb33-0f3f259a0b90",
    "scrolled": true
   },
   "outputs": [
    {
     "data": {
      "text/html": [
       "<div>\n",
       "<style scoped>\n",
       "    .dataframe tbody tr th:only-of-type {\n",
       "        vertical-align: middle;\n",
       "    }\n",
       "\n",
       "    .dataframe tbody tr th {\n",
       "        vertical-align: top;\n",
       "    }\n",
       "\n",
       "    .dataframe thead th {\n",
       "        text-align: right;\n",
       "    }\n",
       "</style>\n",
       "<table border=\"1\" class=\"dataframe\">\n",
       "  <thead>\n",
       "    <tr style=\"text-align: right;\">\n",
       "      <th></th>\n",
       "      <th>количество</th>\n",
       "      <th>процент</th>\n",
       "    </tr>\n",
       "  </thead>\n",
       "  <tbody>\n",
       "    <tr>\n",
       "      <th>price</th>\n",
       "      <td>0</td>\n",
       "      <td>0.000000</td>\n",
       "    </tr>\n",
       "    <tr>\n",
       "      <th>vehicle_type</th>\n",
       "      <td>9810</td>\n",
       "      <td>4.161894</td>\n",
       "    </tr>\n",
       "    <tr>\n",
       "      <th>registration_year</th>\n",
       "      <td>0</td>\n",
       "      <td>0.000000</td>\n",
       "    </tr>\n",
       "    <tr>\n",
       "      <th>gearbox</th>\n",
       "      <td>4723</td>\n",
       "      <td>2.003733</td>\n",
       "    </tr>\n",
       "    <tr>\n",
       "      <th>power</th>\n",
       "      <td>0</td>\n",
       "      <td>0.000000</td>\n",
       "    </tr>\n",
       "    <tr>\n",
       "      <th>model</th>\n",
       "      <td>9033</td>\n",
       "      <td>3.832251</td>\n",
       "    </tr>\n",
       "    <tr>\n",
       "      <th>kilometer</th>\n",
       "      <td>0</td>\n",
       "      <td>0.000000</td>\n",
       "    </tr>\n",
       "    <tr>\n",
       "      <th>fuel_type</th>\n",
       "      <td>13816</td>\n",
       "      <td>5.861440</td>\n",
       "    </tr>\n",
       "    <tr>\n",
       "      <th>brand</th>\n",
       "      <td>0</td>\n",
       "      <td>0.000000</td>\n",
       "    </tr>\n",
       "    <tr>\n",
       "      <th>repaired</th>\n",
       "      <td>0</td>\n",
       "      <td>0.000000</td>\n",
       "    </tr>\n",
       "  </tbody>\n",
       "</table>\n",
       "</div>"
      ],
      "text/plain": [
       "                   количество   процент\n",
       "price                       0  0.000000\n",
       "vehicle_type             9810  4.161894\n",
       "registration_year           0  0.000000\n",
       "gearbox                  4723  2.003733\n",
       "power                       0  0.000000\n",
       "model                    9033  3.832251\n",
       "kilometer                   0  0.000000\n",
       "fuel_type               13816  5.861440\n",
       "brand                       0  0.000000\n",
       "repaired                    0  0.000000"
      ]
     },
     "execution_count": 28,
     "metadata": {},
     "output_type": "execute_result"
    }
   ],
   "source": [
    "# найдем количество пропусков\n",
    "pd.concat([data.isna().sum(), (data.isna().sum() / len(data)) * 100], axis=1, keys=['количество', 'процент'])\n"
   ]
  },
  {
   "cell_type": "markdown",
   "metadata": {
    "id": "abIKsfXj-Q3H"
   },
   "source": [
    "пропуски остались только у строковых"
   ]
  },
  {
   "cell_type": "code",
   "execution_count": 29,
   "metadata": {
    "id": "O4mkB_ji-Q3H"
   },
   "outputs": [],
   "source": [
    "data['vehicle_type'] = data['vehicle_type'].fillna('other')\n",
    "data['gearbox'] = data['gearbox'].fillna('unknown')\n",
    "data['model'] = data['model'].fillna('unknown')\n",
    "data['fuel_type'] = data['fuel_type'].fillna('other')\n"
   ]
  },
  {
   "cell_type": "code",
   "execution_count": 30,
   "metadata": {
    "colab": {
     "base_uri": "https://localhost:8080/"
    },
    "id": "qfEc8VZh-Q3I",
    "outputId": "0b1c153b-ea62-4a9f-cb77-e701926e87ca"
   },
   "outputs": [
    {
     "data": {
      "text/plain": [
       "vehicle_type\n",
       "sedan          62165\n",
       "small          57501\n",
       "wagon          48324\n",
       "bus            22822\n",
       "convertible    14625\n",
       "other          11884\n",
       "coupe          10207\n",
       "suv             8182\n",
       "Name: count, dtype: int64"
      ]
     },
     "execution_count": 30,
     "metadata": {},
     "output_type": "execute_result"
    }
   ],
   "source": [
    "data.vehicle_type.value_counts()"
   ]
  },
  {
   "cell_type": "markdown",
   "metadata": {
    "id": "FIawYrgb-Q3I"
   },
   "source": [
    "опять удалим ненужные дубликаты"
   ]
  },
  {
   "cell_type": "code",
   "execution_count": 31,
   "metadata": {
    "id": "37cZRExO-Q3I"
   },
   "outputs": [],
   "source": [
    "data.duplicated().sum()\n",
    "data = data.drop_duplicates().reset_index(drop=True)"
   ]
  },
  {
   "cell_type": "markdown",
   "metadata": {
    "id": "60RVCBWy-Q3J"
   },
   "source": [
    "на сколько сократился датасет после отбора подхобящих данных"
   ]
  },
  {
   "cell_type": "code",
   "execution_count": 32,
   "metadata": {
    "colab": {
     "base_uri": "https://localhost:8080/"
    },
    "id": "ogSL2VWm-Q3J",
    "outputId": "a0ac1a3a-aad0-4858-ada1-74b3b7b7c9d5"
   },
   "outputs": [
    {
     "data": {
      "text/plain": [
       "35.13907819250555"
      ]
     },
     "execution_count": 32,
     "metadata": {},
     "output_type": "execute_result"
    }
   ],
   "source": [
    "((len_data_original - len(data)) / len_data_original) * 100"
   ]
  },
  {
   "cell_type": "markdown",
   "metadata": {
    "id": "xlBIo-Ru-Q3J"
   },
   "source": [
    "### Вывод\n",
    "\n",
    "Были проанализированы исходные данные с использованием следующих шагов предобработки: удаление явных дубликатов, исключение неинформативных признаков и удаление 35% данных, которые не подходят для обучения модели. Далее было проведено исследование данных, включая обработку аномалий и выбросов, а также заполнение пропущенных значений. В результате этих действий был получен более чистый и надежный набор данных, готовый для дальнейшего анализа и использования."
   ]
  },
  {
   "cell_type": "markdown",
   "metadata": {
    "id": "s-48OvDR-Q3K"
   },
   "source": [
    "## Обучение моделей"
   ]
  },
  {
   "cell_type": "markdown",
   "metadata": {
    "id": "KepSE8Bi-Q3K"
   },
   "source": [
    "преобразование категориальных признаков в числовые с помощью горячего кодирования, исключая целевой признак 'price' из список признаков"
   ]
  },
  {
   "cell_type": "code",
   "execution_count": 33,
   "metadata": {
    "colab": {
     "base_uri": "https://localhost:8080/"
    },
    "id": "qx-K0nEs-Q3K",
    "outputId": "8ac0bb3b-13ad-4287-e801-76f5fbbfa89c"
   },
   "outputs": [
    {
     "name": "stdout",
     "output_type": "stream",
     "text": [
      "(172385, 297) (57462, 297)\n"
     ]
    }
   ],
   "source": [
    "# Разделяем выборки на обучающую и тестовую\n",
    "target_ohe = data['price']\n",
    "features_ohe = data.drop('price', axis=1)\n",
    "\n",
    "features_train_ohe, features_test_ohe, target_train_ohe, target_test_ohe = train_test_split(\n",
    "    features_ohe,\n",
    "    target_ohe,\n",
    "    test_size=0.25,\n",
    "    random_state=12345)\n",
    "\n",
    "# Прямое кодирование (для линейных моделей)\n",
    "features_train_ohe = pd.get_dummies(features_train_ohe, drop_first=True)\n",
    "features_test_ohe = pd.get_dummies(features_test_ohe, drop_first=True)\n",
    "\n",
    "# Находим общие признаки между обучающей и тестовой выборками\n",
    "common_columns = set(features_train_ohe.columns) & set(features_test_ohe.columns)\n",
    "\n",
    "# Оставляем в каждой выборке только общие признаки\n",
    "features_train_ohe = features_train_ohe[list(common_columns)]\n",
    "features_test_ohe = features_test_ohe[list(common_columns)]\n",
    "\n",
    "# Выводим размерности обучающей и тестовой выборок\n",
    "print(features_train_ohe.shape, features_test_ohe.shape)"
   ]
  },
  {
   "cell_type": "markdown",
   "metadata": {
    "id": "EfJIUixV-Q3M"
   },
   "source": [
    "масштабирование признаков с использованием стандартного масштабирования"
   ]
  },
  {
   "cell_type": "code",
   "execution_count": 34,
   "metadata": {
    "id": "wi2GRT7v-Q3M"
   },
   "outputs": [],
   "source": [
    "scaler = StandardScaler()\n",
    "scaler.fit(features_train_ohe[features_train_ohe.columns])\n",
    "features_train_ohe[features_train_ohe.columns] = scaler.fit_transform(features_train_ohe[features_train_ohe.columns])\n",
    "features_test_ohe[features_test_ohe.columns] = scaler.transform(features_test_ohe[features_test_ohe.columns])"
   ]
  },
  {
   "cell_type": "code",
   "execution_count": 35,
   "metadata": {
    "colab": {
     "base_uri": "https://localhost:8080/",
     "height": 256
    },
    "id": "svozBejJ-Q3N",
    "outputId": "27d3fcf7-c03d-4044-9183-921cbc53bc21"
   },
   "outputs": [
    {
     "data": {
      "text/html": [
       "<div>\n",
       "<style scoped>\n",
       "    .dataframe tbody tr th:only-of-type {\n",
       "        vertical-align: middle;\n",
       "    }\n",
       "\n",
       "    .dataframe tbody tr th {\n",
       "        vertical-align: top;\n",
       "    }\n",
       "\n",
       "    .dataframe thead th {\n",
       "        text-align: right;\n",
       "    }\n",
       "</style>\n",
       "<table border=\"1\" class=\"dataframe\">\n",
       "  <thead>\n",
       "    <tr style=\"text-align: right;\">\n",
       "      <th></th>\n",
       "      <th>model_300c</th>\n",
       "      <th>model_jetta</th>\n",
       "      <th>fuel_type_petrol</th>\n",
       "      <th>brand_saab</th>\n",
       "      <th>model_espace</th>\n",
       "      <th>registration_year</th>\n",
       "      <th>model_mustang</th>\n",
       "      <th>model_1er</th>\n",
       "      <th>model_one</th>\n",
       "      <th>model_verso</th>\n",
       "      <th>...</th>\n",
       "      <th>model_touran</th>\n",
       "      <th>model_doblo</th>\n",
       "      <th>model_jimny</th>\n",
       "      <th>model_bravo</th>\n",
       "      <th>gearbox_unknown</th>\n",
       "      <th>model_getz</th>\n",
       "      <th>model_stilo</th>\n",
       "      <th>model_legacy</th>\n",
       "      <th>fuel_type_hybrid</th>\n",
       "      <th>brand_skoda</th>\n",
       "    </tr>\n",
       "  </thead>\n",
       "  <tbody>\n",
       "    <tr>\n",
       "      <th>10267</th>\n",
       "      <td>-0.017702</td>\n",
       "      <td>-0.025724</td>\n",
       "      <td>0.787193</td>\n",
       "      <td>-0.03946</td>\n",
       "      <td>-0.041262</td>\n",
       "      <td>-0.853640</td>\n",
       "      <td>-0.014453</td>\n",
       "      <td>-0.110191</td>\n",
       "      <td>-0.056213</td>\n",
       "      <td>-0.034081</td>\n",
       "      <td>...</td>\n",
       "      <td>-0.101796</td>\n",
       "      <td>-0.033825</td>\n",
       "      <td>-0.027472</td>\n",
       "      <td>-0.032688</td>\n",
       "      <td>-0.144148</td>\n",
       "      <td>-0.035502</td>\n",
       "      <td>-0.042718</td>\n",
       "      <td>-0.023482</td>\n",
       "      <td>-0.027891</td>\n",
       "      <td>-0.139032</td>\n",
       "    </tr>\n",
       "    <tr>\n",
       "      <th>10424</th>\n",
       "      <td>-0.017702</td>\n",
       "      <td>-0.025724</td>\n",
       "      <td>0.787193</td>\n",
       "      <td>-0.03946</td>\n",
       "      <td>-0.041262</td>\n",
       "      <td>-0.853640</td>\n",
       "      <td>-0.014453</td>\n",
       "      <td>-0.110191</td>\n",
       "      <td>-0.056213</td>\n",
       "      <td>-0.034081</td>\n",
       "      <td>...</td>\n",
       "      <td>-0.101796</td>\n",
       "      <td>-0.033825</td>\n",
       "      <td>-0.027472</td>\n",
       "      <td>-0.032688</td>\n",
       "      <td>-0.144148</td>\n",
       "      <td>-0.035502</td>\n",
       "      <td>-0.042718</td>\n",
       "      <td>-0.023482</td>\n",
       "      <td>-0.027891</td>\n",
       "      <td>-0.139032</td>\n",
       "    </tr>\n",
       "    <tr>\n",
       "      <th>219596</th>\n",
       "      <td>-0.017702</td>\n",
       "      <td>-0.025724</td>\n",
       "      <td>0.787193</td>\n",
       "      <td>-0.03946</td>\n",
       "      <td>-0.041262</td>\n",
       "      <td>1.168665</td>\n",
       "      <td>-0.014453</td>\n",
       "      <td>-0.110191</td>\n",
       "      <td>-0.056213</td>\n",
       "      <td>-0.034081</td>\n",
       "      <td>...</td>\n",
       "      <td>-0.101796</td>\n",
       "      <td>-0.033825</td>\n",
       "      <td>-0.027472</td>\n",
       "      <td>-0.032688</td>\n",
       "      <td>-0.144148</td>\n",
       "      <td>-0.035502</td>\n",
       "      <td>-0.042718</td>\n",
       "      <td>-0.023482</td>\n",
       "      <td>-0.027891</td>\n",
       "      <td>-0.139032</td>\n",
       "    </tr>\n",
       "    <tr>\n",
       "      <th>17256</th>\n",
       "      <td>-0.017702</td>\n",
       "      <td>-0.025724</td>\n",
       "      <td>-1.270337</td>\n",
       "      <td>-0.03946</td>\n",
       "      <td>-0.041262</td>\n",
       "      <td>-0.669794</td>\n",
       "      <td>-0.014453</td>\n",
       "      <td>-0.110191</td>\n",
       "      <td>-0.056213</td>\n",
       "      <td>-0.034081</td>\n",
       "      <td>...</td>\n",
       "      <td>-0.101796</td>\n",
       "      <td>-0.033825</td>\n",
       "      <td>-0.027472</td>\n",
       "      <td>-0.032688</td>\n",
       "      <td>-0.144148</td>\n",
       "      <td>-0.035502</td>\n",
       "      <td>-0.042718</td>\n",
       "      <td>-0.023482</td>\n",
       "      <td>-0.027891</td>\n",
       "      <td>-0.139032</td>\n",
       "    </tr>\n",
       "    <tr>\n",
       "      <th>26571</th>\n",
       "      <td>-0.017702</td>\n",
       "      <td>-0.025724</td>\n",
       "      <td>0.787193</td>\n",
       "      <td>-0.03946</td>\n",
       "      <td>-0.041262</td>\n",
       "      <td>-0.669794</td>\n",
       "      <td>-0.014453</td>\n",
       "      <td>-0.110191</td>\n",
       "      <td>-0.056213</td>\n",
       "      <td>-0.034081</td>\n",
       "      <td>...</td>\n",
       "      <td>-0.101796</td>\n",
       "      <td>-0.033825</td>\n",
       "      <td>-0.027472</td>\n",
       "      <td>-0.032688</td>\n",
       "      <td>-0.144148</td>\n",
       "      <td>-0.035502</td>\n",
       "      <td>-0.042718</td>\n",
       "      <td>-0.023482</td>\n",
       "      <td>-0.027891</td>\n",
       "      <td>-0.139032</td>\n",
       "    </tr>\n",
       "  </tbody>\n",
       "</table>\n",
       "<p>5 rows × 297 columns</p>\n",
       "</div>"
      ],
      "text/plain": [
       "        model_300c  model_jetta  fuel_type_petrol  brand_saab  model_espace  \\\n",
       "10267    -0.017702    -0.025724          0.787193    -0.03946     -0.041262   \n",
       "10424    -0.017702    -0.025724          0.787193    -0.03946     -0.041262   \n",
       "219596   -0.017702    -0.025724          0.787193    -0.03946     -0.041262   \n",
       "17256    -0.017702    -0.025724         -1.270337    -0.03946     -0.041262   \n",
       "26571    -0.017702    -0.025724          0.787193    -0.03946     -0.041262   \n",
       "\n",
       "        registration_year  model_mustang  model_1er  model_one  model_verso  \\\n",
       "10267           -0.853640      -0.014453  -0.110191  -0.056213    -0.034081   \n",
       "10424           -0.853640      -0.014453  -0.110191  -0.056213    -0.034081   \n",
       "219596           1.168665      -0.014453  -0.110191  -0.056213    -0.034081   \n",
       "17256           -0.669794      -0.014453  -0.110191  -0.056213    -0.034081   \n",
       "26571           -0.669794      -0.014453  -0.110191  -0.056213    -0.034081   \n",
       "\n",
       "        ...  model_touran  model_doblo  model_jimny  model_bravo  \\\n",
       "10267   ...     -0.101796    -0.033825    -0.027472    -0.032688   \n",
       "10424   ...     -0.101796    -0.033825    -0.027472    -0.032688   \n",
       "219596  ...     -0.101796    -0.033825    -0.027472    -0.032688   \n",
       "17256   ...     -0.101796    -0.033825    -0.027472    -0.032688   \n",
       "26571   ...     -0.101796    -0.033825    -0.027472    -0.032688   \n",
       "\n",
       "        gearbox_unknown  model_getz  model_stilo  model_legacy  \\\n",
       "10267         -0.144148   -0.035502    -0.042718     -0.023482   \n",
       "10424         -0.144148   -0.035502    -0.042718     -0.023482   \n",
       "219596        -0.144148   -0.035502    -0.042718     -0.023482   \n",
       "17256         -0.144148   -0.035502    -0.042718     -0.023482   \n",
       "26571         -0.144148   -0.035502    -0.042718     -0.023482   \n",
       "\n",
       "        fuel_type_hybrid  brand_skoda  \n",
       "10267          -0.027891    -0.139032  \n",
       "10424          -0.027891    -0.139032  \n",
       "219596         -0.027891    -0.139032  \n",
       "17256          -0.027891    -0.139032  \n",
       "26571          -0.027891    -0.139032  \n",
       "\n",
       "[5 rows x 297 columns]"
      ]
     },
     "execution_count": 35,
     "metadata": {},
     "output_type": "execute_result"
    }
   ],
   "source": [
    "features_train_ohe.head()"
   ]
  },
  {
   "cell_type": "markdown",
   "metadata": {
    "id": "8u6OOFV2-Q3O"
   },
   "source": [
    "разделим выборки на обучающую и тестовую"
   ]
  },
  {
   "cell_type": "code",
   "execution_count": 36,
   "metadata": {
    "id": "waaeKKv2-Q3O"
   },
   "outputs": [],
   "source": [
    "target_oe = data['price']\n",
    "features_oe = data.drop('price', axis=1)\n",
    "\n",
    "# разделим выборки на обучающую и тестовую\n",
    "features_train_oe, features_test_oe, target_train_oe, target_test_oe = train_test_split(\n",
    "    features_oe,\n",
    "    target_oe,\n",
    "    test_size=0.25,\n",
    "    random_state=12345)\n"
   ]
  },
  {
   "cell_type": "markdown",
   "metadata": {
    "id": "fmYTogko-Q3N"
   },
   "source": [
    "преобразование категориальных признаков в числовые с использованием метода кодирования порядковых значений"
   ]
  },
  {
   "cell_type": "code",
   "execution_count": 37,
   "metadata": {
    "colab": {
     "base_uri": "https://localhost:8080/"
    },
    "id": "psrrqp_N-Q3O",
    "outputId": "1ee84265-760a-4786-f9ee-e7793aa7b1a6"
   },
   "outputs": [
    {
     "name": "stdout",
     "output_type": "stream",
     "text": [
      "(172385, 9) (57462, 9)\n"
     ]
    }
   ],
   "source": [
    "# порядковое кодирование (для \"деревянных моделей\")\n",
    "encoder = OrdinalEncoder(handle_unknown='use_encoded_value', unknown_value=9999)\n",
    "cat_columns = features_train_oe.select_dtypes(include=['object']).columns\n",
    "\n",
    "encoder.fit(features_train_oe[cat_columns])\n",
    "\n",
    "features_train_oe = features_train_oe.copy()\n",
    "features_test_oe = features_test_oe.copy()\n",
    "\n",
    "features_train_oe[cat_columns] = encoder.transform(features_train_oe[cat_columns])\n",
    "features_test_oe[cat_columns] = encoder.transform(features_test_oe[cat_columns])\n",
    "\n",
    "print(features_train_oe.shape, features_test_oe.shape)"
   ]
  },
  {
   "cell_type": "markdown",
   "metadata": {
    "id": "EUfdrIyD-Q3P"
   },
   "source": [
    "приступим к обучению моделей"
   ]
  },
  {
   "cell_type": "markdown",
   "metadata": {
    "id": "7XPxlJf--Q3Q"
   },
   "source": [
    "### Модель линейной регрессии"
   ]
  },
  {
   "cell_type": "code",
   "execution_count": 38,
   "metadata": {
    "id": "SKYKtunt-Q3Q"
   },
   "outputs": [],
   "source": [
    "result = pd.DataFrame({'name':[],'model':[], 'RMSE':[], 'time_to_predict':[], 'time_to_fit':[]})"
   ]
  },
  {
   "cell_type": "code",
   "execution_count": 39,
   "metadata": {
    "colab": {
     "base_uri": "https://localhost:8080/"
    },
    "id": "SSk0Yqfj-Q3Q",
    "outputId": "7d744ae0-cec5-45f3-dde5-fb6f86756936"
   },
   "outputs": [
    {
     "name": "stdout",
     "output_type": "stream",
     "text": [
      "Модель предсказывает за 0.12 секунд, обучается за 0.89 секунд\n",
      "RMSE: 2235.5266446101364\n",
      "CPU times: total: 6.38 s\n",
      "Wall time: 1.02 s\n"
     ]
    },
    {
     "name": "stderr",
     "output_type": "stream",
     "text": [
      "C:\\Users\\saveliy\\AppData\\Roaming\\Python\\Python312\\site-packages\\sklearn\\metrics\\_regression.py:492: FutureWarning: 'squared' is deprecated in version 1.4 and will be removed in 1.6. To calculate the root mean squared error, use the function'root_mean_squared_error'.\n",
      "  warnings.warn(\n"
     ]
    }
   ],
   "source": [
    "%%time\n",
    "model_lr = LinearRegression()\n",
    "start = time()\n",
    "model_lr.fit(features_train_ohe, target_train_ohe)\n",
    "time_to_fit = time() - start\n",
    "\n",
    "start = time()\n",
    "predicted = model_lr.predict(features_train_ohe)\n",
    "time_to_predict = time() - start\n",
    "rmse = mean_squared_error(target_train_ohe, predicted, squared=False)\n",
    "result.loc[0] = ['LinearRegression',model_lr,rmse,time_to_predict,time_to_fit]\n",
    "print('Модель предсказывает за %.2f секунд, обучается за %.2f секунд' % (time_to_predict, time_to_fit))\n",
    "print('RMSE:', rmse)"
   ]
  },
  {
   "cell_type": "markdown",
   "metadata": {
    "id": "6_ifS0Eo-Q3R"
   },
   "source": [
    "### Модель решающего дерева"
   ]
  },
  {
   "cell_type": "code",
   "execution_count": 40,
   "metadata": {
    "colab": {
     "base_uri": "https://localhost:8080/"
    },
    "id": "ctyKu0wI-Q3R",
    "outputId": "c32a3048-882f-47d6-a94a-c53c5de2df9b"
   },
   "outputs": [
    {
     "name": "stdout",
     "output_type": "stream",
     "text": [
      "Модель предсказывает за 0.02 секунд, обучается за 7.16 секунд\n",
      "RMSE: 1190.6614263662834 .с параметрами {'max_depth': 16}\n",
      "CPU times: total: 7.17 s\n",
      "Wall time: 7.18 s\n"
     ]
    },
    {
     "name": "stderr",
     "output_type": "stream",
     "text": [
      "C:\\Users\\saveliy\\AppData\\Roaming\\Python\\Python312\\site-packages\\sklearn\\metrics\\_regression.py:492: FutureWarning: 'squared' is deprecated in version 1.4 and will be removed in 1.6. To calculate the root mean squared error, use the function'root_mean_squared_error'.\n",
      "  warnings.warn(\n"
     ]
    }
   ],
   "source": [
    "%%time\n",
    "params = {'max_depth': range(2,20)}\n",
    "\n",
    "model_DTR = GridSearchCV(DecisionTreeRegressor(random_state=12345),\n",
    "                     param_grid=params, scoring='neg_mean_absolute_error', cv=3)\n",
    "start = time()\n",
    "model_DTR.fit(features_train_oe, target_train_oe)\n",
    "time_to_fit = time() - start\n",
    "start = time()\n",
    "predictions = model_DTR.predict(features_train_oe)\n",
    "time_to_predict = time() - start\n",
    "rmse = mean_squared_error(target_train_oe, predictions, squared=False)\n",
    "print('Модель предсказывает за %.2f секунд, обучается за %.2f секунд' % (time_to_predict, time_to_fit))\n",
    "print('RMSE:', rmse,'.с параметрами',model_DTR.best_params_)\n",
    "result.loc[1] = ['DecisionTree',model_DTR,rmse,time_to_predict,time_to_fit]"
   ]
  },
  {
   "cell_type": "markdown",
   "metadata": {
    "id": "55mfoO9m-Q3S"
   },
   "source": [
    "### Модель случайного леса"
   ]
  },
  {
   "cell_type": "code",
   "execution_count": 41,
   "metadata": {
    "colab": {
     "base_uri": "https://localhost:8080/"
    },
    "id": "W2DbRna2-Q3S",
    "outputId": "f287b203-ffbb-4b2d-abc9-e354cb9667c0"
   },
   "outputs": [
    {
     "name": "stdout",
     "output_type": "stream",
     "text": [
      "Fitting 3 folds for each of 7 candidates, totalling 21 fits\n",
      "Модель предсказывает за 5.44 секунд, обучается за 111.91 секунд\n",
      "RMSE: 1200.142853186144 .с параметрами {'n_estimators': 300, 'max_depth': 15}\n",
      "CPU times: total: 54 s\n",
      "Wall time: 1min 57s\n"
     ]
    },
    {
     "name": "stderr",
     "output_type": "stream",
     "text": [
      "C:\\Users\\saveliy\\AppData\\Roaming\\Python\\Python312\\site-packages\\sklearn\\metrics\\_regression.py:492: FutureWarning: 'squared' is deprecated in version 1.4 and will be removed in 1.6. To calculate the root mean squared error, use the function'root_mean_squared_error'.\n",
      "  warnings.warn(\n"
     ]
    }
   ],
   "source": [
    "%%time\n",
    "params = {\n",
    "    'max_depth': [11, 12, 13, 15],\n",
    "    'n_estimators': [100, 300]\n",
    "}\n",
    "\n",
    "\n",
    "model_RF = RandomizedSearchCV(estimator = RandomForestRegressor(random_state=12345),\n",
    "                              param_distributions=params, scoring='neg_mean_absolute_error', cv=3, n_iter=7,  n_jobs=-1, verbose=1)\n",
    "start = time()\n",
    "model_RF.fit(features_train_oe, target_train_oe)\n",
    "time_to_fit = time() - start\n",
    "start = time()\n",
    "predictions = model_RF.predict(features_train_oe)\n",
    "time_to_predict = time() - start\n",
    "\n",
    "rmse = mean_squared_error(target_train_oe, predictions, squared=False)\n",
    "print('Модель предсказывает за %.2f секунд, обучается за %.2f секунд' % (time_to_predict, time_to_fit))\n",
    "print('RMSE:', rmse,'.с параметрами',model_RF.best_params_)\n",
    "result.loc[2] = ['RandomForest',model_RF,rmse,time_to_predict,time_to_fit]"
   ]
  },
  {
   "cell_type": "markdown",
   "metadata": {
    "id": "3kzFKFSk-Q3S"
   },
   "source": [
    " ### LightGBM"
   ]
  },
  {
   "cell_type": "code",
   "execution_count": 42,
   "metadata": {
    "colab": {
     "base_uri": "https://localhost:8080/"
    },
    "id": "tc7MkVU5-Q3T",
    "outputId": "79b588fc-062a-40a4-8ab2-529e1986c7b1"
   },
   "outputs": [
    {
     "name": "stdout",
     "output_type": "stream",
     "text": [
      "подбор параметров\n",
      "обучение\n",
      "[LightGBM] [Info] Auto-choosing row-wise multi-threading, the overhead of testing was 0.002740 seconds.\n",
      "You can set `force_row_wise=true` to remove the overhead.\n",
      "And if memory is not enough, you can set `force_col_wise=true`.\n",
      "[LightGBM] [Info] Total Bins 554\n",
      "[LightGBM] [Info] Number of data points in the train set: 172385, number of used features: 9\n",
      "[LightGBM] [Info] Start training from score 4708.535482\n",
      "Модель предсказывает за 0.06 секунд, обучается за 5.83 секунд\n",
      "RMSE: 1463.8501872937152 .с параметрами {'max_depth': 10, 'learning_rate': 0.15}\n",
      "CPU times: total: 3.16 s\n",
      "Wall time: 5.89 s\n"
     ]
    },
    {
     "name": "stderr",
     "output_type": "stream",
     "text": [
      "C:\\Users\\saveliy\\AppData\\Roaming\\Python\\Python312\\site-packages\\sklearn\\metrics\\_regression.py:492: FutureWarning: 'squared' is deprecated in version 1.4 and will be removed in 1.6. To calculate the root mean squared error, use the function'root_mean_squared_error'.\n",
      "  warnings.warn(\n"
     ]
    }
   ],
   "source": [
    "%%time\n",
    "params = {\n",
    "    'max_depth': [5, 10, 15, 25],\n",
    "    'learning_rate': [0.01, 0.1, 0.15]\n",
    "}\n",
    "print('подбор параметров')\n",
    "model_LGBM = RandomizedSearchCV(estimator = LGBMRegressor(boosting_type='gbdt',\n",
    "                         objective = 'regression',\n",
    "                         metric = 'RMSE'),\n",
    "                              param_distributions=params, scoring='neg_mean_absolute_error', cv=3, n_iter=10,  n_jobs=-1)\n",
    "print('обучение')\n",
    "start = time()\n",
    "model_LGBM.fit(features_train_oe, target_train_oe)\n",
    "time_to_fit = time() - start\n",
    "start = time()\n",
    "predictions = model_LGBM.predict(features_train_oe)\n",
    "time_to_predict = time() - start\n",
    "\n",
    "rmse = mean_squared_error(target_train_oe, predictions, squared=False)\n",
    "print('Модель предсказывает за %.2f секунд, обучается за %.2f секунд' % (time_to_predict, time_to_fit))\n",
    "print('RMSE:', rmse,'.с параметрами',model_LGBM.best_params_)\n",
    "result.loc[3] = ['LightGBM',model_LGBM,rmse,time_to_predict,time_to_fit]"
   ]
  },
  {
   "cell_type": "markdown",
   "metadata": {
    "id": "611jc7VP-Q3T"
   },
   "source": [
    "### XGBoost"
   ]
  },
  {
   "cell_type": "code",
   "execution_count": 43,
   "metadata": {
    "colab": {
     "base_uri": "https://localhost:8080/"
    },
    "id": "EKy07r6Q-Q3T",
    "outputId": "5e34bcd1-26f0-40b6-ebe3-491a417cd2b2"
   },
   "outputs": [
    {
     "name": "stdout",
     "output_type": "stream",
     "text": [
      "подбор параметров\n",
      "обучение\n",
      "Fitting 3 folds for each of 8 candidates, totalling 24 fits\n",
      "Модель предсказывает за 0.08 секунд, обучается за 13.40 секунд\n",
      "RMSE: 1060.8937108873622 .с параметрами {'max_depth': 12, 'learning_rate': 0.1}\n",
      "CPU times: total: 17.7 s\n",
      "Wall time: 13.5 s\n"
     ]
    },
    {
     "name": "stderr",
     "output_type": "stream",
     "text": [
      "C:\\Users\\saveliy\\AppData\\Roaming\\Python\\Python312\\site-packages\\sklearn\\metrics\\_regression.py:492: FutureWarning: 'squared' is deprecated in version 1.4 and will be removed in 1.6. To calculate the root mean squared error, use the function'root_mean_squared_error'.\n",
      "  warnings.warn(\n"
     ]
    }
   ],
   "source": [
    "%%time\n",
    "params = {\n",
    "    'max_depth': [12, 13, 14],\n",
    "    'learning_rate': [0.1, 0.15, 0.3]\n",
    "}\n",
    "\n",
    "\n",
    "print('подбор параметров')\n",
    "model_XGB = RandomizedSearchCV(estimator = XGBRegressor(booster='gbtree',\n",
    "                      eval_metric='rmse',\n",
    "                      use_rmm=True),\n",
    "                        param_distributions=params, scoring='neg_mean_absolute_error', cv=3, n_iter=8,  n_jobs=-1,verbose=1)\n",
    "print('обучение')\n",
    "start = time()\n",
    "model_XGB.fit(features_train_oe, target_train_oe)\n",
    "time_to_fit = time() - start\n",
    "start = time()\n",
    "predictions = model_XGB.predict(features_train_oe)\n",
    "time_to_predict = time() - start\n",
    "rmse = mean_squared_error(target_train_oe, predictions, squared=False)\n",
    "print('Модель предсказывает за %.2f секунд, обучается за %.2f секунд' % (time_to_predict, time_to_fit))\n",
    "print('RMSE:', rmse,'.с параметрами',model_XGB.best_params_)\n",
    "result.loc[4] = ['XGBoost',model_XGB,rmse,time_to_predict,time_to_fit]\n"
   ]
  },
  {
   "cell_type": "markdown",
   "metadata": {
    "id": "vskfZlKl-Q3U"
   },
   "source": [
    "### CatBoost"
   ]
  },
  {
   "cell_type": "code",
   "execution_count": 44,
   "metadata": {
    "colab": {
     "base_uri": "https://localhost:8080/"
    },
    "id": "VMHHdmLE-Q3U",
    "outputId": "ef7ebcfa-01c2-4706-ad56-d7664360b3eb"
   },
   "outputs": [
    {
     "name": "stdout",
     "output_type": "stream",
     "text": [
      "подбор параметров\n",
      "обучение\n"
     ]
    },
    {
     "name": "stderr",
     "output_type": "stream",
     "text": [
      "C:\\Users\\saveliy\\AppData\\Roaming\\Python\\Python312\\site-packages\\sklearn\\model_selection\\_validation.py:540: FitFailedWarning: \n",
      "3 fits failed out of a total of 18.\n",
      "The score on these train-test partitions for these parameters will be set to nan.\n",
      "If these failures are not expected, you can try to debug them by setting error_score='raise'.\n",
      "\n",
      "Below are more details about the failures:\n",
      "--------------------------------------------------------------------------------\n",
      "3 fits failed with the following error:\n",
      "Traceback (most recent call last):\n",
      "  File \"C:\\Users\\saveliy\\AppData\\Roaming\\Python\\Python312\\site-packages\\sklearn\\model_selection\\_validation.py\", line 888, in _fit_and_score\n",
      "    estimator.fit(X_train, y_train, **fit_params)\n",
      "  File \"C:\\Users\\saveliy\\AppData\\Roaming\\Python\\Python312\\site-packages\\catboost\\core.py\", line 5873, in fit\n",
      "    return self._fit(X, y, cat_features, text_features, embedding_features, None, graph, sample_weight, None, None, None, None, baseline,\n",
      "           ^^^^^^^^^^^^^^^^^^^^^^^^^^^^^^^^^^^^^^^^^^^^^^^^^^^^^^^^^^^^^^^^^^^^^^^^^^^^^^^^^^^^^^^^^^^^^^^^^^^^^^^^^^^^^^^^^^^^^^^^^^^^^^\n",
      "  File \"C:\\Users\\saveliy\\AppData\\Roaming\\Python\\Python312\\site-packages\\catboost\\core.py\", line 2410, in _fit\n",
      "    self._train(\n",
      "  File \"C:\\Users\\saveliy\\AppData\\Roaming\\Python\\Python312\\site-packages\\catboost\\core.py\", line 1790, in _train\n",
      "    self._object._train(train_pool, test_pool, params, allow_clear_pool, init_model._object if init_model else None)\n",
      "  File \"_catboost.pyx\", line 5017, in _catboost._CatBoost._train\n",
      "  File \"_catboost.pyx\", line 5066, in _catboost._CatBoost._train\n",
      "_catboost.CatBoostError: catboost/libs/train_lib/dir_helper.cpp:20: Can't create train working dir: catboost_info\n",
      "\n",
      "  warnings.warn(some_fits_failed_message, FitFailedWarning)\n",
      "C:\\Users\\saveliy\\AppData\\Roaming\\Python\\Python312\\site-packages\\sklearn\\model_selection\\_search.py:1103: UserWarning: One or more of the test scores are non-finite: [          nan           nan           nan -913.11759249 -917.55209224\n",
      " -923.51075401]\n",
      "  warnings.warn(\n"
     ]
    },
    {
     "name": "stdout",
     "output_type": "stream",
     "text": [
      "0:\tlearn: 3808.3910384\ttotal: 150ms\tremaining: 2m 29s\n",
      "1:\tlearn: 3322.4728883\ttotal: 159ms\tremaining: 1m 19s\n",
      "2:\tlearn: 2950.9191319\ttotal: 166ms\tremaining: 55.3s\n",
      "3:\tlearn: 2674.4317281\ttotal: 175ms\tremaining: 43.5s\n",
      "4:\tlearn: 2456.8918514\ttotal: 183ms\tremaining: 36.3s\n",
      "5:\tlearn: 2282.4199018\ttotal: 190ms\tremaining: 31.4s\n",
      "6:\tlearn: 2163.7385997\ttotal: 196ms\tremaining: 27.8s\n",
      "7:\tlearn: 2069.2935196\ttotal: 203ms\tremaining: 25.2s\n",
      "8:\tlearn: 1998.3419131\ttotal: 209ms\tremaining: 23s\n",
      "9:\tlearn: 1940.9624846\ttotal: 216ms\tremaining: 21.4s\n",
      "10:\tlearn: 1897.7310209\ttotal: 223ms\tremaining: 20s\n",
      "11:\tlearn: 1863.5412737\ttotal: 229ms\tremaining: 18.8s\n",
      "12:\tlearn: 1822.5912306\ttotal: 235ms\tremaining: 17.9s\n",
      "13:\tlearn: 1796.7231633\ttotal: 242ms\tremaining: 17s\n",
      "14:\tlearn: 1766.0087667\ttotal: 248ms\tremaining: 16.3s\n",
      "15:\tlearn: 1747.9037814\ttotal: 254ms\tremaining: 15.7s\n",
      "16:\tlearn: 1730.7157651\ttotal: 261ms\tremaining: 15.1s\n",
      "17:\tlearn: 1712.5268068\ttotal: 268ms\tremaining: 14.6s\n",
      "18:\tlearn: 1697.4824134\ttotal: 274ms\tremaining: 14.2s\n",
      "19:\tlearn: 1687.3191746\ttotal: 280ms\tremaining: 13.7s\n",
      "20:\tlearn: 1674.8725811\ttotal: 287ms\tremaining: 13.4s\n",
      "21:\tlearn: 1664.4662462\ttotal: 293ms\tremaining: 13s\n",
      "22:\tlearn: 1655.1328267\ttotal: 299ms\tremaining: 12.7s\n",
      "23:\tlearn: 1647.1935017\ttotal: 306ms\tremaining: 12.4s\n",
      "24:\tlearn: 1638.4486972\ttotal: 312ms\tremaining: 12.2s\n",
      "25:\tlearn: 1630.4703849\ttotal: 318ms\tremaining: 11.9s\n",
      "26:\tlearn: 1623.8978283\ttotal: 324ms\tremaining: 11.7s\n",
      "27:\tlearn: 1618.0510539\ttotal: 330ms\tremaining: 11.4s\n",
      "28:\tlearn: 1611.1309300\ttotal: 336ms\tremaining: 11.2s\n",
      "29:\tlearn: 1607.2087440\ttotal: 343ms\tremaining: 11.1s\n",
      "30:\tlearn: 1600.3686259\ttotal: 350ms\tremaining: 10.9s\n",
      "31:\tlearn: 1596.6608156\ttotal: 356ms\tremaining: 10.8s\n",
      "32:\tlearn: 1592.2368098\ttotal: 362ms\tremaining: 10.6s\n",
      "33:\tlearn: 1589.6356011\ttotal: 368ms\tremaining: 10.5s\n",
      "34:\tlearn: 1585.9926634\ttotal: 375ms\tremaining: 10.3s\n",
      "35:\tlearn: 1583.5098016\ttotal: 381ms\tremaining: 10.2s\n",
      "36:\tlearn: 1577.3045466\ttotal: 388ms\tremaining: 10.1s\n",
      "37:\tlearn: 1573.9461087\ttotal: 393ms\tremaining: 9.96s\n",
      "38:\tlearn: 1572.0441673\ttotal: 399ms\tremaining: 9.83s\n",
      "39:\tlearn: 1568.3576748\ttotal: 406ms\tremaining: 9.74s\n",
      "40:\tlearn: 1565.2130774\ttotal: 412ms\tremaining: 9.63s\n",
      "41:\tlearn: 1562.2426712\ttotal: 419ms\tremaining: 9.54s\n",
      "42:\tlearn: 1558.7374027\ttotal: 425ms\tremaining: 9.45s\n",
      "43:\tlearn: 1556.4361043\ttotal: 431ms\tremaining: 9.36s\n",
      "44:\tlearn: 1553.2537549\ttotal: 437ms\tremaining: 9.27s\n",
      "45:\tlearn: 1550.2816273\ttotal: 443ms\tremaining: 9.19s\n",
      "46:\tlearn: 1545.9952748\ttotal: 450ms\tremaining: 9.12s\n",
      "47:\tlearn: 1543.7363029\ttotal: 456ms\tremaining: 9.04s\n",
      "48:\tlearn: 1542.4213593\ttotal: 462ms\tremaining: 8.96s\n",
      "49:\tlearn: 1539.2460942\ttotal: 468ms\tremaining: 8.9s\n",
      "50:\tlearn: 1536.9486220\ttotal: 474ms\tremaining: 8.82s\n",
      "51:\tlearn: 1534.9598261\ttotal: 481ms\tremaining: 8.76s\n",
      "52:\tlearn: 1533.0313208\ttotal: 487ms\tremaining: 8.69s\n",
      "53:\tlearn: 1529.9401277\ttotal: 493ms\tremaining: 8.64s\n",
      "54:\tlearn: 1528.7187739\ttotal: 499ms\tremaining: 8.57s\n",
      "55:\tlearn: 1526.8437951\ttotal: 505ms\tremaining: 8.51s\n",
      "56:\tlearn: 1525.5619863\ttotal: 511ms\tremaining: 8.46s\n",
      "57:\tlearn: 1523.9325556\ttotal: 516ms\tremaining: 8.38s\n",
      "58:\tlearn: 1521.3737720\ttotal: 523ms\tremaining: 8.34s\n",
      "59:\tlearn: 1518.4849508\ttotal: 530ms\tremaining: 8.3s\n",
      "60:\tlearn: 1517.1018532\ttotal: 536ms\tremaining: 8.25s\n",
      "61:\tlearn: 1515.3558881\ttotal: 543ms\tremaining: 8.22s\n",
      "62:\tlearn: 1513.4438943\ttotal: 550ms\tremaining: 8.18s\n",
      "63:\tlearn: 1511.4108256\ttotal: 557ms\tremaining: 8.14s\n",
      "64:\tlearn: 1508.7650815\ttotal: 564ms\tremaining: 8.11s\n",
      "65:\tlearn: 1506.7462921\ttotal: 571ms\tremaining: 8.07s\n",
      "66:\tlearn: 1505.1429358\ttotal: 577ms\tremaining: 8.04s\n",
      "67:\tlearn: 1504.1051032\ttotal: 584ms\tremaining: 8s\n",
      "68:\tlearn: 1502.7637650\ttotal: 590ms\tremaining: 7.97s\n",
      "69:\tlearn: 1500.6460163\ttotal: 597ms\tremaining: 7.94s\n",
      "70:\tlearn: 1498.7596881\ttotal: 605ms\tremaining: 7.91s\n",
      "71:\tlearn: 1497.4132302\ttotal: 611ms\tremaining: 7.87s\n",
      "72:\tlearn: 1496.3092796\ttotal: 618ms\tremaining: 7.84s\n",
      "73:\tlearn: 1495.0918936\ttotal: 624ms\tremaining: 7.81s\n",
      "74:\tlearn: 1493.1251202\ttotal: 631ms\tremaining: 7.79s\n",
      "75:\tlearn: 1491.4872178\ttotal: 638ms\tremaining: 7.76s\n",
      "76:\tlearn: 1490.2584485\ttotal: 645ms\tremaining: 7.73s\n",
      "77:\tlearn: 1488.9971628\ttotal: 651ms\tremaining: 7.7s\n",
      "78:\tlearn: 1487.1579359\ttotal: 658ms\tremaining: 7.67s\n",
      "79:\tlearn: 1485.0540623\ttotal: 666ms\tremaining: 7.66s\n",
      "80:\tlearn: 1483.8319777\ttotal: 672ms\tremaining: 7.63s\n",
      "81:\tlearn: 1482.6105646\ttotal: 679ms\tremaining: 7.6s\n",
      "82:\tlearn: 1481.3823560\ttotal: 685ms\tremaining: 7.57s\n",
      "83:\tlearn: 1480.3007163\ttotal: 691ms\tremaining: 7.54s\n",
      "84:\tlearn: 1478.5465268\ttotal: 697ms\tremaining: 7.5s\n",
      "85:\tlearn: 1477.1582799\ttotal: 703ms\tremaining: 7.47s\n",
      "86:\tlearn: 1475.1613791\ttotal: 710ms\tremaining: 7.45s\n",
      "87:\tlearn: 1473.8291391\ttotal: 716ms\tremaining: 7.42s\n",
      "88:\tlearn: 1472.5314987\ttotal: 723ms\tremaining: 7.4s\n",
      "89:\tlearn: 1471.1664183\ttotal: 728ms\tremaining: 7.37s\n",
      "90:\tlearn: 1470.1091379\ttotal: 735ms\tremaining: 7.34s\n",
      "91:\tlearn: 1468.6968992\ttotal: 741ms\tremaining: 7.32s\n",
      "92:\tlearn: 1467.6021724\ttotal: 747ms\tremaining: 7.29s\n",
      "93:\tlearn: 1466.1109169\ttotal: 754ms\tremaining: 7.27s\n",
      "94:\tlearn: 1465.1974485\ttotal: 760ms\tremaining: 7.24s\n",
      "95:\tlearn: 1463.6900987\ttotal: 766ms\tremaining: 7.21s\n",
      "96:\tlearn: 1462.8268653\ttotal: 772ms\tremaining: 7.19s\n",
      "97:\tlearn: 1461.7250291\ttotal: 779ms\tremaining: 7.17s\n",
      "98:\tlearn: 1459.9158489\ttotal: 785ms\tremaining: 7.14s\n",
      "99:\tlearn: 1458.4243834\ttotal: 792ms\tremaining: 7.13s\n",
      "100:\tlearn: 1457.3731417\ttotal: 799ms\tremaining: 7.11s\n",
      "101:\tlearn: 1456.3968145\ttotal: 806ms\tremaining: 7.1s\n",
      "102:\tlearn: 1455.1875870\ttotal: 812ms\tremaining: 7.07s\n",
      "103:\tlearn: 1454.1476777\ttotal: 818ms\tremaining: 7.05s\n",
      "104:\tlearn: 1453.4754918\ttotal: 825ms\tremaining: 7.03s\n",
      "105:\tlearn: 1452.2976123\ttotal: 831ms\tremaining: 7.01s\n",
      "106:\tlearn: 1450.9497554\ttotal: 837ms\tremaining: 6.99s\n",
      "107:\tlearn: 1449.9938796\ttotal: 843ms\tremaining: 6.96s\n",
      "108:\tlearn: 1449.0687733\ttotal: 849ms\tremaining: 6.94s\n",
      "109:\tlearn: 1448.2805493\ttotal: 855ms\tremaining: 6.92s\n",
      "110:\tlearn: 1447.3880146\ttotal: 862ms\tremaining: 6.9s\n",
      "111:\tlearn: 1446.6571101\ttotal: 868ms\tremaining: 6.88s\n",
      "112:\tlearn: 1445.6769565\ttotal: 875ms\tremaining: 6.87s\n",
      "113:\tlearn: 1444.5543326\ttotal: 881ms\tremaining: 6.85s\n",
      "114:\tlearn: 1443.6958697\ttotal: 887ms\tremaining: 6.83s\n",
      "115:\tlearn: 1443.0104594\ttotal: 893ms\tremaining: 6.81s\n",
      "116:\tlearn: 1441.8818343\ttotal: 900ms\tremaining: 6.79s\n",
      "117:\tlearn: 1441.2589621\ttotal: 906ms\tremaining: 6.77s\n",
      "118:\tlearn: 1440.2023432\ttotal: 912ms\tremaining: 6.75s\n",
      "119:\tlearn: 1439.2509108\ttotal: 918ms\tremaining: 6.73s\n",
      "120:\tlearn: 1438.4372717\ttotal: 924ms\tremaining: 6.71s\n",
      "121:\tlearn: 1437.7336313\ttotal: 930ms\tremaining: 6.69s\n",
      "122:\tlearn: 1436.7751279\ttotal: 936ms\tremaining: 6.67s\n",
      "123:\tlearn: 1435.9977493\ttotal: 942ms\tremaining: 6.66s\n",
      "124:\tlearn: 1434.8099590\ttotal: 949ms\tremaining: 6.64s\n",
      "125:\tlearn: 1433.8280818\ttotal: 955ms\tremaining: 6.62s\n",
      "126:\tlearn: 1433.0031372\ttotal: 961ms\tremaining: 6.61s\n",
      "127:\tlearn: 1432.4260329\ttotal: 968ms\tremaining: 6.59s\n",
      "128:\tlearn: 1431.5733263\ttotal: 974ms\tremaining: 6.57s\n",
      "129:\tlearn: 1430.9374337\ttotal: 979ms\tremaining: 6.55s\n",
      "130:\tlearn: 1430.5591499\ttotal: 985ms\tremaining: 6.54s\n",
      "131:\tlearn: 1429.9073879\ttotal: 992ms\tremaining: 6.52s\n",
      "132:\tlearn: 1429.1071181\ttotal: 998ms\tremaining: 6.51s\n",
      "133:\tlearn: 1428.7138201\ttotal: 1s\tremaining: 6.49s\n",
      "134:\tlearn: 1427.9272105\ttotal: 1.01s\tremaining: 6.48s\n",
      "135:\tlearn: 1426.6172944\ttotal: 1.02s\tremaining: 6.46s\n",
      "136:\tlearn: 1426.0818386\ttotal: 1.02s\tremaining: 6.45s\n",
      "137:\tlearn: 1425.2009766\ttotal: 1.03s\tremaining: 6.43s\n",
      "138:\tlearn: 1424.3910002\ttotal: 1.03s\tremaining: 6.42s\n",
      "139:\tlearn: 1423.7834735\ttotal: 1.04s\tremaining: 6.4s\n",
      "140:\tlearn: 1422.9668710\ttotal: 1.05s\tremaining: 6.39s\n",
      "141:\tlearn: 1422.2964792\ttotal: 1.05s\tremaining: 6.37s\n",
      "142:\tlearn: 1421.8573933\ttotal: 1.06s\tremaining: 6.35s\n",
      "143:\tlearn: 1421.3220742\ttotal: 1.07s\tremaining: 6.34s\n",
      "144:\tlearn: 1420.5414871\ttotal: 1.07s\tremaining: 6.33s\n",
      "145:\tlearn: 1419.6663899\ttotal: 1.08s\tremaining: 6.31s\n",
      "146:\tlearn: 1419.0639654\ttotal: 1.09s\tremaining: 6.3s\n",
      "147:\tlearn: 1418.4950700\ttotal: 1.09s\tremaining: 6.29s\n",
      "148:\tlearn: 1417.6593027\ttotal: 1.1s\tremaining: 6.27s\n",
      "149:\tlearn: 1417.1190127\ttotal: 1.1s\tremaining: 6.26s\n",
      "150:\tlearn: 1416.3418964\ttotal: 1.11s\tremaining: 6.24s\n",
      "151:\tlearn: 1415.9192988\ttotal: 1.12s\tremaining: 6.23s\n",
      "152:\tlearn: 1415.5083159\ttotal: 1.12s\tremaining: 6.22s\n",
      "153:\tlearn: 1415.0315778\ttotal: 1.13s\tremaining: 6.2s\n",
      "154:\tlearn: 1414.4542809\ttotal: 1.14s\tremaining: 6.19s\n",
      "155:\tlearn: 1413.8945137\ttotal: 1.14s\tremaining: 6.17s\n",
      "156:\tlearn: 1413.3635220\ttotal: 1.15s\tremaining: 6.16s\n",
      "157:\tlearn: 1412.8107529\ttotal: 1.15s\tremaining: 6.15s\n",
      "158:\tlearn: 1412.0395003\ttotal: 1.16s\tremaining: 6.14s\n",
      "159:\tlearn: 1411.3465772\ttotal: 1.17s\tremaining: 6.12s\n",
      "160:\tlearn: 1410.7772906\ttotal: 1.17s\tremaining: 6.11s\n",
      "161:\tlearn: 1410.3520149\ttotal: 1.18s\tremaining: 6.09s\n",
      "162:\tlearn: 1409.8357707\ttotal: 1.18s\tremaining: 6.08s\n",
      "163:\tlearn: 1409.1978532\ttotal: 1.19s\tremaining: 6.07s\n",
      "164:\tlearn: 1408.8016429\ttotal: 1.2s\tremaining: 6.05s\n",
      "165:\tlearn: 1408.1040839\ttotal: 1.2s\tremaining: 6.04s\n",
      "166:\tlearn: 1407.6555530\ttotal: 1.21s\tremaining: 6.03s\n",
      "167:\tlearn: 1407.0283865\ttotal: 1.22s\tremaining: 6.02s\n",
      "168:\tlearn: 1406.3643125\ttotal: 1.22s\tremaining: 6.01s\n",
      "169:\tlearn: 1405.9372158\ttotal: 1.23s\tremaining: 6s\n",
      "170:\tlearn: 1405.4489920\ttotal: 1.24s\tremaining: 5.99s\n",
      "171:\tlearn: 1404.9739702\ttotal: 1.24s\tremaining: 5.98s\n",
      "172:\tlearn: 1404.5611609\ttotal: 1.25s\tremaining: 5.97s\n",
      "173:\tlearn: 1404.2198599\ttotal: 1.25s\tremaining: 5.95s\n",
      "174:\tlearn: 1403.7378495\ttotal: 1.26s\tremaining: 5.94s\n",
      "175:\tlearn: 1402.9406129\ttotal: 1.26s\tremaining: 5.93s\n",
      "176:\tlearn: 1402.6086516\ttotal: 1.27s\tremaining: 5.91s\n",
      "177:\tlearn: 1402.1673668\ttotal: 1.28s\tremaining: 5.9s\n",
      "178:\tlearn: 1401.4765216\ttotal: 1.28s\tremaining: 5.89s\n",
      "179:\tlearn: 1400.8476012\ttotal: 1.29s\tremaining: 5.88s\n",
      "180:\tlearn: 1400.3733092\ttotal: 1.3s\tremaining: 5.87s\n",
      "181:\tlearn: 1399.9493061\ttotal: 1.3s\tremaining: 5.86s\n",
      "182:\tlearn: 1399.4584716\ttotal: 1.31s\tremaining: 5.85s\n",
      "183:\tlearn: 1399.0663945\ttotal: 1.31s\tremaining: 5.83s\n",
      "184:\tlearn: 1398.6789760\ttotal: 1.32s\tremaining: 5.82s\n",
      "185:\tlearn: 1398.2342702\ttotal: 1.33s\tremaining: 5.81s\n",
      "186:\tlearn: 1397.9614499\ttotal: 1.33s\tremaining: 5.8s\n",
      "187:\tlearn: 1397.4011602\ttotal: 1.34s\tremaining: 5.79s\n",
      "188:\tlearn: 1396.5713650\ttotal: 1.35s\tremaining: 5.78s\n",
      "189:\tlearn: 1395.8520404\ttotal: 1.35s\tremaining: 5.77s\n",
      "190:\tlearn: 1395.3864721\ttotal: 1.36s\tremaining: 5.75s\n",
      "191:\tlearn: 1394.7034006\ttotal: 1.36s\tremaining: 5.74s\n",
      "192:\tlearn: 1393.8689882\ttotal: 1.37s\tremaining: 5.73s\n",
      "193:\tlearn: 1393.3413200\ttotal: 1.38s\tremaining: 5.72s\n",
      "194:\tlearn: 1392.9898916\ttotal: 1.38s\tremaining: 5.71s\n",
      "195:\tlearn: 1392.6325821\ttotal: 1.39s\tremaining: 5.7s\n",
      "196:\tlearn: 1392.1408663\ttotal: 1.4s\tremaining: 5.69s\n",
      "197:\tlearn: 1391.7608970\ttotal: 1.4s\tremaining: 5.68s\n",
      "198:\tlearn: 1391.2196836\ttotal: 1.41s\tremaining: 5.67s\n",
      "199:\tlearn: 1390.8387780\ttotal: 1.41s\tremaining: 5.66s\n",
      "200:\tlearn: 1390.3826104\ttotal: 1.42s\tremaining: 5.65s\n",
      "201:\tlearn: 1389.9870564\ttotal: 1.43s\tremaining: 5.64s\n",
      "202:\tlearn: 1389.2659404\ttotal: 1.43s\tremaining: 5.63s\n",
      "203:\tlearn: 1388.9539139\ttotal: 1.44s\tremaining: 5.62s\n",
      "204:\tlearn: 1388.1095635\ttotal: 1.45s\tremaining: 5.61s\n",
      "205:\tlearn: 1387.9061914\ttotal: 1.45s\tremaining: 5.6s\n",
      "206:\tlearn: 1387.5952926\ttotal: 1.46s\tremaining: 5.59s\n",
      "207:\tlearn: 1387.3504694\ttotal: 1.46s\tremaining: 5.58s\n",
      "208:\tlearn: 1387.1259934\ttotal: 1.47s\tremaining: 5.57s\n",
      "209:\tlearn: 1386.6307040\ttotal: 1.48s\tremaining: 5.55s\n",
      "210:\tlearn: 1386.3462492\ttotal: 1.48s\tremaining: 5.54s\n",
      "211:\tlearn: 1385.7447238\ttotal: 1.49s\tremaining: 5.54s\n",
      "212:\tlearn: 1385.4763381\ttotal: 1.5s\tremaining: 5.52s\n",
      "213:\tlearn: 1384.8776288\ttotal: 1.5s\tremaining: 5.52s\n",
      "214:\tlearn: 1384.4729839\ttotal: 1.51s\tremaining: 5.51s\n",
      "215:\tlearn: 1383.7326378\ttotal: 1.51s\tremaining: 5.5s\n",
      "216:\tlearn: 1383.2792218\ttotal: 1.52s\tremaining: 5.49s\n",
      "217:\tlearn: 1382.8806362\ttotal: 1.53s\tremaining: 5.48s\n",
      "218:\tlearn: 1382.5513747\ttotal: 1.53s\tremaining: 5.47s\n",
      "219:\tlearn: 1382.2303606\ttotal: 1.54s\tremaining: 5.46s\n",
      "220:\tlearn: 1381.7194172\ttotal: 1.55s\tremaining: 5.45s\n",
      "221:\tlearn: 1381.0940739\ttotal: 1.55s\tremaining: 5.44s\n",
      "222:\tlearn: 1380.7827801\ttotal: 1.56s\tremaining: 5.43s\n",
      "223:\tlearn: 1380.3980809\ttotal: 1.56s\tremaining: 5.42s\n",
      "224:\tlearn: 1380.1057216\ttotal: 1.57s\tremaining: 5.41s\n",
      "225:\tlearn: 1379.7632551\ttotal: 1.58s\tremaining: 5.4s\n",
      "226:\tlearn: 1379.2438759\ttotal: 1.58s\tremaining: 5.39s\n",
      "227:\tlearn: 1379.0286770\ttotal: 1.59s\tremaining: 5.38s\n",
      "228:\tlearn: 1378.3030991\ttotal: 1.59s\tremaining: 5.37s\n",
      "229:\tlearn: 1378.0117567\ttotal: 1.6s\tremaining: 5.36s\n",
      "230:\tlearn: 1377.4161802\ttotal: 1.61s\tremaining: 5.35s\n",
      "231:\tlearn: 1376.9653939\ttotal: 1.61s\tremaining: 5.34s\n",
      "232:\tlearn: 1376.4611526\ttotal: 1.62s\tremaining: 5.33s\n",
      "233:\tlearn: 1375.9446816\ttotal: 1.63s\tremaining: 5.33s\n",
      "234:\tlearn: 1375.7517008\ttotal: 1.63s\tremaining: 5.32s\n",
      "235:\tlearn: 1375.5288804\ttotal: 1.64s\tremaining: 5.31s\n",
      "236:\tlearn: 1375.1726704\ttotal: 1.65s\tremaining: 5.3s\n",
      "237:\tlearn: 1374.9671504\ttotal: 1.65s\tremaining: 5.29s\n",
      "238:\tlearn: 1374.5600682\ttotal: 1.66s\tremaining: 5.28s\n",
      "239:\tlearn: 1374.2331112\ttotal: 1.66s\tremaining: 5.27s\n",
      "240:\tlearn: 1373.8844679\ttotal: 1.67s\tremaining: 5.26s\n",
      "241:\tlearn: 1373.5311607\ttotal: 1.68s\tremaining: 5.25s\n",
      "242:\tlearn: 1373.1434935\ttotal: 1.68s\tremaining: 5.25s\n",
      "243:\tlearn: 1372.7511733\ttotal: 1.69s\tremaining: 5.24s\n",
      "244:\tlearn: 1372.2442216\ttotal: 1.7s\tremaining: 5.23s\n",
      "245:\tlearn: 1371.8428643\ttotal: 1.7s\tremaining: 5.22s\n",
      "246:\tlearn: 1371.4960945\ttotal: 1.71s\tremaining: 5.21s\n",
      "247:\tlearn: 1371.1408626\ttotal: 1.72s\tremaining: 5.2s\n",
      "248:\tlearn: 1370.9579709\ttotal: 1.72s\tremaining: 5.19s\n",
      "249:\tlearn: 1370.4136907\ttotal: 1.73s\tremaining: 5.19s\n",
      "250:\tlearn: 1370.2727073\ttotal: 1.73s\tremaining: 5.18s\n",
      "251:\tlearn: 1370.0384508\ttotal: 1.74s\tremaining: 5.17s\n",
      "252:\tlearn: 1369.7976472\ttotal: 1.75s\tremaining: 5.16s\n",
      "253:\tlearn: 1369.3021028\ttotal: 1.75s\tremaining: 5.15s\n",
      "254:\tlearn: 1368.9903491\ttotal: 1.76s\tremaining: 5.15s\n",
      "255:\tlearn: 1368.8158428\ttotal: 1.77s\tremaining: 5.14s\n",
      "256:\tlearn: 1368.4084107\ttotal: 1.77s\tremaining: 5.13s\n",
      "257:\tlearn: 1367.9608285\ttotal: 1.78s\tremaining: 5.13s\n",
      "258:\tlearn: 1367.4723567\ttotal: 1.79s\tremaining: 5.12s\n",
      "259:\tlearn: 1367.2406032\ttotal: 1.79s\tremaining: 5.11s\n",
      "260:\tlearn: 1367.0308105\ttotal: 1.8s\tremaining: 5.1s\n",
      "261:\tlearn: 1366.6829861\ttotal: 1.81s\tremaining: 5.09s\n",
      "262:\tlearn: 1366.4433075\ttotal: 1.81s\tremaining: 5.08s\n",
      "263:\tlearn: 1366.1007258\ttotal: 1.82s\tremaining: 5.08s\n",
      "264:\tlearn: 1365.4003938\ttotal: 1.83s\tremaining: 5.07s\n",
      "265:\tlearn: 1364.9398320\ttotal: 1.83s\tremaining: 5.06s\n",
      "266:\tlearn: 1364.6518799\ttotal: 1.84s\tremaining: 5.05s\n",
      "267:\tlearn: 1364.4645081\ttotal: 1.85s\tremaining: 5.04s\n",
      "268:\tlearn: 1364.2219544\ttotal: 1.85s\tremaining: 5.03s\n",
      "269:\tlearn: 1363.9573669\ttotal: 1.86s\tremaining: 5.03s\n",
      "270:\tlearn: 1363.7702905\ttotal: 1.86s\tremaining: 5.02s\n",
      "271:\tlearn: 1363.5212661\ttotal: 1.87s\tremaining: 5.01s\n",
      "272:\tlearn: 1363.0770799\ttotal: 1.88s\tremaining: 5s\n",
      "273:\tlearn: 1362.7948869\ttotal: 1.89s\tremaining: 5s\n",
      "274:\tlearn: 1362.4479253\ttotal: 1.89s\tremaining: 4.99s\n",
      "275:\tlearn: 1362.1253998\ttotal: 1.9s\tremaining: 4.98s\n",
      "276:\tlearn: 1361.8192332\ttotal: 1.91s\tremaining: 4.97s\n",
      "277:\tlearn: 1361.4451213\ttotal: 1.91s\tremaining: 4.97s\n",
      "278:\tlearn: 1360.9778897\ttotal: 1.92s\tremaining: 4.96s\n",
      "279:\tlearn: 1360.7762307\ttotal: 1.93s\tremaining: 4.96s\n",
      "280:\tlearn: 1360.5453940\ttotal: 1.94s\tremaining: 4.95s\n",
      "281:\tlearn: 1360.1786846\ttotal: 1.94s\tremaining: 4.95s\n",
      "282:\tlearn: 1359.9867462\ttotal: 1.95s\tremaining: 4.94s\n",
      "283:\tlearn: 1359.7534213\ttotal: 1.96s\tremaining: 4.93s\n",
      "284:\tlearn: 1359.4774555\ttotal: 1.96s\tremaining: 4.92s\n",
      "285:\tlearn: 1359.1230480\ttotal: 1.97s\tremaining: 4.92s\n",
      "286:\tlearn: 1358.8090831\ttotal: 1.98s\tremaining: 4.91s\n",
      "287:\tlearn: 1358.4651118\ttotal: 1.98s\tremaining: 4.9s\n",
      "288:\tlearn: 1358.2019960\ttotal: 1.99s\tremaining: 4.9s\n",
      "289:\tlearn: 1357.8034275\ttotal: 2s\tremaining: 4.89s\n",
      "290:\tlearn: 1357.5619994\ttotal: 2s\tremaining: 4.88s\n",
      "291:\tlearn: 1357.2461555\ttotal: 2.01s\tremaining: 4.88s\n",
      "292:\tlearn: 1357.0737323\ttotal: 2.02s\tremaining: 4.87s\n",
      "293:\tlearn: 1356.7781320\ttotal: 2.03s\tremaining: 4.87s\n",
      "294:\tlearn: 1356.4065574\ttotal: 2.03s\tremaining: 4.86s\n",
      "295:\tlearn: 1356.1791298\ttotal: 2.04s\tremaining: 4.85s\n",
      "296:\tlearn: 1355.8002351\ttotal: 2.04s\tremaining: 4.84s\n",
      "297:\tlearn: 1355.6369621\ttotal: 2.05s\tremaining: 4.83s\n",
      "298:\tlearn: 1355.3687164\ttotal: 2.06s\tremaining: 4.83s\n",
      "299:\tlearn: 1355.0784782\ttotal: 2.06s\tremaining: 4.82s\n",
      "300:\tlearn: 1354.8888443\ttotal: 2.07s\tremaining: 4.81s\n",
      "301:\tlearn: 1354.6332264\ttotal: 2.08s\tremaining: 4.8s\n",
      "302:\tlearn: 1354.2895824\ttotal: 2.08s\tremaining: 4.79s\n",
      "303:\tlearn: 1353.9419563\ttotal: 2.09s\tremaining: 4.79s\n",
      "304:\tlearn: 1353.6212530\ttotal: 2.1s\tremaining: 4.78s\n",
      "305:\tlearn: 1353.3476976\ttotal: 2.1s\tremaining: 4.77s\n",
      "306:\tlearn: 1353.1832458\ttotal: 2.11s\tremaining: 4.76s\n",
      "307:\tlearn: 1352.9199896\ttotal: 2.11s\tremaining: 4.75s\n",
      "308:\tlearn: 1352.5883756\ttotal: 2.12s\tremaining: 4.74s\n",
      "309:\tlearn: 1352.2440173\ttotal: 2.13s\tremaining: 4.73s\n",
      "310:\tlearn: 1351.9791312\ttotal: 2.13s\tremaining: 4.73s\n",
      "311:\tlearn: 1351.5819252\ttotal: 2.14s\tremaining: 4.72s\n",
      "312:\tlearn: 1351.3775565\ttotal: 2.15s\tremaining: 4.71s\n",
      "313:\tlearn: 1351.1509266\ttotal: 2.15s\tremaining: 4.7s\n",
      "314:\tlearn: 1350.6979069\ttotal: 2.16s\tremaining: 4.69s\n",
      "315:\tlearn: 1350.3682483\ttotal: 2.16s\tremaining: 4.68s\n",
      "316:\tlearn: 1350.1080255\ttotal: 2.17s\tremaining: 4.68s\n",
      "317:\tlearn: 1349.8771349\ttotal: 2.18s\tremaining: 4.67s\n",
      "318:\tlearn: 1349.4460491\ttotal: 2.18s\tremaining: 4.66s\n",
      "319:\tlearn: 1349.0830163\ttotal: 2.19s\tremaining: 4.65s\n",
      "320:\tlearn: 1348.8875091\ttotal: 2.19s\tremaining: 4.64s\n",
      "321:\tlearn: 1348.6721784\ttotal: 2.2s\tremaining: 4.64s\n",
      "322:\tlearn: 1348.2284120\ttotal: 2.21s\tremaining: 4.63s\n",
      "323:\tlearn: 1347.8589667\ttotal: 2.21s\tremaining: 4.62s\n",
      "324:\tlearn: 1347.5671287\ttotal: 2.22s\tremaining: 4.61s\n",
      "325:\tlearn: 1347.3807840\ttotal: 2.23s\tremaining: 4.6s\n",
      "326:\tlearn: 1347.0389497\ttotal: 2.23s\tremaining: 4.59s\n",
      "327:\tlearn: 1346.7996505\ttotal: 2.24s\tremaining: 4.59s\n",
      "328:\tlearn: 1346.4761187\ttotal: 2.25s\tremaining: 4.58s\n",
      "329:\tlearn: 1346.2254942\ttotal: 2.25s\tremaining: 4.57s\n",
      "330:\tlearn: 1345.8832059\ttotal: 2.26s\tremaining: 4.56s\n",
      "331:\tlearn: 1345.6451360\ttotal: 2.26s\tremaining: 4.56s\n",
      "332:\tlearn: 1345.3606649\ttotal: 2.27s\tremaining: 4.55s\n",
      "333:\tlearn: 1345.0433292\ttotal: 2.28s\tremaining: 4.54s\n",
      "334:\tlearn: 1344.7926698\ttotal: 2.29s\tremaining: 4.54s\n",
      "335:\tlearn: 1344.6144898\ttotal: 2.29s\tremaining: 4.53s\n",
      "336:\tlearn: 1344.4292887\ttotal: 2.3s\tremaining: 4.52s\n",
      "337:\tlearn: 1344.1214554\ttotal: 2.3s\tremaining: 4.51s\n",
      "338:\tlearn: 1343.8682967\ttotal: 2.31s\tremaining: 4.51s\n",
      "339:\tlearn: 1343.4623604\ttotal: 2.32s\tremaining: 4.5s\n",
      "340:\tlearn: 1342.9875318\ttotal: 2.33s\tremaining: 4.5s\n",
      "341:\tlearn: 1342.8200872\ttotal: 2.33s\tremaining: 4.49s\n",
      "342:\tlearn: 1342.5653011\ttotal: 2.34s\tremaining: 4.48s\n",
      "343:\tlearn: 1342.2468749\ttotal: 2.34s\tremaining: 4.47s\n",
      "344:\tlearn: 1341.9324108\ttotal: 2.35s\tremaining: 4.46s\n",
      "345:\tlearn: 1341.4814288\ttotal: 2.36s\tremaining: 4.46s\n",
      "346:\tlearn: 1341.2520735\ttotal: 2.37s\tremaining: 4.45s\n",
      "347:\tlearn: 1340.9834596\ttotal: 2.37s\tremaining: 4.45s\n",
      "348:\tlearn: 1340.8200535\ttotal: 2.38s\tremaining: 4.44s\n",
      "349:\tlearn: 1340.5549632\ttotal: 2.39s\tremaining: 4.43s\n",
      "350:\tlearn: 1340.2508193\ttotal: 2.39s\tremaining: 4.43s\n",
      "351:\tlearn: 1340.0433434\ttotal: 2.4s\tremaining: 4.42s\n",
      "352:\tlearn: 1339.8360079\ttotal: 2.41s\tremaining: 4.41s\n",
      "353:\tlearn: 1339.5077019\ttotal: 2.41s\tremaining: 4.41s\n",
      "354:\tlearn: 1339.2900619\ttotal: 2.42s\tremaining: 4.4s\n",
      "355:\tlearn: 1338.9286764\ttotal: 2.43s\tremaining: 4.39s\n",
      "356:\tlearn: 1338.6540900\ttotal: 2.44s\tremaining: 4.39s\n",
      "357:\tlearn: 1338.5128872\ttotal: 2.44s\tremaining: 4.38s\n",
      "358:\tlearn: 1338.2819341\ttotal: 2.45s\tremaining: 4.37s\n",
      "359:\tlearn: 1337.9203263\ttotal: 2.46s\tremaining: 4.37s\n",
      "360:\tlearn: 1337.6487879\ttotal: 2.46s\tremaining: 4.36s\n",
      "361:\tlearn: 1337.1951343\ttotal: 2.47s\tremaining: 4.35s\n",
      "362:\tlearn: 1336.8597826\ttotal: 2.48s\tremaining: 4.34s\n",
      "363:\tlearn: 1336.6257639\ttotal: 2.48s\tremaining: 4.34s\n",
      "364:\tlearn: 1336.3112765\ttotal: 2.49s\tremaining: 4.33s\n",
      "365:\tlearn: 1335.8890930\ttotal: 2.5s\tremaining: 4.32s\n",
      "366:\tlearn: 1335.5592689\ttotal: 2.5s\tremaining: 4.32s\n",
      "367:\tlearn: 1335.4029428\ttotal: 2.51s\tremaining: 4.31s\n",
      "368:\tlearn: 1335.1607896\ttotal: 2.52s\tremaining: 4.3s\n",
      "369:\tlearn: 1334.7570966\ttotal: 2.52s\tremaining: 4.3s\n",
      "370:\tlearn: 1334.4931924\ttotal: 2.53s\tremaining: 4.29s\n",
      "371:\tlearn: 1334.3458883\ttotal: 2.54s\tremaining: 4.28s\n",
      "372:\tlearn: 1334.1877940\ttotal: 2.54s\tremaining: 4.27s\n",
      "373:\tlearn: 1333.8184549\ttotal: 2.55s\tremaining: 4.26s\n",
      "374:\tlearn: 1333.5869877\ttotal: 2.55s\tremaining: 4.25s\n",
      "375:\tlearn: 1333.2997866\ttotal: 2.56s\tremaining: 4.25s\n",
      "376:\tlearn: 1332.9923301\ttotal: 2.57s\tremaining: 4.24s\n",
      "377:\tlearn: 1332.8781330\ttotal: 2.57s\tremaining: 4.23s\n",
      "378:\tlearn: 1332.3919176\ttotal: 2.58s\tremaining: 4.22s\n",
      "379:\tlearn: 1332.3014536\ttotal: 2.58s\tremaining: 4.21s\n",
      "380:\tlearn: 1332.1158564\ttotal: 2.59s\tremaining: 4.21s\n",
      "381:\tlearn: 1331.9436748\ttotal: 2.6s\tremaining: 4.2s\n",
      "382:\tlearn: 1331.6993433\ttotal: 2.6s\tremaining: 4.19s\n",
      "383:\tlearn: 1331.4246338\ttotal: 2.61s\tremaining: 4.18s\n",
      "384:\tlearn: 1331.1855758\ttotal: 2.62s\tremaining: 4.18s\n",
      "385:\tlearn: 1330.7196729\ttotal: 2.62s\tremaining: 4.17s\n",
      "386:\tlearn: 1330.4059781\ttotal: 2.63s\tremaining: 4.16s\n",
      "387:\tlearn: 1330.2643742\ttotal: 2.63s\tremaining: 4.15s\n",
      "388:\tlearn: 1330.0093565\ttotal: 2.64s\tremaining: 4.15s\n",
      "389:\tlearn: 1329.8353771\ttotal: 2.65s\tremaining: 4.14s\n",
      "390:\tlearn: 1329.6163267\ttotal: 2.65s\tremaining: 4.13s\n",
      "391:\tlearn: 1329.3378635\ttotal: 2.66s\tremaining: 4.13s\n",
      "392:\tlearn: 1329.1517139\ttotal: 2.67s\tremaining: 4.12s\n",
      "393:\tlearn: 1328.8394431\ttotal: 2.67s\tremaining: 4.11s\n",
      "394:\tlearn: 1328.6496925\ttotal: 2.68s\tremaining: 4.1s\n",
      "395:\tlearn: 1328.2966912\ttotal: 2.68s\tremaining: 4.09s\n",
      "396:\tlearn: 1328.1246125\ttotal: 2.69s\tremaining: 4.09s\n",
      "397:\tlearn: 1327.8942061\ttotal: 2.7s\tremaining: 4.08s\n",
      "398:\tlearn: 1327.7524361\ttotal: 2.7s\tremaining: 4.07s\n",
      "399:\tlearn: 1327.5224009\ttotal: 2.71s\tremaining: 4.06s\n",
      "400:\tlearn: 1327.2998700\ttotal: 2.71s\tremaining: 4.05s\n",
      "401:\tlearn: 1327.0604279\ttotal: 2.72s\tremaining: 4.05s\n",
      "402:\tlearn: 1326.7520080\ttotal: 2.73s\tremaining: 4.04s\n",
      "403:\tlearn: 1326.4302177\ttotal: 2.73s\tremaining: 4.03s\n",
      "404:\tlearn: 1326.1875026\ttotal: 2.74s\tremaining: 4.03s\n",
      "405:\tlearn: 1326.0023361\ttotal: 2.75s\tremaining: 4.02s\n",
      "406:\tlearn: 1325.8491940\ttotal: 2.75s\tremaining: 4.01s\n",
      "407:\tlearn: 1325.6793257\ttotal: 2.76s\tremaining: 4s\n",
      "408:\tlearn: 1325.5140379\ttotal: 2.76s\tremaining: 4s\n",
      "409:\tlearn: 1325.2555937\ttotal: 2.77s\tremaining: 3.99s\n",
      "410:\tlearn: 1325.0498295\ttotal: 2.78s\tremaining: 3.98s\n",
      "411:\tlearn: 1324.9410314\ttotal: 2.78s\tremaining: 3.97s\n",
      "412:\tlearn: 1324.7580943\ttotal: 2.79s\tremaining: 3.96s\n",
      "413:\tlearn: 1324.5778429\ttotal: 2.8s\tremaining: 3.96s\n",
      "414:\tlearn: 1324.0555301\ttotal: 2.8s\tremaining: 3.95s\n",
      "415:\tlearn: 1323.7453001\ttotal: 2.81s\tremaining: 3.94s\n",
      "416:\tlearn: 1323.5086521\ttotal: 2.82s\tremaining: 3.94s\n",
      "417:\tlearn: 1323.3995665\ttotal: 2.82s\tremaining: 3.93s\n",
      "418:\tlearn: 1323.1951199\ttotal: 2.83s\tremaining: 3.92s\n",
      "419:\tlearn: 1323.0277156\ttotal: 2.83s\tremaining: 3.92s\n",
      "420:\tlearn: 1322.7398634\ttotal: 2.84s\tremaining: 3.91s\n",
      "421:\tlearn: 1322.6326513\ttotal: 2.85s\tremaining: 3.9s\n",
      "422:\tlearn: 1322.1818242\ttotal: 2.85s\tremaining: 3.89s\n",
      "423:\tlearn: 1321.7732780\ttotal: 2.86s\tremaining: 3.89s\n",
      "424:\tlearn: 1321.5072880\ttotal: 2.87s\tremaining: 3.88s\n",
      "425:\tlearn: 1321.1439153\ttotal: 2.88s\tremaining: 3.87s\n",
      "426:\tlearn: 1320.8865507\ttotal: 2.88s\tremaining: 3.87s\n",
      "427:\tlearn: 1320.8119456\ttotal: 2.89s\tremaining: 3.86s\n",
      "428:\tlearn: 1320.5567616\ttotal: 2.9s\tremaining: 3.85s\n",
      "429:\tlearn: 1320.3406917\ttotal: 2.9s\tremaining: 3.85s\n",
      "430:\tlearn: 1320.2629447\ttotal: 2.91s\tremaining: 3.84s\n",
      "431:\tlearn: 1320.0264553\ttotal: 2.91s\tremaining: 3.83s\n",
      "432:\tlearn: 1319.8791688\ttotal: 2.92s\tremaining: 3.83s\n",
      "433:\tlearn: 1319.5793574\ttotal: 2.93s\tremaining: 3.82s\n",
      "434:\tlearn: 1319.3645122\ttotal: 2.94s\tremaining: 3.81s\n",
      "435:\tlearn: 1319.1860097\ttotal: 2.94s\tremaining: 3.81s\n",
      "436:\tlearn: 1319.0371713\ttotal: 2.95s\tremaining: 3.8s\n",
      "437:\tlearn: 1318.7038992\ttotal: 2.95s\tremaining: 3.79s\n",
      "438:\tlearn: 1318.4058042\ttotal: 2.96s\tremaining: 3.78s\n",
      "439:\tlearn: 1318.0935408\ttotal: 2.97s\tremaining: 3.78s\n",
      "440:\tlearn: 1317.7485764\ttotal: 2.98s\tremaining: 3.77s\n",
      "441:\tlearn: 1317.4759361\ttotal: 2.98s\tremaining: 3.76s\n",
      "442:\tlearn: 1317.2228392\ttotal: 2.99s\tremaining: 3.76s\n",
      "443:\tlearn: 1316.9858490\ttotal: 3s\tremaining: 3.75s\n",
      "444:\tlearn: 1316.7766404\ttotal: 3s\tremaining: 3.74s\n",
      "445:\tlearn: 1316.6022550\ttotal: 3.01s\tremaining: 3.74s\n",
      "446:\tlearn: 1316.2862544\ttotal: 3.02s\tremaining: 3.73s\n",
      "447:\tlearn: 1316.0761003\ttotal: 3.02s\tremaining: 3.73s\n",
      "448:\tlearn: 1315.7863506\ttotal: 3.03s\tremaining: 3.72s\n",
      "449:\tlearn: 1315.6216237\ttotal: 3.04s\tremaining: 3.71s\n",
      "450:\tlearn: 1315.4375694\ttotal: 3.04s\tremaining: 3.7s\n",
      "451:\tlearn: 1315.2608354\ttotal: 3.05s\tremaining: 3.69s\n",
      "452:\tlearn: 1315.1051251\ttotal: 3.05s\tremaining: 3.69s\n",
      "453:\tlearn: 1314.9605679\ttotal: 3.06s\tremaining: 3.68s\n",
      "454:\tlearn: 1314.5550541\ttotal: 3.07s\tremaining: 3.67s\n",
      "455:\tlearn: 1314.4179260\ttotal: 3.07s\tremaining: 3.67s\n",
      "456:\tlearn: 1314.2359328\ttotal: 3.08s\tremaining: 3.66s\n",
      "457:\tlearn: 1313.9404554\ttotal: 3.08s\tremaining: 3.65s\n",
      "458:\tlearn: 1313.6557369\ttotal: 3.09s\tremaining: 3.64s\n",
      "459:\tlearn: 1313.5184862\ttotal: 3.1s\tremaining: 3.64s\n",
      "460:\tlearn: 1313.2717807\ttotal: 3.1s\tremaining: 3.63s\n",
      "461:\tlearn: 1313.0475289\ttotal: 3.11s\tremaining: 3.62s\n",
      "462:\tlearn: 1312.7183926\ttotal: 3.12s\tremaining: 3.62s\n",
      "463:\tlearn: 1312.5144586\ttotal: 3.12s\tremaining: 3.61s\n",
      "464:\tlearn: 1312.3326158\ttotal: 3.13s\tremaining: 3.6s\n",
      "465:\tlearn: 1312.0655165\ttotal: 3.14s\tremaining: 3.59s\n",
      "466:\tlearn: 1311.9231321\ttotal: 3.14s\tremaining: 3.59s\n",
      "467:\tlearn: 1311.7708331\ttotal: 3.15s\tremaining: 3.58s\n",
      "468:\tlearn: 1311.6681483\ttotal: 3.15s\tremaining: 3.57s\n",
      "469:\tlearn: 1311.5334304\ttotal: 3.16s\tremaining: 3.56s\n",
      "470:\tlearn: 1311.3726743\ttotal: 3.17s\tremaining: 3.56s\n",
      "471:\tlearn: 1311.1005842\ttotal: 3.17s\tremaining: 3.55s\n",
      "472:\tlearn: 1310.9819828\ttotal: 3.18s\tremaining: 3.54s\n",
      "473:\tlearn: 1310.7959674\ttotal: 3.19s\tremaining: 3.54s\n",
      "474:\tlearn: 1310.4793289\ttotal: 3.19s\tremaining: 3.53s\n",
      "475:\tlearn: 1310.2197844\ttotal: 3.2s\tremaining: 3.52s\n",
      "476:\tlearn: 1309.9831203\ttotal: 3.2s\tremaining: 3.51s\n",
      "477:\tlearn: 1309.6031084\ttotal: 3.21s\tremaining: 3.51s\n",
      "478:\tlearn: 1309.5183664\ttotal: 3.22s\tremaining: 3.5s\n",
      "479:\tlearn: 1309.3549218\ttotal: 3.22s\tremaining: 3.49s\n",
      "480:\tlearn: 1309.1189497\ttotal: 3.23s\tremaining: 3.48s\n",
      "481:\tlearn: 1308.9156364\ttotal: 3.24s\tremaining: 3.48s\n",
      "482:\tlearn: 1308.8100247\ttotal: 3.24s\tremaining: 3.47s\n",
      "483:\tlearn: 1308.7499282\ttotal: 3.25s\tremaining: 3.46s\n",
      "484:\tlearn: 1308.5503116\ttotal: 3.25s\tremaining: 3.46s\n",
      "485:\tlearn: 1308.2178895\ttotal: 3.26s\tremaining: 3.45s\n",
      "486:\tlearn: 1308.0445638\ttotal: 3.27s\tremaining: 3.44s\n",
      "487:\tlearn: 1307.8832356\ttotal: 3.27s\tremaining: 3.43s\n",
      "488:\tlearn: 1307.7039469\ttotal: 3.28s\tremaining: 3.43s\n",
      "489:\tlearn: 1307.5313559\ttotal: 3.29s\tremaining: 3.42s\n",
      "490:\tlearn: 1307.4584548\ttotal: 3.29s\tremaining: 3.41s\n",
      "491:\tlearn: 1307.0652788\ttotal: 3.3s\tremaining: 3.41s\n",
      "492:\tlearn: 1306.8642511\ttotal: 3.31s\tremaining: 3.4s\n",
      "493:\tlearn: 1306.5287883\ttotal: 3.31s\tremaining: 3.39s\n",
      "494:\tlearn: 1306.3233809\ttotal: 3.32s\tremaining: 3.38s\n",
      "495:\tlearn: 1306.1329400\ttotal: 3.32s\tremaining: 3.38s\n",
      "496:\tlearn: 1306.0110638\ttotal: 3.33s\tremaining: 3.37s\n",
      "497:\tlearn: 1305.7052023\ttotal: 3.34s\tremaining: 3.36s\n",
      "498:\tlearn: 1305.4554611\ttotal: 3.34s\tremaining: 3.36s\n",
      "499:\tlearn: 1305.3251929\ttotal: 3.35s\tremaining: 3.35s\n",
      "500:\tlearn: 1305.0858689\ttotal: 3.36s\tremaining: 3.34s\n",
      "501:\tlearn: 1304.8818060\ttotal: 3.36s\tremaining: 3.34s\n",
      "502:\tlearn: 1304.6452489\ttotal: 3.37s\tremaining: 3.33s\n",
      "503:\tlearn: 1304.4329679\ttotal: 3.38s\tremaining: 3.32s\n",
      "504:\tlearn: 1304.2763053\ttotal: 3.38s\tremaining: 3.31s\n",
      "505:\tlearn: 1304.1412134\ttotal: 3.39s\tremaining: 3.31s\n",
      "506:\tlearn: 1303.8757784\ttotal: 3.39s\tremaining: 3.3s\n",
      "507:\tlearn: 1303.8045242\ttotal: 3.4s\tremaining: 3.29s\n",
      "508:\tlearn: 1303.6849201\ttotal: 3.41s\tremaining: 3.29s\n",
      "509:\tlearn: 1303.5237276\ttotal: 3.41s\tremaining: 3.28s\n",
      "510:\tlearn: 1303.3783904\ttotal: 3.42s\tremaining: 3.27s\n",
      "511:\tlearn: 1303.1642165\ttotal: 3.42s\tremaining: 3.27s\n",
      "512:\tlearn: 1303.0733379\ttotal: 3.43s\tremaining: 3.26s\n",
      "513:\tlearn: 1302.9578243\ttotal: 3.44s\tremaining: 3.25s\n",
      "514:\tlearn: 1302.8398946\ttotal: 3.44s\tremaining: 3.24s\n",
      "515:\tlearn: 1302.6402528\ttotal: 3.45s\tremaining: 3.23s\n",
      "516:\tlearn: 1302.4338606\ttotal: 3.46s\tremaining: 3.23s\n",
      "517:\tlearn: 1302.2432432\ttotal: 3.46s\tremaining: 3.22s\n",
      "518:\tlearn: 1302.1258400\ttotal: 3.47s\tremaining: 3.21s\n",
      "519:\tlearn: 1301.9557881\ttotal: 3.47s\tremaining: 3.21s\n",
      "520:\tlearn: 1301.7467148\ttotal: 3.48s\tremaining: 3.2s\n",
      "521:\tlearn: 1301.5381241\ttotal: 3.49s\tremaining: 3.19s\n",
      "522:\tlearn: 1301.3631437\ttotal: 3.49s\tremaining: 3.19s\n",
      "523:\tlearn: 1301.2069496\ttotal: 3.5s\tremaining: 3.18s\n",
      "524:\tlearn: 1301.0167901\ttotal: 3.5s\tremaining: 3.17s\n",
      "525:\tlearn: 1300.8341592\ttotal: 3.51s\tremaining: 3.16s\n",
      "526:\tlearn: 1300.5773071\ttotal: 3.52s\tremaining: 3.16s\n",
      "527:\tlearn: 1300.3875372\ttotal: 3.52s\tremaining: 3.15s\n",
      "528:\tlearn: 1300.2664392\ttotal: 3.53s\tremaining: 3.14s\n",
      "529:\tlearn: 1300.0461245\ttotal: 3.54s\tremaining: 3.13s\n",
      "530:\tlearn: 1299.8774058\ttotal: 3.54s\tremaining: 3.13s\n",
      "531:\tlearn: 1299.6012890\ttotal: 3.55s\tremaining: 3.12s\n",
      "532:\tlearn: 1299.2874053\ttotal: 3.55s\tremaining: 3.11s\n",
      "533:\tlearn: 1299.0736280\ttotal: 3.56s\tremaining: 3.11s\n",
      "534:\tlearn: 1298.8540776\ttotal: 3.57s\tremaining: 3.1s\n",
      "535:\tlearn: 1298.7331210\ttotal: 3.57s\tremaining: 3.09s\n",
      "536:\tlearn: 1298.5333101\ttotal: 3.58s\tremaining: 3.09s\n",
      "537:\tlearn: 1298.3881449\ttotal: 3.59s\tremaining: 3.08s\n",
      "538:\tlearn: 1298.2573932\ttotal: 3.59s\tremaining: 3.07s\n",
      "539:\tlearn: 1298.0701278\ttotal: 3.6s\tremaining: 3.06s\n",
      "540:\tlearn: 1297.9836331\ttotal: 3.6s\tremaining: 3.06s\n",
      "541:\tlearn: 1297.8758657\ttotal: 3.61s\tremaining: 3.05s\n",
      "542:\tlearn: 1297.6153549\ttotal: 3.62s\tremaining: 3.04s\n",
      "543:\tlearn: 1297.3928023\ttotal: 3.62s\tremaining: 3.04s\n",
      "544:\tlearn: 1297.1446191\ttotal: 3.63s\tremaining: 3.03s\n",
      "545:\tlearn: 1297.0241219\ttotal: 3.64s\tremaining: 3.02s\n",
      "546:\tlearn: 1296.8031630\ttotal: 3.64s\tremaining: 3.02s\n",
      "547:\tlearn: 1296.6111830\ttotal: 3.65s\tremaining: 3.01s\n",
      "548:\tlearn: 1296.2605238\ttotal: 3.66s\tremaining: 3s\n",
      "549:\tlearn: 1295.9522213\ttotal: 3.66s\tremaining: 3s\n",
      "550:\tlearn: 1295.7998789\ttotal: 3.67s\tremaining: 2.99s\n",
      "551:\tlearn: 1295.6924549\ttotal: 3.68s\tremaining: 2.98s\n",
      "552:\tlearn: 1295.4758354\ttotal: 3.68s\tremaining: 2.98s\n",
      "553:\tlearn: 1295.2912176\ttotal: 3.69s\tremaining: 2.97s\n",
      "554:\tlearn: 1295.1193398\ttotal: 3.7s\tremaining: 2.96s\n",
      "555:\tlearn: 1294.9665410\ttotal: 3.7s\tremaining: 2.96s\n",
      "556:\tlearn: 1294.7988371\ttotal: 3.71s\tremaining: 2.95s\n",
      "557:\tlearn: 1294.5853001\ttotal: 3.72s\tremaining: 2.94s\n",
      "558:\tlearn: 1294.5170505\ttotal: 3.73s\tremaining: 2.94s\n",
      "559:\tlearn: 1294.2917820\ttotal: 3.73s\tremaining: 2.93s\n",
      "560:\tlearn: 1294.1487218\ttotal: 3.74s\tremaining: 2.92s\n",
      "561:\tlearn: 1294.0433560\ttotal: 3.75s\tremaining: 2.92s\n",
      "562:\tlearn: 1293.8069115\ttotal: 3.75s\tremaining: 2.91s\n",
      "563:\tlearn: 1293.6488306\ttotal: 3.76s\tremaining: 2.91s\n",
      "564:\tlearn: 1293.4548055\ttotal: 3.77s\tremaining: 2.9s\n",
      "565:\tlearn: 1293.2943675\ttotal: 3.77s\tremaining: 2.89s\n",
      "566:\tlearn: 1292.9985339\ttotal: 3.78s\tremaining: 2.89s\n",
      "567:\tlearn: 1292.8168348\ttotal: 3.79s\tremaining: 2.89s\n",
      "568:\tlearn: 1292.7133548\ttotal: 3.8s\tremaining: 2.88s\n",
      "569:\tlearn: 1292.5858032\ttotal: 3.81s\tremaining: 2.87s\n",
      "570:\tlearn: 1292.3593247\ttotal: 3.82s\tremaining: 2.87s\n",
      "571:\tlearn: 1292.2787572\ttotal: 3.82s\tremaining: 2.86s\n",
      "572:\tlearn: 1292.0287072\ttotal: 3.83s\tremaining: 2.85s\n",
      "573:\tlearn: 1291.8712256\ttotal: 3.84s\tremaining: 2.85s\n",
      "574:\tlearn: 1291.6828770\ttotal: 3.84s\tremaining: 2.84s\n",
      "575:\tlearn: 1291.5206077\ttotal: 3.85s\tremaining: 2.83s\n",
      "576:\tlearn: 1291.3527009\ttotal: 3.85s\tremaining: 2.83s\n",
      "577:\tlearn: 1291.2770267\ttotal: 3.86s\tremaining: 2.82s\n",
      "578:\tlearn: 1291.0343689\ttotal: 3.87s\tremaining: 2.81s\n",
      "579:\tlearn: 1290.9278100\ttotal: 3.88s\tremaining: 2.81s\n",
      "580:\tlearn: 1290.7661103\ttotal: 3.88s\tremaining: 2.8s\n",
      "581:\tlearn: 1290.6042367\ttotal: 3.89s\tremaining: 2.79s\n",
      "582:\tlearn: 1290.4551637\ttotal: 3.9s\tremaining: 2.79s\n",
      "583:\tlearn: 1290.3861169\ttotal: 3.9s\tremaining: 2.78s\n",
      "584:\tlearn: 1290.1061219\ttotal: 3.91s\tremaining: 2.77s\n",
      "585:\tlearn: 1289.8849387\ttotal: 3.92s\tremaining: 2.77s\n",
      "586:\tlearn: 1289.7391401\ttotal: 3.92s\tremaining: 2.76s\n",
      "587:\tlearn: 1289.6237762\ttotal: 3.93s\tremaining: 2.75s\n",
      "588:\tlearn: 1289.2900962\ttotal: 3.94s\tremaining: 2.75s\n",
      "589:\tlearn: 1289.0909936\ttotal: 3.94s\tremaining: 2.74s\n",
      "590:\tlearn: 1288.8959919\ttotal: 3.95s\tremaining: 2.73s\n",
      "591:\tlearn: 1288.6596423\ttotal: 3.96s\tremaining: 2.73s\n",
      "592:\tlearn: 1288.4813774\ttotal: 3.96s\tremaining: 2.72s\n",
      "593:\tlearn: 1288.2160373\ttotal: 3.97s\tremaining: 2.71s\n",
      "594:\tlearn: 1288.0589622\ttotal: 3.98s\tremaining: 2.71s\n",
      "595:\tlearn: 1287.9475221\ttotal: 3.98s\tremaining: 2.7s\n",
      "596:\tlearn: 1287.8362770\ttotal: 3.99s\tremaining: 2.69s\n",
      "597:\tlearn: 1287.6801025\ttotal: 4s\tremaining: 2.69s\n",
      "598:\tlearn: 1287.5128482\ttotal: 4s\tremaining: 2.68s\n",
      "599:\tlearn: 1287.3637647\ttotal: 4.01s\tremaining: 2.67s\n",
      "600:\tlearn: 1287.0554479\ttotal: 4.01s\tremaining: 2.67s\n",
      "601:\tlearn: 1286.9984559\ttotal: 4.02s\tremaining: 2.66s\n",
      "602:\tlearn: 1286.8204927\ttotal: 4.03s\tremaining: 2.65s\n",
      "603:\tlearn: 1286.6666926\ttotal: 4.03s\tremaining: 2.64s\n",
      "604:\tlearn: 1286.5642955\ttotal: 4.04s\tremaining: 2.64s\n",
      "605:\tlearn: 1286.4422223\ttotal: 4.05s\tremaining: 2.63s\n",
      "606:\tlearn: 1286.3115277\ttotal: 4.05s\tremaining: 2.62s\n",
      "607:\tlearn: 1286.2156750\ttotal: 4.06s\tremaining: 2.62s\n",
      "608:\tlearn: 1286.1157325\ttotal: 4.06s\tremaining: 2.61s\n",
      "609:\tlearn: 1285.9687829\ttotal: 4.07s\tremaining: 2.6s\n",
      "610:\tlearn: 1285.7362400\ttotal: 4.08s\tremaining: 2.6s\n",
      "611:\tlearn: 1285.6038563\ttotal: 4.08s\tremaining: 2.59s\n",
      "612:\tlearn: 1285.3170300\ttotal: 4.09s\tremaining: 2.58s\n",
      "613:\tlearn: 1285.2123969\ttotal: 4.09s\tremaining: 2.57s\n",
      "614:\tlearn: 1285.0863413\ttotal: 4.1s\tremaining: 2.57s\n",
      "615:\tlearn: 1284.9880486\ttotal: 4.11s\tremaining: 2.56s\n",
      "616:\tlearn: 1284.8962124\ttotal: 4.11s\tremaining: 2.55s\n",
      "617:\tlearn: 1284.5901596\ttotal: 4.12s\tremaining: 2.55s\n",
      "618:\tlearn: 1284.4322436\ttotal: 4.13s\tremaining: 2.54s\n",
      "619:\tlearn: 1284.2538480\ttotal: 4.13s\tremaining: 2.53s\n",
      "620:\tlearn: 1284.0723563\ttotal: 4.14s\tremaining: 2.53s\n",
      "621:\tlearn: 1284.0092730\ttotal: 4.14s\tremaining: 2.52s\n",
      "622:\tlearn: 1283.8766977\ttotal: 4.15s\tremaining: 2.51s\n",
      "623:\tlearn: 1283.7755846\ttotal: 4.16s\tremaining: 2.5s\n",
      "624:\tlearn: 1283.6473029\ttotal: 4.16s\tremaining: 2.5s\n",
      "625:\tlearn: 1283.4776838\ttotal: 4.17s\tremaining: 2.49s\n",
      "626:\tlearn: 1283.3770898\ttotal: 4.18s\tremaining: 2.48s\n",
      "627:\tlearn: 1283.2133674\ttotal: 4.18s\tremaining: 2.48s\n",
      "628:\tlearn: 1283.0646562\ttotal: 4.19s\tremaining: 2.47s\n",
      "629:\tlearn: 1282.9905121\ttotal: 4.2s\tremaining: 2.46s\n",
      "630:\tlearn: 1282.7825191\ttotal: 4.2s\tremaining: 2.46s\n",
      "631:\tlearn: 1282.5462628\ttotal: 4.21s\tremaining: 2.45s\n",
      "632:\tlearn: 1282.4949076\ttotal: 4.21s\tremaining: 2.44s\n",
      "633:\tlearn: 1282.3427772\ttotal: 4.22s\tremaining: 2.44s\n",
      "634:\tlearn: 1282.2480726\ttotal: 4.23s\tremaining: 2.43s\n",
      "635:\tlearn: 1282.1023447\ttotal: 4.23s\tremaining: 2.42s\n",
      "636:\tlearn: 1281.8902045\ttotal: 4.24s\tremaining: 2.42s\n",
      "637:\tlearn: 1281.8095864\ttotal: 4.25s\tremaining: 2.41s\n",
      "638:\tlearn: 1281.6187902\ttotal: 4.25s\tremaining: 2.4s\n",
      "639:\tlearn: 1281.4584329\ttotal: 4.26s\tremaining: 2.4s\n",
      "640:\tlearn: 1281.3312271\ttotal: 4.26s\tremaining: 2.39s\n",
      "641:\tlearn: 1281.1619206\ttotal: 4.27s\tremaining: 2.38s\n",
      "642:\tlearn: 1281.0129924\ttotal: 4.28s\tremaining: 2.37s\n",
      "643:\tlearn: 1280.7660512\ttotal: 4.28s\tremaining: 2.37s\n",
      "644:\tlearn: 1280.5879593\ttotal: 4.29s\tremaining: 2.36s\n",
      "645:\tlearn: 1280.4842430\ttotal: 4.3s\tremaining: 2.35s\n",
      "646:\tlearn: 1280.2276211\ttotal: 4.3s\tremaining: 2.35s\n",
      "647:\tlearn: 1280.0943044\ttotal: 4.31s\tremaining: 2.34s\n",
      "648:\tlearn: 1279.8978497\ttotal: 4.32s\tremaining: 2.33s\n",
      "649:\tlearn: 1279.6921924\ttotal: 4.32s\tremaining: 2.33s\n",
      "650:\tlearn: 1279.5669894\ttotal: 4.33s\tremaining: 2.32s\n",
      "651:\tlearn: 1279.3754976\ttotal: 4.33s\tremaining: 2.31s\n",
      "652:\tlearn: 1279.1939551\ttotal: 4.34s\tremaining: 2.31s\n",
      "653:\tlearn: 1279.0716458\ttotal: 4.35s\tremaining: 2.3s\n",
      "654:\tlearn: 1279.0112618\ttotal: 4.36s\tremaining: 2.29s\n",
      "655:\tlearn: 1278.8415897\ttotal: 4.36s\tremaining: 2.29s\n",
      "656:\tlearn: 1278.6545903\ttotal: 4.37s\tremaining: 2.28s\n",
      "657:\tlearn: 1278.4365896\ttotal: 4.38s\tremaining: 2.27s\n",
      "658:\tlearn: 1278.2645240\ttotal: 4.38s\tremaining: 2.27s\n",
      "659:\tlearn: 1278.0708862\ttotal: 4.39s\tremaining: 2.26s\n",
      "660:\tlearn: 1277.9394576\ttotal: 4.39s\tremaining: 2.25s\n",
      "661:\tlearn: 1277.8273723\ttotal: 4.4s\tremaining: 2.25s\n",
      "662:\tlearn: 1277.6600967\ttotal: 4.41s\tremaining: 2.24s\n",
      "663:\tlearn: 1277.5621910\ttotal: 4.42s\tremaining: 2.23s\n",
      "664:\tlearn: 1277.2979378\ttotal: 4.42s\tremaining: 2.23s\n",
      "665:\tlearn: 1277.2814152\ttotal: 4.43s\tremaining: 2.22s\n",
      "666:\tlearn: 1277.1204706\ttotal: 4.43s\tremaining: 2.21s\n",
      "667:\tlearn: 1277.0564430\ttotal: 4.44s\tremaining: 2.21s\n",
      "668:\tlearn: 1276.9062592\ttotal: 4.45s\tremaining: 2.2s\n",
      "669:\tlearn: 1276.8001425\ttotal: 4.46s\tremaining: 2.19s\n",
      "670:\tlearn: 1276.6639434\ttotal: 4.46s\tremaining: 2.19s\n",
      "671:\tlearn: 1276.5741848\ttotal: 4.47s\tremaining: 2.18s\n",
      "672:\tlearn: 1276.4577564\ttotal: 4.47s\tremaining: 2.17s\n",
      "673:\tlearn: 1276.3863946\ttotal: 4.48s\tremaining: 2.17s\n",
      "674:\tlearn: 1276.2991680\ttotal: 4.49s\tremaining: 2.16s\n",
      "675:\tlearn: 1276.1871125\ttotal: 4.5s\tremaining: 2.15s\n",
      "676:\tlearn: 1276.0878172\ttotal: 4.5s\tremaining: 2.15s\n",
      "677:\tlearn: 1275.9855901\ttotal: 4.51s\tremaining: 2.14s\n",
      "678:\tlearn: 1275.7744573\ttotal: 4.51s\tremaining: 2.13s\n",
      "679:\tlearn: 1275.6746578\ttotal: 4.52s\tremaining: 2.13s\n",
      "680:\tlearn: 1275.6161693\ttotal: 4.53s\tremaining: 2.12s\n",
      "681:\tlearn: 1275.3587150\ttotal: 4.53s\tremaining: 2.11s\n",
      "682:\tlearn: 1275.2411896\ttotal: 4.54s\tremaining: 2.11s\n",
      "683:\tlearn: 1275.1092237\ttotal: 4.54s\tremaining: 2.1s\n",
      "684:\tlearn: 1274.9956154\ttotal: 4.55s\tremaining: 2.09s\n",
      "685:\tlearn: 1274.7804340\ttotal: 4.56s\tremaining: 2.09s\n",
      "686:\tlearn: 1274.7306572\ttotal: 4.56s\tremaining: 2.08s\n",
      "687:\tlearn: 1274.6474068\ttotal: 4.57s\tremaining: 2.07s\n",
      "688:\tlearn: 1274.6061410\ttotal: 4.58s\tremaining: 2.07s\n",
      "689:\tlearn: 1274.4507397\ttotal: 4.58s\tremaining: 2.06s\n",
      "690:\tlearn: 1274.3490651\ttotal: 4.59s\tremaining: 2.05s\n",
      "691:\tlearn: 1274.2067932\ttotal: 4.6s\tremaining: 2.05s\n",
      "692:\tlearn: 1274.0762340\ttotal: 4.6s\tremaining: 2.04s\n",
      "693:\tlearn: 1273.9955844\ttotal: 4.61s\tremaining: 2.03s\n",
      "694:\tlearn: 1273.8666524\ttotal: 4.62s\tremaining: 2.02s\n",
      "695:\tlearn: 1273.6366447\ttotal: 4.62s\tremaining: 2.02s\n",
      "696:\tlearn: 1273.4215723\ttotal: 4.63s\tremaining: 2.01s\n",
      "697:\tlearn: 1273.3379712\ttotal: 4.63s\tremaining: 2s\n",
      "698:\tlearn: 1273.2079799\ttotal: 4.64s\tremaining: 2s\n",
      "699:\tlearn: 1273.0812253\ttotal: 4.65s\tremaining: 1.99s\n",
      "700:\tlearn: 1272.9257001\ttotal: 4.65s\tremaining: 1.99s\n",
      "701:\tlearn: 1272.8390689\ttotal: 4.66s\tremaining: 1.98s\n",
      "702:\tlearn: 1272.6540815\ttotal: 4.67s\tremaining: 1.97s\n",
      "703:\tlearn: 1272.5211648\ttotal: 4.67s\tremaining: 1.96s\n",
      "704:\tlearn: 1272.4339270\ttotal: 4.68s\tremaining: 1.96s\n",
      "705:\tlearn: 1272.2718559\ttotal: 4.68s\tremaining: 1.95s\n",
      "706:\tlearn: 1272.1084166\ttotal: 4.69s\tremaining: 1.94s\n",
      "707:\tlearn: 1271.8614592\ttotal: 4.7s\tremaining: 1.94s\n",
      "708:\tlearn: 1271.7201352\ttotal: 4.7s\tremaining: 1.93s\n",
      "709:\tlearn: 1271.6085733\ttotal: 4.71s\tremaining: 1.92s\n",
      "710:\tlearn: 1271.4622687\ttotal: 4.72s\tremaining: 1.92s\n",
      "711:\tlearn: 1271.3430674\ttotal: 4.72s\tremaining: 1.91s\n",
      "712:\tlearn: 1271.2863772\ttotal: 4.73s\tremaining: 1.9s\n",
      "713:\tlearn: 1271.1991438\ttotal: 4.73s\tremaining: 1.9s\n",
      "714:\tlearn: 1271.0274037\ttotal: 4.74s\tremaining: 1.89s\n",
      "715:\tlearn: 1270.8710034\ttotal: 4.75s\tremaining: 1.88s\n",
      "716:\tlearn: 1270.6717512\ttotal: 4.75s\tremaining: 1.88s\n",
      "717:\tlearn: 1270.5280871\ttotal: 4.76s\tremaining: 1.87s\n",
      "718:\tlearn: 1270.4720727\ttotal: 4.76s\tremaining: 1.86s\n",
      "719:\tlearn: 1270.3874348\ttotal: 4.77s\tremaining: 1.85s\n",
      "720:\tlearn: 1270.2491348\ttotal: 4.78s\tremaining: 1.85s\n",
      "721:\tlearn: 1270.1564193\ttotal: 4.78s\tremaining: 1.84s\n",
      "722:\tlearn: 1269.9021527\ttotal: 4.79s\tremaining: 1.83s\n",
      "723:\tlearn: 1269.8693007\ttotal: 4.8s\tremaining: 1.83s\n",
      "724:\tlearn: 1269.7276002\ttotal: 4.8s\tremaining: 1.82s\n",
      "725:\tlearn: 1269.6592534\ttotal: 4.81s\tremaining: 1.81s\n",
      "726:\tlearn: 1269.4204349\ttotal: 4.82s\tremaining: 1.81s\n",
      "727:\tlearn: 1269.3071775\ttotal: 4.82s\tremaining: 1.8s\n",
      "728:\tlearn: 1269.1923610\ttotal: 4.83s\tremaining: 1.79s\n",
      "729:\tlearn: 1269.0144844\ttotal: 4.83s\tremaining: 1.79s\n",
      "730:\tlearn: 1268.8654742\ttotal: 4.84s\tremaining: 1.78s\n",
      "731:\tlearn: 1268.6728638\ttotal: 4.85s\tremaining: 1.77s\n",
      "732:\tlearn: 1268.5082436\ttotal: 4.85s\tremaining: 1.77s\n",
      "733:\tlearn: 1268.3476101\ttotal: 4.86s\tremaining: 1.76s\n",
      "734:\tlearn: 1268.2501933\ttotal: 4.87s\tremaining: 1.75s\n",
      "735:\tlearn: 1268.1068688\ttotal: 4.87s\tremaining: 1.75s\n",
      "736:\tlearn: 1267.9263836\ttotal: 4.88s\tremaining: 1.74s\n",
      "737:\tlearn: 1267.8939744\ttotal: 4.89s\tremaining: 1.73s\n",
      "738:\tlearn: 1267.8170560\ttotal: 4.89s\tremaining: 1.73s\n",
      "739:\tlearn: 1267.6136760\ttotal: 4.9s\tremaining: 1.72s\n",
      "740:\tlearn: 1267.4346959\ttotal: 4.91s\tremaining: 1.71s\n",
      "741:\tlearn: 1267.2830398\ttotal: 4.91s\tremaining: 1.71s\n",
      "742:\tlearn: 1267.2392746\ttotal: 4.92s\tremaining: 1.7s\n",
      "743:\tlearn: 1267.0659743\ttotal: 4.92s\tremaining: 1.69s\n",
      "744:\tlearn: 1266.9396478\ttotal: 4.93s\tremaining: 1.69s\n",
      "745:\tlearn: 1266.8802185\ttotal: 4.94s\tremaining: 1.68s\n",
      "746:\tlearn: 1266.6383190\ttotal: 4.94s\tremaining: 1.67s\n",
      "747:\tlearn: 1266.5364453\ttotal: 4.95s\tremaining: 1.67s\n",
      "748:\tlearn: 1266.3940129\ttotal: 4.96s\tremaining: 1.66s\n",
      "749:\tlearn: 1266.3049443\ttotal: 4.96s\tremaining: 1.65s\n",
      "750:\tlearn: 1266.2047652\ttotal: 4.97s\tremaining: 1.65s\n",
      "751:\tlearn: 1265.9601644\ttotal: 4.97s\tremaining: 1.64s\n",
      "752:\tlearn: 1265.7401658\ttotal: 4.98s\tremaining: 1.63s\n",
      "753:\tlearn: 1265.5967618\ttotal: 4.99s\tremaining: 1.63s\n",
      "754:\tlearn: 1265.4515568\ttotal: 5s\tremaining: 1.62s\n",
      "755:\tlearn: 1265.2686861\ttotal: 5s\tremaining: 1.61s\n",
      "756:\tlearn: 1265.1361934\ttotal: 5.01s\tremaining: 1.61s\n",
      "757:\tlearn: 1264.9083324\ttotal: 5.01s\tremaining: 1.6s\n",
      "758:\tlearn: 1264.8460926\ttotal: 5.02s\tremaining: 1.59s\n",
      "759:\tlearn: 1264.7231048\ttotal: 5.03s\tremaining: 1.59s\n",
      "760:\tlearn: 1264.6566992\ttotal: 5.03s\tremaining: 1.58s\n",
      "761:\tlearn: 1264.5397350\ttotal: 5.04s\tremaining: 1.57s\n",
      "762:\tlearn: 1264.4602098\ttotal: 5.05s\tremaining: 1.57s\n",
      "763:\tlearn: 1264.2627090\ttotal: 5.05s\tremaining: 1.56s\n",
      "764:\tlearn: 1264.1066795\ttotal: 5.06s\tremaining: 1.55s\n",
      "765:\tlearn: 1264.0561224\ttotal: 5.07s\tremaining: 1.55s\n",
      "766:\tlearn: 1263.9266649\ttotal: 5.07s\tremaining: 1.54s\n",
      "767:\tlearn: 1263.7846650\ttotal: 5.08s\tremaining: 1.53s\n",
      "768:\tlearn: 1263.6519807\ttotal: 5.08s\tremaining: 1.53s\n",
      "769:\tlearn: 1263.4225736\ttotal: 5.09s\tremaining: 1.52s\n",
      "770:\tlearn: 1263.3671503\ttotal: 5.1s\tremaining: 1.51s\n",
      "771:\tlearn: 1263.3162593\ttotal: 5.1s\tremaining: 1.51s\n",
      "772:\tlearn: 1263.2715261\ttotal: 5.11s\tremaining: 1.5s\n",
      "773:\tlearn: 1263.1484585\ttotal: 5.12s\tremaining: 1.49s\n",
      "774:\tlearn: 1263.0631243\ttotal: 5.12s\tremaining: 1.49s\n",
      "775:\tlearn: 1262.9034092\ttotal: 5.13s\tremaining: 1.48s\n",
      "776:\tlearn: 1262.7934669\ttotal: 5.13s\tremaining: 1.47s\n",
      "777:\tlearn: 1262.6819346\ttotal: 5.14s\tremaining: 1.47s\n",
      "778:\tlearn: 1262.4752668\ttotal: 5.15s\tremaining: 1.46s\n",
      "779:\tlearn: 1262.3568919\ttotal: 5.16s\tremaining: 1.45s\n",
      "780:\tlearn: 1262.2253824\ttotal: 5.16s\tremaining: 1.45s\n",
      "781:\tlearn: 1262.1766472\ttotal: 5.17s\tremaining: 1.44s\n",
      "782:\tlearn: 1261.9735323\ttotal: 5.17s\tremaining: 1.43s\n",
      "783:\tlearn: 1261.8280335\ttotal: 5.18s\tremaining: 1.43s\n",
      "784:\tlearn: 1261.7468510\ttotal: 5.19s\tremaining: 1.42s\n",
      "785:\tlearn: 1261.5206165\ttotal: 5.2s\tremaining: 1.41s\n",
      "786:\tlearn: 1261.4605185\ttotal: 5.2s\tremaining: 1.41s\n",
      "787:\tlearn: 1261.3909211\ttotal: 5.21s\tremaining: 1.4s\n",
      "788:\tlearn: 1261.2570854\ttotal: 5.22s\tremaining: 1.4s\n",
      "789:\tlearn: 1261.1332756\ttotal: 5.22s\tremaining: 1.39s\n",
      "790:\tlearn: 1261.0003241\ttotal: 5.23s\tremaining: 1.38s\n",
      "791:\tlearn: 1260.7758404\ttotal: 5.24s\tremaining: 1.38s\n",
      "792:\tlearn: 1260.7299535\ttotal: 5.24s\tremaining: 1.37s\n",
      "793:\tlearn: 1260.6477864\ttotal: 5.25s\tremaining: 1.36s\n",
      "794:\tlearn: 1260.5369297\ttotal: 5.26s\tremaining: 1.35s\n",
      "795:\tlearn: 1260.4384337\ttotal: 5.26s\tremaining: 1.35s\n",
      "796:\tlearn: 1260.3911164\ttotal: 5.27s\tremaining: 1.34s\n",
      "797:\tlearn: 1260.3512629\ttotal: 5.28s\tremaining: 1.33s\n",
      "798:\tlearn: 1260.2906128\ttotal: 5.28s\tremaining: 1.33s\n",
      "799:\tlearn: 1260.1781241\ttotal: 5.29s\tremaining: 1.32s\n",
      "800:\tlearn: 1260.0027639\ttotal: 5.3s\tremaining: 1.32s\n",
      "801:\tlearn: 1259.9137919\ttotal: 5.31s\tremaining: 1.31s\n",
      "802:\tlearn: 1259.7042483\ttotal: 5.32s\tremaining: 1.3s\n",
      "803:\tlearn: 1259.5762072\ttotal: 5.33s\tremaining: 1.3s\n",
      "804:\tlearn: 1259.4694255\ttotal: 5.33s\tremaining: 1.29s\n",
      "805:\tlearn: 1259.3068716\ttotal: 5.34s\tremaining: 1.28s\n",
      "806:\tlearn: 1259.2449827\ttotal: 5.35s\tremaining: 1.28s\n",
      "807:\tlearn: 1259.1597465\ttotal: 5.35s\tremaining: 1.27s\n",
      "808:\tlearn: 1259.1061698\ttotal: 5.36s\tremaining: 1.26s\n",
      "809:\tlearn: 1258.9920036\ttotal: 5.37s\tremaining: 1.26s\n",
      "810:\tlearn: 1258.7669308\ttotal: 5.38s\tremaining: 1.25s\n",
      "811:\tlearn: 1258.6242498\ttotal: 5.38s\tremaining: 1.25s\n",
      "812:\tlearn: 1258.5963983\ttotal: 5.39s\tremaining: 1.24s\n",
      "813:\tlearn: 1258.4707901\ttotal: 5.4s\tremaining: 1.23s\n",
      "814:\tlearn: 1258.4136000\ttotal: 5.4s\tremaining: 1.23s\n",
      "815:\tlearn: 1258.3461258\ttotal: 5.41s\tremaining: 1.22s\n",
      "816:\tlearn: 1258.2743543\ttotal: 5.42s\tremaining: 1.21s\n",
      "817:\tlearn: 1258.1727608\ttotal: 5.42s\tremaining: 1.21s\n",
      "818:\tlearn: 1257.9766567\ttotal: 5.43s\tremaining: 1.2s\n",
      "819:\tlearn: 1257.8872911\ttotal: 5.44s\tremaining: 1.2s\n",
      "820:\tlearn: 1257.7363181\ttotal: 5.45s\tremaining: 1.19s\n",
      "821:\tlearn: 1257.6006804\ttotal: 5.46s\tremaining: 1.18s\n",
      "822:\tlearn: 1257.5147457\ttotal: 5.47s\tremaining: 1.18s\n",
      "823:\tlearn: 1257.3591409\ttotal: 5.47s\tremaining: 1.17s\n",
      "824:\tlearn: 1257.2793078\ttotal: 5.48s\tremaining: 1.16s\n",
      "825:\tlearn: 1257.2154754\ttotal: 5.49s\tremaining: 1.16s\n",
      "826:\tlearn: 1257.1424045\ttotal: 5.49s\tremaining: 1.15s\n",
      "827:\tlearn: 1257.0417610\ttotal: 5.5s\tremaining: 1.14s\n",
      "828:\tlearn: 1256.8061604\ttotal: 5.5s\tremaining: 1.14s\n",
      "829:\tlearn: 1256.7057272\ttotal: 5.51s\tremaining: 1.13s\n",
      "830:\tlearn: 1256.5709842\ttotal: 5.52s\tremaining: 1.12s\n",
      "831:\tlearn: 1256.4995441\ttotal: 5.52s\tremaining: 1.11s\n",
      "832:\tlearn: 1256.3472027\ttotal: 5.53s\tremaining: 1.11s\n",
      "833:\tlearn: 1256.2085728\ttotal: 5.54s\tremaining: 1.1s\n",
      "834:\tlearn: 1256.1019333\ttotal: 5.54s\tremaining: 1.09s\n",
      "835:\tlearn: 1255.9842565\ttotal: 5.55s\tremaining: 1.09s\n",
      "836:\tlearn: 1255.8007893\ttotal: 5.55s\tremaining: 1.08s\n",
      "837:\tlearn: 1255.7298335\ttotal: 5.56s\tremaining: 1.07s\n",
      "838:\tlearn: 1255.5670221\ttotal: 5.57s\tremaining: 1.07s\n",
      "839:\tlearn: 1255.4895574\ttotal: 5.57s\tremaining: 1.06s\n",
      "840:\tlearn: 1255.4023395\ttotal: 5.58s\tremaining: 1.05s\n",
      "841:\tlearn: 1255.2763370\ttotal: 5.59s\tremaining: 1.05s\n",
      "842:\tlearn: 1255.1858294\ttotal: 5.59s\tremaining: 1.04s\n",
      "843:\tlearn: 1255.0255524\ttotal: 5.6s\tremaining: 1.03s\n",
      "844:\tlearn: 1254.8486799\ttotal: 5.61s\tremaining: 1.03s\n",
      "845:\tlearn: 1254.6512819\ttotal: 5.61s\tremaining: 1.02s\n",
      "846:\tlearn: 1254.5127092\ttotal: 5.62s\tremaining: 1.01s\n",
      "847:\tlearn: 1254.3817841\ttotal: 5.62s\tremaining: 1.01s\n",
      "848:\tlearn: 1254.2985118\ttotal: 5.63s\tremaining: 1s\n",
      "849:\tlearn: 1254.0769748\ttotal: 5.64s\tremaining: 995ms\n",
      "850:\tlearn: 1253.9114853\ttotal: 5.64s\tremaining: 988ms\n",
      "851:\tlearn: 1253.8411247\ttotal: 5.65s\tremaining: 982ms\n",
      "852:\tlearn: 1253.8111431\ttotal: 5.66s\tremaining: 975ms\n",
      "853:\tlearn: 1253.6869748\ttotal: 5.66s\tremaining: 968ms\n",
      "854:\tlearn: 1253.4749263\ttotal: 5.67s\tremaining: 961ms\n",
      "855:\tlearn: 1253.4108570\ttotal: 5.67s\tremaining: 955ms\n",
      "856:\tlearn: 1253.3375858\ttotal: 5.68s\tremaining: 948ms\n",
      "857:\tlearn: 1253.2411456\ttotal: 5.69s\tremaining: 941ms\n",
      "858:\tlearn: 1253.1315615\ttotal: 5.69s\tremaining: 935ms\n",
      "859:\tlearn: 1252.9539881\ttotal: 5.7s\tremaining: 928ms\n",
      "860:\tlearn: 1252.9058538\ttotal: 5.71s\tremaining: 921ms\n",
      "861:\tlearn: 1252.8868771\ttotal: 5.71s\tremaining: 915ms\n",
      "862:\tlearn: 1252.6716205\ttotal: 5.72s\tremaining: 908ms\n",
      "863:\tlearn: 1252.5986913\ttotal: 5.72s\tremaining: 901ms\n",
      "864:\tlearn: 1252.5160917\ttotal: 5.73s\tremaining: 895ms\n",
      "865:\tlearn: 1252.4533995\ttotal: 5.74s\tremaining: 888ms\n",
      "866:\tlearn: 1252.3328730\ttotal: 5.74s\tremaining: 881ms\n",
      "867:\tlearn: 1252.1789692\ttotal: 5.75s\tremaining: 874ms\n",
      "868:\tlearn: 1252.0576350\ttotal: 5.76s\tremaining: 868ms\n",
      "869:\tlearn: 1251.9984220\ttotal: 5.76s\tremaining: 861ms\n",
      "870:\tlearn: 1251.8843905\ttotal: 5.77s\tremaining: 854ms\n",
      "871:\tlearn: 1251.6259966\ttotal: 5.78s\tremaining: 848ms\n",
      "872:\tlearn: 1251.5250333\ttotal: 5.78s\tremaining: 841ms\n",
      "873:\tlearn: 1251.4608666\ttotal: 5.79s\tremaining: 834ms\n",
      "874:\tlearn: 1251.4070143\ttotal: 5.79s\tremaining: 828ms\n",
      "875:\tlearn: 1251.2663895\ttotal: 5.8s\tremaining: 821ms\n",
      "876:\tlearn: 1251.1923266\ttotal: 5.81s\tremaining: 814ms\n",
      "877:\tlearn: 1251.0158721\ttotal: 5.81s\tremaining: 808ms\n",
      "878:\tlearn: 1250.8326605\ttotal: 5.82s\tremaining: 801ms\n",
      "879:\tlearn: 1250.6877898\ttotal: 5.83s\tremaining: 794ms\n",
      "880:\tlearn: 1250.6219232\ttotal: 5.83s\tremaining: 788ms\n",
      "881:\tlearn: 1250.4499335\ttotal: 5.84s\tremaining: 781ms\n",
      "882:\tlearn: 1250.3254539\ttotal: 5.84s\tremaining: 774ms\n",
      "883:\tlearn: 1250.1348050\ttotal: 5.85s\tremaining: 768ms\n",
      "884:\tlearn: 1250.0621855\ttotal: 5.86s\tremaining: 761ms\n",
      "885:\tlearn: 1249.9357354\ttotal: 5.87s\tremaining: 755ms\n",
      "886:\tlearn: 1249.8308193\ttotal: 5.87s\tremaining: 748ms\n",
      "887:\tlearn: 1249.7708962\ttotal: 5.88s\tremaining: 741ms\n",
      "888:\tlearn: 1249.7184188\ttotal: 5.88s\tremaining: 735ms\n",
      "889:\tlearn: 1249.6531677\ttotal: 5.89s\tremaining: 728ms\n",
      "890:\tlearn: 1249.6139689\ttotal: 5.9s\tremaining: 722ms\n",
      "891:\tlearn: 1249.5419632\ttotal: 5.9s\tremaining: 715ms\n",
      "892:\tlearn: 1249.4552429\ttotal: 5.91s\tremaining: 708ms\n",
      "893:\tlearn: 1249.3900569\ttotal: 5.92s\tremaining: 702ms\n",
      "894:\tlearn: 1249.3284092\ttotal: 5.92s\tremaining: 695ms\n",
      "895:\tlearn: 1249.2619181\ttotal: 5.93s\tremaining: 688ms\n",
      "896:\tlearn: 1249.2150048\ttotal: 5.94s\tremaining: 682ms\n",
      "897:\tlearn: 1249.1133728\ttotal: 5.94s\tremaining: 675ms\n",
      "898:\tlearn: 1249.0141860\ttotal: 5.95s\tremaining: 668ms\n",
      "899:\tlearn: 1248.8993868\ttotal: 5.96s\tremaining: 662ms\n",
      "900:\tlearn: 1248.8207843\ttotal: 5.96s\tremaining: 655ms\n",
      "901:\tlearn: 1248.7436288\ttotal: 5.97s\tremaining: 648ms\n",
      "902:\tlearn: 1248.6798954\ttotal: 5.97s\tremaining: 642ms\n",
      "903:\tlearn: 1248.6056492\ttotal: 5.98s\tremaining: 635ms\n",
      "904:\tlearn: 1248.5079948\ttotal: 5.99s\tremaining: 629ms\n",
      "905:\tlearn: 1248.3564932\ttotal: 5.99s\tremaining: 622ms\n",
      "906:\tlearn: 1248.2881646\ttotal: 6s\tremaining: 615ms\n",
      "907:\tlearn: 1248.2489639\ttotal: 6.01s\tremaining: 609ms\n",
      "908:\tlearn: 1248.1374649\ttotal: 6.01s\tremaining: 602ms\n",
      "909:\tlearn: 1248.0309193\ttotal: 6.02s\tremaining: 595ms\n",
      "910:\tlearn: 1247.8889751\ttotal: 6.02s\tremaining: 589ms\n",
      "911:\tlearn: 1247.8019384\ttotal: 6.03s\tremaining: 582ms\n",
      "912:\tlearn: 1247.6911974\ttotal: 6.04s\tremaining: 575ms\n",
      "913:\tlearn: 1247.5655778\ttotal: 6.04s\tremaining: 569ms\n",
      "914:\tlearn: 1247.4967680\ttotal: 6.05s\tremaining: 562ms\n",
      "915:\tlearn: 1247.4054680\ttotal: 6.05s\tremaining: 555ms\n",
      "916:\tlearn: 1247.3272852\ttotal: 6.06s\tremaining: 549ms\n",
      "917:\tlearn: 1247.2584421\ttotal: 6.07s\tremaining: 542ms\n",
      "918:\tlearn: 1247.1209052\ttotal: 6.08s\tremaining: 535ms\n",
      "919:\tlearn: 1247.0522008\ttotal: 6.08s\tremaining: 529ms\n",
      "920:\tlearn: 1246.9651725\ttotal: 6.09s\tremaining: 522ms\n",
      "921:\tlearn: 1246.8956097\ttotal: 6.09s\tremaining: 516ms\n",
      "922:\tlearn: 1246.8401305\ttotal: 6.1s\tremaining: 509ms\n",
      "923:\tlearn: 1246.5529980\ttotal: 6.11s\tremaining: 502ms\n",
      "924:\tlearn: 1246.5204455\ttotal: 6.11s\tremaining: 496ms\n",
      "925:\tlearn: 1246.3625335\ttotal: 6.12s\tremaining: 489ms\n",
      "926:\tlearn: 1246.2593136\ttotal: 6.12s\tremaining: 482ms\n",
      "927:\tlearn: 1246.1590296\ttotal: 6.13s\tremaining: 476ms\n",
      "928:\tlearn: 1246.0312108\ttotal: 6.14s\tremaining: 469ms\n",
      "929:\tlearn: 1245.9261444\ttotal: 6.14s\tremaining: 462ms\n",
      "930:\tlearn: 1245.7862691\ttotal: 6.15s\tremaining: 456ms\n",
      "931:\tlearn: 1245.6691308\ttotal: 6.16s\tremaining: 449ms\n",
      "932:\tlearn: 1245.5182603\ttotal: 6.16s\tremaining: 443ms\n",
      "933:\tlearn: 1245.4148565\ttotal: 6.17s\tremaining: 436ms\n",
      "934:\tlearn: 1245.3567395\ttotal: 6.17s\tremaining: 429ms\n",
      "935:\tlearn: 1245.2406020\ttotal: 6.18s\tremaining: 423ms\n",
      "936:\tlearn: 1245.2096951\ttotal: 6.19s\tremaining: 416ms\n",
      "937:\tlearn: 1245.0294660\ttotal: 6.19s\tremaining: 409ms\n",
      "938:\tlearn: 1244.8484005\ttotal: 6.2s\tremaining: 403ms\n",
      "939:\tlearn: 1244.6634947\ttotal: 6.21s\tremaining: 396ms\n",
      "940:\tlearn: 1244.5704841\ttotal: 6.21s\tremaining: 390ms\n",
      "941:\tlearn: 1244.5445430\ttotal: 6.22s\tremaining: 383ms\n",
      "942:\tlearn: 1244.4801521\ttotal: 6.22s\tremaining: 376ms\n",
      "943:\tlearn: 1244.2483873\ttotal: 6.23s\tremaining: 370ms\n",
      "944:\tlearn: 1244.1443843\ttotal: 6.24s\tremaining: 363ms\n",
      "945:\tlearn: 1244.0183090\ttotal: 6.24s\tremaining: 356ms\n",
      "946:\tlearn: 1243.8699410\ttotal: 6.25s\tremaining: 350ms\n",
      "947:\tlearn: 1243.7590969\ttotal: 6.26s\tremaining: 343ms\n",
      "948:\tlearn: 1243.6777075\ttotal: 6.26s\tremaining: 337ms\n",
      "949:\tlearn: 1243.6370227\ttotal: 6.27s\tremaining: 330ms\n",
      "950:\tlearn: 1243.3919784\ttotal: 6.28s\tremaining: 323ms\n",
      "951:\tlearn: 1243.1984501\ttotal: 6.28s\tremaining: 317ms\n",
      "952:\tlearn: 1243.0542594\ttotal: 6.29s\tremaining: 310ms\n",
      "953:\tlearn: 1242.9274525\ttotal: 6.29s\tremaining: 304ms\n",
      "954:\tlearn: 1242.8656775\ttotal: 6.3s\tremaining: 297ms\n",
      "955:\tlearn: 1242.7776930\ttotal: 6.31s\tremaining: 290ms\n",
      "956:\tlearn: 1242.5991009\ttotal: 6.31s\tremaining: 284ms\n",
      "957:\tlearn: 1242.5111227\ttotal: 6.32s\tremaining: 277ms\n",
      "958:\tlearn: 1242.3987759\ttotal: 6.33s\tremaining: 271ms\n",
      "959:\tlearn: 1242.3333251\ttotal: 6.33s\tremaining: 264ms\n",
      "960:\tlearn: 1242.2594276\ttotal: 6.34s\tremaining: 257ms\n",
      "961:\tlearn: 1242.2210144\ttotal: 6.35s\tremaining: 251ms\n",
      "962:\tlearn: 1242.1754615\ttotal: 6.35s\tremaining: 244ms\n",
      "963:\tlearn: 1242.0368927\ttotal: 6.36s\tremaining: 237ms\n",
      "964:\tlearn: 1241.8922981\ttotal: 6.36s\tremaining: 231ms\n",
      "965:\tlearn: 1241.7750847\ttotal: 6.37s\tremaining: 224ms\n",
      "966:\tlearn: 1241.5663979\ttotal: 6.38s\tremaining: 218ms\n",
      "967:\tlearn: 1241.4762582\ttotal: 6.38s\tremaining: 211ms\n",
      "968:\tlearn: 1241.3534082\ttotal: 6.39s\tremaining: 204ms\n",
      "969:\tlearn: 1241.2862268\ttotal: 6.4s\tremaining: 198ms\n",
      "970:\tlearn: 1241.1996194\ttotal: 6.4s\tremaining: 191ms\n",
      "971:\tlearn: 1241.1620249\ttotal: 6.41s\tremaining: 185ms\n",
      "972:\tlearn: 1241.0478144\ttotal: 6.41s\tremaining: 178ms\n",
      "973:\tlearn: 1240.9098982\ttotal: 6.42s\tremaining: 171ms\n",
      "974:\tlearn: 1240.8564329\ttotal: 6.42s\tremaining: 165ms\n",
      "975:\tlearn: 1240.7742937\ttotal: 6.43s\tremaining: 158ms\n",
      "976:\tlearn: 1240.6625285\ttotal: 6.44s\tremaining: 152ms\n",
      "977:\tlearn: 1240.5377222\ttotal: 6.44s\tremaining: 145ms\n",
      "978:\tlearn: 1240.4530407\ttotal: 6.45s\tremaining: 138ms\n",
      "979:\tlearn: 1240.3604737\ttotal: 6.46s\tremaining: 132ms\n",
      "980:\tlearn: 1240.2781908\ttotal: 6.46s\tremaining: 125ms\n",
      "981:\tlearn: 1240.2107594\ttotal: 6.47s\tremaining: 119ms\n",
      "982:\tlearn: 1240.1749741\ttotal: 6.47s\tremaining: 112ms\n",
      "983:\tlearn: 1240.0117993\ttotal: 6.48s\tremaining: 105ms\n",
      "984:\tlearn: 1239.9564078\ttotal: 6.49s\tremaining: 98.8ms\n",
      "985:\tlearn: 1239.8692392\ttotal: 6.49s\tremaining: 92.2ms\n",
      "986:\tlearn: 1239.7254195\ttotal: 6.5s\tremaining: 85.6ms\n",
      "987:\tlearn: 1239.6711968\ttotal: 6.51s\tremaining: 79ms\n",
      "988:\tlearn: 1239.4953752\ttotal: 6.51s\tremaining: 72.5ms\n",
      "989:\tlearn: 1239.3747977\ttotal: 6.52s\tremaining: 65.9ms\n",
      "990:\tlearn: 1239.2961891\ttotal: 6.53s\tremaining: 59.3ms\n",
      "991:\tlearn: 1239.2495004\ttotal: 6.53s\tremaining: 52.7ms\n",
      "992:\tlearn: 1239.2309620\ttotal: 6.54s\tremaining: 46.1ms\n",
      "993:\tlearn: 1239.1899846\ttotal: 6.54s\tremaining: 39.5ms\n",
      "994:\tlearn: 1239.0392154\ttotal: 6.55s\tremaining: 32.9ms\n",
      "995:\tlearn: 1238.9915771\ttotal: 6.56s\tremaining: 26.3ms\n",
      "996:\tlearn: 1238.9175491\ttotal: 6.56s\tremaining: 19.7ms\n",
      "997:\tlearn: 1238.8087227\ttotal: 6.57s\tremaining: 13.2ms\n",
      "998:\tlearn: 1238.7592300\ttotal: 6.57s\tremaining: 6.58ms\n",
      "999:\tlearn: 1238.6416259\ttotal: 6.58s\tremaining: 0us\n",
      "Модель предсказывает за 0.02 секунд, обучается за 91.39 секунд\n",
      "RMSE: 1238.6416258612512 .с параметрами {'max_depth': 8, 'learning_rate': 0.2}\n",
      "CPU times: total: 1min 26s\n",
      "Wall time: 1min 31s\n"
     ]
    },
    {
     "name": "stderr",
     "output_type": "stream",
     "text": [
      "C:\\Users\\saveliy\\AppData\\Roaming\\Python\\Python312\\site-packages\\sklearn\\metrics\\_regression.py:492: FutureWarning: 'squared' is deprecated in version 1.4 and will be removed in 1.6. To calculate the root mean squared error, use the function'root_mean_squared_error'.\n",
      "  warnings.warn(\n"
     ]
    }
   ],
   "source": [
    "%%time\n",
    "params = {\n",
    "    'max_depth': [8, 11, 12],\n",
    "    'learning_rate': [0.01, 0.2]\n",
    "}\n",
    "print('подбор параметров')\n",
    "model_CatBoost = RandomizedSearchCV(estimator = CatBoostRegressor(verbose=1),\n",
    "                        param_distributions=params, scoring='neg_mean_absolute_error', cv=3, n_iter=6,  n_jobs=-1)\n",
    "\n",
    "print('обучение')\n",
    "start = time()\n",
    "model_CatBoost.fit(features_train_oe, target_train_oe)\n",
    "time_to_fit = time() - start\n",
    "start = time()\n",
    "predictions = model_CatBoost.predict(features_train_oe)\n",
    "time_to_predict = time() - start\n",
    "rmse = mean_squared_error(target_train_oe, predictions, squared=False)\n",
    "print('Модель предсказывает за %.2f секунд, обучается за %.2f секунд' % (time_to_predict, time_to_fit))\n",
    "print('RMSE:', rmse,'.с параметрами',model_CatBoost.best_params_)\n",
    "result.loc[5] = ['CatBoost',model_CatBoost,rmse,time_to_predict,time_to_fit]"
   ]
  },
  {
   "cell_type": "code",
   "execution_count": 45,
   "metadata": {
    "colab": {
     "base_uri": "https://localhost:8080/",
     "height": 272
    },
    "id": "7Go3fv9S-Q3V",
    "outputId": "38b01aea-6697-4507-dc86-ec71b12ae9dc"
   },
   "outputs": [
    {
     "data": {
      "text/html": [
       "<div>\n",
       "<style scoped>\n",
       "    .dataframe tbody tr th:only-of-type {\n",
       "        vertical-align: middle;\n",
       "    }\n",
       "\n",
       "    .dataframe tbody tr th {\n",
       "        vertical-align: top;\n",
       "    }\n",
       "\n",
       "    .dataframe thead th {\n",
       "        text-align: right;\n",
       "    }\n",
       "</style>\n",
       "<table border=\"1\" class=\"dataframe\">\n",
       "  <thead>\n",
       "    <tr style=\"text-align: right;\">\n",
       "      <th></th>\n",
       "      <th>name</th>\n",
       "      <th>model</th>\n",
       "      <th>RMSE</th>\n",
       "      <th>time_to_predict</th>\n",
       "      <th>time_to_fit</th>\n",
       "    </tr>\n",
       "  </thead>\n",
       "  <tbody>\n",
       "    <tr>\n",
       "      <th>0</th>\n",
       "      <td>LinearRegression</td>\n",
       "      <td>LinearRegression()</td>\n",
       "      <td>2235.526645</td>\n",
       "      <td>0.123198</td>\n",
       "      <td>0.892126</td>\n",
       "    </tr>\n",
       "    <tr>\n",
       "      <th>1</th>\n",
       "      <td>DecisionTree</td>\n",
       "      <td>GridSearchCV(cv=3, estimator=DecisionTreeRegre...</td>\n",
       "      <td>1190.661426</td>\n",
       "      <td>0.024508</td>\n",
       "      <td>7.157150</td>\n",
       "    </tr>\n",
       "    <tr>\n",
       "      <th>2</th>\n",
       "      <td>RandomForest</td>\n",
       "      <td>RandomizedSearchCV(cv=3, estimator=RandomFores...</td>\n",
       "      <td>1200.142853</td>\n",
       "      <td>5.444194</td>\n",
       "      <td>111.907524</td>\n",
       "    </tr>\n",
       "    <tr>\n",
       "      <th>3</th>\n",
       "      <td>LightGBM</td>\n",
       "      <td>RandomizedSearchCV(cv=3,\\n                   e...</td>\n",
       "      <td>1463.850187</td>\n",
       "      <td>0.063049</td>\n",
       "      <td>5.827842</td>\n",
       "    </tr>\n",
       "    <tr>\n",
       "      <th>4</th>\n",
       "      <td>XGBoost</td>\n",
       "      <td>RandomizedSearchCV(cv=3,\\n                   e...</td>\n",
       "      <td>1060.893711</td>\n",
       "      <td>0.077024</td>\n",
       "      <td>13.400950</td>\n",
       "    </tr>\n",
       "    <tr>\n",
       "      <th>5</th>\n",
       "      <td>CatBoost</td>\n",
       "      <td>RandomizedSearchCV(cv=3,\\n                   e...</td>\n",
       "      <td>1238.641626</td>\n",
       "      <td>0.015558</td>\n",
       "      <td>91.387677</td>\n",
       "    </tr>\n",
       "  </tbody>\n",
       "</table>\n",
       "</div>"
      ],
      "text/plain": [
       "               name                                              model  \\\n",
       "0  LinearRegression                                 LinearRegression()   \n",
       "1      DecisionTree  GridSearchCV(cv=3, estimator=DecisionTreeRegre...   \n",
       "2      RandomForest  RandomizedSearchCV(cv=3, estimator=RandomFores...   \n",
       "3          LightGBM  RandomizedSearchCV(cv=3,\\n                   e...   \n",
       "4           XGBoost  RandomizedSearchCV(cv=3,\\n                   e...   \n",
       "5          CatBoost  RandomizedSearchCV(cv=3,\\n                   e...   \n",
       "\n",
       "          RMSE  time_to_predict  time_to_fit  \n",
       "0  2235.526645         0.123198     0.892126  \n",
       "1  1190.661426         0.024508     7.157150  \n",
       "2  1200.142853         5.444194   111.907524  \n",
       "3  1463.850187         0.063049     5.827842  \n",
       "4  1060.893711         0.077024    13.400950  \n",
       "5  1238.641626         0.015558    91.387677  "
      ]
     },
     "execution_count": 45,
     "metadata": {},
     "output_type": "execute_result"
    }
   ],
   "source": [
    "result.head(10)"
   ]
  },
  {
   "cell_type": "markdown",
   "metadata": {
    "id": "xuBGrud8-Q3W"
   },
   "source": [
    "## Анализ моделей"
   ]
  },
  {
   "cell_type": "code",
   "execution_count": 48,
   "metadata": {
    "colab": {
     "base_uri": "https://localhost:8080/",
     "height": 1000
    },
    "id": "laSz9GE_-Q3V",
    "outputId": "3c949fb4-6a71-47ab-a8f0-5763f5047385"
   },
   "outputs": [
    {
     "data": {
      "image/png": "[encoded data removed]",
      "text/plain": [
       "<Figure size 800x400 with 1 Axes>"
      ]
     },
     "metadata": {},
     "output_type": "display_data"
    },
    {
     "data": {
      "image/png": "[encoded data removed]",
      "text/plain": [
       "<Figure size 800x400 with 1 Axes>"
      ]
     },
     "metadata": {},
     "output_type": "display_data"
    },
    {
     "data": {
      "image/png": "[encoded data removed]",
      "text/plain": [
       "<Figure size 800x400 with 1 Axes>"
      ]
     },
     "metadata": {},
     "output_type": "display_data"
    },
    {
     "name": "stdout",
     "output_type": "stream",
     "text": [
      "Лучшая модель по RMSE: XGBoost\n",
      "Лучшая модель по времени предсказания: CatBoost\n",
      "Лучшая модель по времени обучения: LinearRegression\n"
     ]
    }
   ],
   "source": [
    "# График RMSE\n",
    "plt.figure(figsize=(8, 4))\n",
    "result = result.sort_values(by='RMSE')\n",
    "plt.bar(result['name'], result['RMSE'], color='blue')\n",
    "plt.xlabel('Модель')\n",
    "plt.ylabel('RMSE')\n",
    "plt.title('Сравнение показателей RMSE')\n",
    "plt.show()\n",
    "\n",
    "# График time_to_predict\n",
    "plt.figure(figsize=(8, 4))\n",
    "result = result.sort_values(by='time_to_predict')\n",
    "plt.bar(result['name'], result['time_to_predict'], color='green')\n",
    "plt.xlabel('Модель')\n",
    "plt.ylabel('Время предсказания (сек)')\n",
    "plt.title('Сравнение времени предсказания')\n",
    "plt.show()\n",
    "\n",
    "# График time_to_fit\n",
    "plt.figure(figsize=(8, 4))\n",
    "result = result.sort_values(by='time_to_fit')\n",
    "plt.bar(result['name'], result['time_to_fit'], color='red')\n",
    "plt.xlabel('Модель')\n",
    "plt.ylabel('Время обучение (сек)')\n",
    "plt.title('Сравнение времени обучение')\n",
    "plt.show()\n",
    "\n",
    "\n",
    "best_model_rmse = result['name'][result['RMSE'].idxmin()]\n",
    "print('Лучшая модель по RMSE:', best_model_rmse)\n",
    "\n",
    "\n",
    "best_model_time = result['name'][result['time_to_predict'].idxmin()]\n",
    "print('Лучшая модель по времени предсказания:', best_model_time)\n",
    "\n",
    "best_model_time_fit = result['name'][result['time_to_fit'].idxmin()]\n",
    "print('Лучшая модель по времени обучения:', best_model_time_fit)"
   ]
  },
  {
   "cell_type": "markdown",
   "metadata": {
    "id": "_9CRoH48-Q3W"
   },
   "source": [
    "По результатам изучения моделей LinearRegression, DecisionTree, RandomForest, LightGBM, XGBoost и CatBoost на тренировочной выборк\n",
    "\n",
    "1. Модель XGBoost показывает наилучшую производительность среди всех моделей. Она демонстрирует наименьшую ошибку RMSE в размере 1060, что говорит о её хорошей предсказательной способности для данного набора данных. Время предсказания составляет 0.07 секунды, а время обучения модели - 13 секунд.\n",
    "\n",
    "1. Модель RandomForest также показывает хорошие результаты с RMSE ошибкой в размере 1200. Однако, она требует значительно больше времени для обучения (111 секунды) и предсказания (5.4 секунды) по сравнению с XGBoost. Если  есть ограниченные ресурсы вычислений или большие объемы данных, время, необходимое для работы с RandomForest, может быть значимым фактором.\n",
    "\n",
    "1. Модель CatBoost показывает RMSE ошибку в размере 1238, время предсказания составляет 0.01 секунды, а время обучения модели - 91. секунды. LightGBM также продемонстрировала некоторое улучшение по сравнению с предыдущими результатами, но она все равно уступает XGBoost в точности предсказания.\n",
    "\n",
    "1. Модели LinearRegression и LightGBM продемонстрировали самые высокие значения RMSE ошибки среди всех моделей в списке. LinearRegression имеет RMSE ошибку в размере 2235, в то время как LightGBM имеет RMSE ошибку в размере 1463. \n",
    "\n",
    "Исходя из результатов, модель XGBoost наиболее перспективная модель для данного набора данных."
   ]
  },
  {
   "cell_type": "markdown",
   "metadata": {},
   "source": [
    "Заказчику важны:\n",
    "\n",
    "- качество предсказания\n",
    "- скорость предсказания\n",
    "- время обучения.\n",
    "\n",
    "отдельно время обучения, время предсказания преведены в гистограме выше\n",
    "Для анализа моделей и выборе компетентной заказчику. рассмотрим 4 модели с лучшим показателем RMSE. Так как это самый важный показатель. \n",
    "- XGBoost - 1060\n",
    "- RandomForest - 1200\n",
    "- DecisionTree - 1190\n",
    "- CatBoost - 1238\n",
    "- Остальные модели показали еще более высокие значения RMSE (>1400), что указывает на их низкую эффективность\n",
    "\n",
    "по имеющимся 4 лучшим моделям выберем подходящую на основе времени предсказания и обучения\n",
    "\n",
    "время предсказания\n",
    "- CatBoost - 0.01\n",
    "- DecisionTree - 0.02\n",
    "- LightGBM - 0.06\n",
    "- XGBoost - 0.07\n",
    "\n",
    "\n",
    "и последней критерий - время обучения\n",
    "- LinearRegression - 0.89\n",
    "- LightGBM - 5.82\n",
    "- DecisionTree - 7.15\n",
    "- XGBoost - 13.4\n",
    "\n",
    "\n",
    "На основе критериев заказчика выбор XGBoost является оптимальным по следующим причинам:\n",
    "- XGBoost: 1060 - лучший показатель\n",
    "- XGBoost: 0.07 сек - немного уступает другим моделям, Но разница между 0.01 (CatBoost) и 0.07 (XGBoost) составляет всего 0.06 секунды, что незначительно для большинства практических задач\n",
    "- XGBoost: 13.4 сек - дольше других моделей, однако это одноразовая операция, в то время как прогнозирование выполняется многократно\n",
    "Время обучения - то одноразовая операция, в то время как прогнозирование выполняется многократно\n",
    "\n",
    "В контексте задачи прогнозирования цен на автомобили, где погрешность в прогнозе может составлять десятки тысяч рублей, существенное улучшение RMSE значительно важнее, чем незначительные потери во времени предсказания.\n"
   ]
  },
  {
   "cell_type": "markdown",
   "metadata": {
    "id": "QQZ2cqAS-Q3X"
   },
   "source": [
    "## Тестирование лучшей модели"
   ]
  },
  {
   "cell_type": "markdown",
   "metadata": {
    "id": "h17vRoRC-Q3X"
   },
   "source": [
    "Рассмотрим скорость обучения итогововых моделей и метрик на тестовой выборке:"
   ]
  },
  {
   "cell_type": "code",
   "execution_count": 49,
   "metadata": {
    "colab": {
     "base_uri": "https://localhost:8080/"
    },
    "id": "GjHWqgqF-Q3X",
    "outputId": "ca661014-0dc0-4983-8a63-26328b180226"
   },
   "outputs": [
    {
     "name": "stdout",
     "output_type": "stream",
     "text": [
      "Модель  XGBoost  предсказывает не тестовой выборке за 0.04 секунд\n",
      "Итоговый RMSE на тестовой выборке: 1445.9652500752736\n"
     ]
    },
    {
     "name": "stderr",
     "output_type": "stream",
     "text": [
      "C:\\Users\\saveliy\\AppData\\Roaming\\Python\\Python312\\site-packages\\sklearn\\metrics\\_regression.py:492: FutureWarning: 'squared' is deprecated in version 1.4 and will be removed in 1.6. To calculate the root mean squared error, use the function'root_mean_squared_error'.\n",
      "  warnings.warn(\n"
     ]
    }
   ],
   "source": [
    "start = time()\n",
    "predicted = result['model'][result['RMSE'].idxmin()].predict(features_test_oe)\n",
    "print('Модель ',result['name'][result['RMSE'].idxmin()],' предсказывает не тестовой выборке за %.2f секунд' %(time() - start))\n",
    "\n",
    "rmse_on_test = mean_squared_error(target_test_oe, predicted, squared=False)\n",
    "print('Итоговый RMSE на тестовой выборке:', rmse_on_test)"
   ]
  },
  {
   "cell_type": "markdown",
   "metadata": {
    "id": "7vN1P6wr-Q3Y"
   },
   "source": [
    "Таким образом, модель XGBoost с параметрами max_depth: 12 и learning_rate: 0.1 обладает хорошей предсказательной способностью и эффективностью."
   ]
  },
  {
   "cell_type": "markdown",
   "metadata": {
    "id": "CLIUGEup-Q3Y"
   },
   "source": [
    "## Вывод"
   ]
  },
  {
   "cell_type": "markdown",
   "metadata": {
    "id": "Q0Eh6riE-Q3Y"
   },
   "source": [
    "В ходе исследования были выполнены шаги предобработки данных, включая удаление дубликатов, исключение неинформативных признаков и обработку пропущенных значений. Данные были подготовлены для дальнейшего анализа и обучения моделей.\n",
    "\n",
    "Были изучены и сравнены различные модели, включая LinearRegression, DecisionTree, RandomForest, LightGBM, XGBoost и CatBoost. Модель XGBoost продемонстрировала наилучшую точность предсказания на тренировочной выборке с наименьшей ошибкой RMSE = 1060, что говорит о ее хорошей предсказательной способности. Она показала хорошую точность предсказания и на тестовой выборке RMSE = 1445 и относительно низкое время предсказания (0.04 с), соответствуя критериям, важным для заказчика.\n",
    "\n",
    "Таким образом, рекомендуется использовать модель XGBoost с оптимальными параметрами для дальнейшего прогнозирования на основе данного набора данных."
   ]
  },
  {
   "cell_type": "code",
   "execution_count": null,
   "metadata": {},
   "outputs": [],
   "source": []
  }
 ],
 "metadata": {
  "ExecuteTimeLog": [
   {
    "duration": 45,
    "start_time": "2023-08-20T18:01:47.428Z"
   },
   {
    "duration": 1874,
    "start_time": "2023-08-20T18:01:50.306Z"
   },
   {
    "duration": 0,
    "start_time": "2023-08-20T18:01:52.182Z"
   },
   {
    "duration": 38,
    "start_time": "2023-08-20T18:02:24.083Z"
   },
   {
    "duration": 1224,
    "start_time": "2023-08-20T18:02:25.281Z"
   },
   {
    "duration": 13,
    "start_time": "2023-08-20T18:13:44.682Z"
   },
   {
    "duration": 6,
    "start_time": "2023-08-20T18:14:02.576Z"
   },
   {
    "duration": 815,
    "start_time": "2023-08-20T18:14:02.674Z"
   },
   {
    "duration": 509,
    "start_time": "2023-08-20T18:14:05.757Z"
   },
   {
    "duration": 322,
    "start_time": "2023-08-20T18:15:25.266Z"
   },
   {
    "duration": 124,
    "start_time": "2023-08-20T18:17:18.627Z"
   },
   {
    "duration": 1302,
    "start_time": "2023-08-20T18:18:34.696Z"
   },
   {
    "duration": 118,
    "start_time": "2023-08-20T18:18:53.852Z"
   },
   {
    "duration": 5,
    "start_time": "2023-08-20T18:31:16.637Z"
   },
   {
    "duration": 81,
    "start_time": "2023-08-20T18:31:24.325Z"
   },
   {
    "duration": 431,
    "start_time": "2023-08-20T18:31:26.016Z"
   },
   {
    "duration": 139,
    "start_time": "2023-08-20T18:31:26.849Z"
   },
   {
    "duration": 1563,
    "start_time": "2023-08-20T18:31:28.941Z"
   },
   {
    "duration": 1658,
    "start_time": "2023-08-20T18:34:44.233Z"
   },
   {
    "duration": 1094,
    "start_time": "2023-08-20T18:34:45.893Z"
   },
   {
    "duration": 146,
    "start_time": "2023-08-20T18:34:46.989Z"
   },
   {
    "duration": 4,
    "start_time": "2023-08-20T18:34:47.150Z"
   },
   {
    "duration": 62,
    "start_time": "2023-08-20T18:34:47.156Z"
   },
   {
    "duration": 371,
    "start_time": "2023-08-20T18:34:47.220Z"
   },
   {
    "duration": 178,
    "start_time": "2023-08-20T18:34:47.592Z"
   },
   {
    "duration": 1641,
    "start_time": "2023-08-20T18:34:47.777Z"
   },
   {
    "duration": 18,
    "start_time": "2023-08-20T18:34:49.420Z"
   },
   {
    "duration": 197,
    "start_time": "2023-08-20T18:34:57.827Z"
   },
   {
    "duration": 174,
    "start_time": "2023-08-20T18:35:32.963Z"
   },
   {
    "duration": 111,
    "start_time": "2023-08-20T18:36:33.264Z"
   },
   {
    "duration": 32,
    "start_time": "2023-08-20T18:51:21.063Z"
   },
   {
    "duration": 51,
    "start_time": "2023-08-20T18:55:47.506Z"
   },
   {
    "duration": 260,
    "start_time": "2023-08-20T19:13:54.045Z"
   },
   {
    "duration": 9,
    "start_time": "2023-08-20T19:14:48.748Z"
   },
   {
    "duration": 99,
    "start_time": "2023-08-20T19:16:13.671Z"
   },
   {
    "duration": 4,
    "start_time": "2023-08-20T19:20:09.265Z"
   },
   {
    "duration": 765,
    "start_time": "2023-08-20T19:20:09.390Z"
   },
   {
    "duration": 148,
    "start_time": "2023-08-20T19:20:10.156Z"
   },
   {
    "duration": 3,
    "start_time": "2023-08-20T19:20:10.329Z"
   },
   {
    "duration": 40,
    "start_time": "2023-08-20T19:20:10.720Z"
   },
   {
    "duration": 273,
    "start_time": "2023-08-20T19:20:11.115Z"
   },
   {
    "duration": 148,
    "start_time": "2023-08-20T19:20:11.537Z"
   },
   {
    "duration": 1217,
    "start_time": "2023-08-20T19:20:12.462Z"
   },
   {
    "duration": 128,
    "start_time": "2023-08-20T19:20:13.680Z"
   },
   {
    "duration": 29,
    "start_time": "2023-08-20T19:20:16.019Z"
   },
   {
    "duration": 350,
    "start_time": "2023-08-20T19:20:17.473Z"
   },
   {
    "duration": 428,
    "start_time": "2023-08-20T19:21:50.482Z"
   },
   {
    "duration": 337,
    "start_time": "2023-08-20T19:21:50.912Z"
   },
   {
    "duration": 3,
    "start_time": "2023-08-20T19:21:57.125Z"
   },
   {
    "duration": 720,
    "start_time": "2023-08-20T19:21:57.324Z"
   },
   {
    "duration": 136,
    "start_time": "2023-08-20T19:21:58.046Z"
   },
   {
    "duration": 4,
    "start_time": "2023-08-20T19:21:58.184Z"
   },
   {
    "duration": 20,
    "start_time": "2023-08-20T19:21:58.402Z"
   },
   {
    "duration": 282,
    "start_time": "2023-08-20T19:22:00.241Z"
   },
   {
    "duration": 134,
    "start_time": "2023-08-20T19:22:00.535Z"
   },
   {
    "duration": 1188,
    "start_time": "2023-08-20T19:22:01.469Z"
   },
   {
    "duration": 802,
    "start_time": "2023-08-20T19:22:02.658Z"
   },
   {
    "duration": 1078,
    "start_time": "2023-08-20T19:24:13.172Z"
   },
   {
    "duration": 462,
    "start_time": "2023-08-20T19:24:14.252Z"
   },
   {
    "duration": 3,
    "start_time": "2023-08-20T19:24:21.168Z"
   },
   {
    "duration": 689,
    "start_time": "2023-08-20T19:24:21.371Z"
   },
   {
    "duration": 131,
    "start_time": "2023-08-20T19:24:23.599Z"
   },
   {
    "duration": 3,
    "start_time": "2023-08-20T19:24:23.946Z"
   },
   {
    "duration": 21,
    "start_time": "2023-08-20T19:24:24.113Z"
   },
   {
    "duration": 268,
    "start_time": "2023-08-20T19:24:24.281Z"
   },
   {
    "duration": 129,
    "start_time": "2023-08-20T19:24:24.551Z"
   },
   {
    "duration": 1100,
    "start_time": "2023-08-20T19:24:24.682Z"
   },
   {
    "duration": 902,
    "start_time": "2023-08-20T19:24:25.784Z"
   },
   {
    "duration": 116,
    "start_time": "2023-08-20T19:24:26.688Z"
   },
   {
    "duration": 28,
    "start_time": "2023-08-20T19:24:26.806Z"
   },
   {
    "duration": 515,
    "start_time": "2023-08-20T19:24:26.835Z"
   },
   {
    "duration": 179,
    "start_time": "2023-08-20T19:24:27.352Z"
   },
   {
    "duration": 37,
    "start_time": "2023-08-20T19:24:27.533Z"
   },
   {
    "duration": 155,
    "start_time": "2023-08-20T19:26:16.334Z"
   },
   {
    "duration": 359,
    "start_time": "2023-08-20T19:26:21.243Z"
   },
   {
    "duration": 42,
    "start_time": "2023-08-20T19:40:57.315Z"
   },
   {
    "duration": 365,
    "start_time": "2023-08-20T19:40:58.746Z"
   },
   {
    "duration": 5011,
    "start_time": "2023-08-20T20:04:53.931Z"
   },
   {
    "duration": 1997,
    "start_time": "2023-08-20T20:07:29.848Z"
   },
   {
    "duration": 923,
    "start_time": "2023-08-20T20:07:31.847Z"
   },
   {
    "duration": 124,
    "start_time": "2023-08-20T20:07:32.771Z"
   },
   {
    "duration": 3,
    "start_time": "2023-08-20T20:07:32.897Z"
   },
   {
    "duration": 66,
    "start_time": "2023-08-20T20:07:32.901Z"
   },
   {
    "duration": 289,
    "start_time": "2023-08-20T20:07:32.968Z"
   },
   {
    "duration": 124,
    "start_time": "2023-08-20T20:07:33.259Z"
   },
   {
    "duration": 1358,
    "start_time": "2023-08-20T20:07:33.384Z"
   },
   {
    "duration": 1015,
    "start_time": "2023-08-20T20:07:34.744Z"
   },
   {
    "duration": 125,
    "start_time": "2023-08-20T20:07:35.761Z"
   },
   {
    "duration": 64,
    "start_time": "2023-08-20T20:07:35.887Z"
   },
   {
    "duration": 580,
    "start_time": "2023-08-20T20:07:35.953Z"
   },
   {
    "duration": 224,
    "start_time": "2023-08-20T20:07:36.535Z"
   },
   {
    "duration": 35,
    "start_time": "2023-08-20T20:07:36.761Z"
   },
   {
    "duration": 425,
    "start_time": "2023-08-20T20:07:36.798Z"
   },
   {
    "duration": 45,
    "start_time": "2023-08-20T20:07:37.225Z"
   },
   {
    "duration": 4914,
    "start_time": "2023-08-20T20:07:37.272Z"
   },
   {
    "duration": 49,
    "start_time": "2023-08-21T22:04:06.563Z"
   },
   {
    "duration": 1598,
    "start_time": "2023-08-21T22:04:39.210Z"
   },
   {
    "duration": 1089,
    "start_time": "2023-08-21T22:04:40.810Z"
   },
   {
    "duration": 130,
    "start_time": "2023-08-21T22:04:41.900Z"
   },
   {
    "duration": 3,
    "start_time": "2023-08-21T22:04:42.032Z"
   },
   {
    "duration": 64,
    "start_time": "2023-08-21T22:04:42.037Z"
   },
   {
    "duration": 318,
    "start_time": "2023-08-21T22:04:42.102Z"
   },
   {
    "duration": 128,
    "start_time": "2023-08-21T22:04:42.422Z"
   },
   {
    "duration": 1345,
    "start_time": "2023-08-21T22:04:42.552Z"
   },
   {
    "duration": 1027,
    "start_time": "2023-08-21T22:04:43.899Z"
   },
   {
    "duration": 126,
    "start_time": "2023-08-21T22:04:44.930Z"
   },
   {
    "duration": 62,
    "start_time": "2023-08-21T22:04:45.057Z"
   },
   {
    "duration": 580,
    "start_time": "2023-08-21T22:04:45.121Z"
   },
   {
    "duration": 243,
    "start_time": "2023-08-21T22:04:45.703Z"
   },
   {
    "duration": 32,
    "start_time": "2023-08-21T22:04:45.947Z"
   },
   {
    "duration": 1340,
    "start_time": "2023-08-21T22:04:45.981Z"
   },
   {
    "duration": 474,
    "start_time": "2023-08-21T22:04:47.322Z"
   },
   {
    "duration": 52,
    "start_time": "2023-08-21T22:04:47.797Z"
   },
   {
    "duration": 4675,
    "start_time": "2023-08-21T22:04:47.851Z"
   },
   {
    "duration": 5,
    "start_time": "2023-08-21T23:37:20.445Z"
   },
   {
    "duration": 735,
    "start_time": "2023-08-21T23:37:20.611Z"
   },
   {
    "duration": 117,
    "start_time": "2023-08-21T23:37:21.348Z"
   },
   {
    "duration": 4,
    "start_time": "2023-08-21T23:37:22.004Z"
   },
   {
    "duration": 23,
    "start_time": "2023-08-21T23:37:22.535Z"
   },
   {
    "duration": 271,
    "start_time": "2023-08-21T23:37:23.162Z"
   },
   {
    "duration": 113,
    "start_time": "2023-08-21T23:37:23.460Z"
   },
   {
    "duration": 1177,
    "start_time": "2023-08-21T23:37:23.976Z"
   },
   {
    "duration": 896,
    "start_time": "2023-08-21T23:37:25.155Z"
   },
   {
    "duration": 123,
    "start_time": "2023-08-21T23:37:26.052Z"
   },
   {
    "duration": 31,
    "start_time": "2023-08-21T23:37:26.842Z"
   },
   {
    "duration": 437,
    "start_time": "2023-08-21T23:37:27.290Z"
   },
   {
    "duration": 168,
    "start_time": "2023-08-21T23:37:27.872Z"
   },
   {
    "duration": 30,
    "start_time": "2023-08-21T23:37:29.416Z"
   },
   {
    "duration": 1184,
    "start_time": "2023-08-21T23:37:30.403Z"
   },
   {
    "duration": 60,
    "start_time": "2023-08-21T23:37:31.590Z"
   },
   {
    "duration": 1212,
    "start_time": "2023-08-21T23:42:52.570Z"
   },
   {
    "duration": 246,
    "start_time": "2023-08-21T23:43:30.907Z"
   },
   {
    "duration": 19,
    "start_time": "2023-08-21T23:49:04.539Z"
   },
   {
    "duration": 8,
    "start_time": "2023-08-21T23:51:19.853Z"
   },
   {
    "duration": 17,
    "start_time": "2023-08-21T23:52:01.725Z"
   },
   {
    "duration": 240,
    "start_time": "2023-08-21T23:52:02.264Z"
   },
   {
    "duration": 8,
    "start_time": "2023-08-21T23:54:57.217Z"
   },
   {
    "duration": 4,
    "start_time": "2023-08-21T23:56:49.338Z"
   },
   {
    "duration": 664,
    "start_time": "2023-08-21T23:56:49.643Z"
   },
   {
    "duration": 115,
    "start_time": "2023-08-21T23:56:50.308Z"
   },
   {
    "duration": 3,
    "start_time": "2023-08-21T23:56:50.425Z"
   },
   {
    "duration": 23,
    "start_time": "2023-08-21T23:56:50.466Z"
   },
   {
    "duration": 271,
    "start_time": "2023-08-21T23:56:50.620Z"
   },
   {
    "duration": 117,
    "start_time": "2023-08-21T23:56:50.892Z"
   },
   {
    "duration": 1168,
    "start_time": "2023-08-21T23:56:51.011Z"
   },
   {
    "duration": 781,
    "start_time": "2023-08-21T23:56:52.181Z"
   },
   {
    "duration": 113,
    "start_time": "2023-08-21T23:56:52.963Z"
   },
   {
    "duration": 34,
    "start_time": "2023-08-21T23:56:53.077Z"
   },
   {
    "duration": 455,
    "start_time": "2023-08-21T23:56:53.113Z"
   },
   {
    "duration": 162,
    "start_time": "2023-08-21T23:56:54.141Z"
   },
   {
    "duration": 33,
    "start_time": "2023-08-21T23:56:56.797Z"
   },
   {
    "duration": 5,
    "start_time": "2023-08-21T23:57:08.097Z"
   },
   {
    "duration": 220,
    "start_time": "2023-08-21T23:58:06.828Z"
   },
   {
    "duration": 24,
    "start_time": "2023-08-21T23:58:38.930Z"
   },
   {
    "duration": 237,
    "start_time": "2023-08-21T23:58:39.125Z"
   },
   {
    "duration": 116,
    "start_time": "2023-08-21T23:59:55.846Z"
   },
   {
    "duration": 6,
    "start_time": "2023-08-22T00:00:02.444Z"
   },
   {
    "duration": 7,
    "start_time": "2023-08-22T00:00:08.128Z"
   },
   {
    "duration": 7,
    "start_time": "2023-08-22T00:04:47.302Z"
   },
   {
    "duration": 262,
    "start_time": "2023-08-22T00:05:47.542Z"
   },
   {
    "duration": 460,
    "start_time": "2023-08-22T00:06:31.719Z"
   },
   {
    "duration": 456,
    "start_time": "2023-08-22T00:06:46.296Z"
   },
   {
    "duration": 319,
    "start_time": "2023-08-22T00:07:08.262Z"
   },
   {
    "duration": 338,
    "start_time": "2023-08-22T00:07:13.052Z"
   },
   {
    "duration": 6,
    "start_time": "2023-08-22T00:08:29.546Z"
   },
   {
    "duration": 6,
    "start_time": "2023-08-22T00:10:21.472Z"
   },
   {
    "duration": 22,
    "start_time": "2023-08-22T00:11:44.956Z"
   },
   {
    "duration": 242,
    "start_time": "2023-08-22T00:11:49.549Z"
   },
   {
    "duration": 279,
    "start_time": "2023-08-22T00:12:04.384Z"
   },
   {
    "duration": 7,
    "start_time": "2023-08-22T00:12:09.024Z"
   },
   {
    "duration": 4,
    "start_time": "2023-08-22T00:12:15.882Z"
   },
   {
    "duration": 746,
    "start_time": "2023-08-22T00:12:16.361Z"
   },
   {
    "duration": 120,
    "start_time": "2023-08-22T00:12:17.109Z"
   },
   {
    "duration": 3,
    "start_time": "2023-08-22T00:12:17.798Z"
   },
   {
    "duration": 22,
    "start_time": "2023-08-22T00:12:18.696Z"
   },
   {
    "duration": 9,
    "start_time": "2023-08-22T00:12:19.302Z"
   },
   {
    "duration": 25,
    "start_time": "2023-08-22T00:12:25.197Z"
   },
   {
    "duration": 265,
    "start_time": "2023-08-22T00:12:28.471Z"
   },
   {
    "duration": 107,
    "start_time": "2023-08-22T00:12:29.213Z"
   },
   {
    "duration": 1099,
    "start_time": "2023-08-22T00:12:30.157Z"
   },
   {
    "duration": 789,
    "start_time": "2023-08-22T00:12:33.025Z"
   },
   {
    "duration": 111,
    "start_time": "2023-08-22T00:12:33.816Z"
   },
   {
    "duration": 35,
    "start_time": "2023-08-22T00:12:35.374Z"
   },
   {
    "duration": 459,
    "start_time": "2023-08-22T00:12:35.816Z"
   },
   {
    "duration": 167,
    "start_time": "2023-08-22T00:12:36.949Z"
   },
   {
    "duration": 33,
    "start_time": "2023-08-22T00:12:38.242Z"
   },
   {
    "duration": 24,
    "start_time": "2023-08-22T00:12:48.358Z"
   },
   {
    "duration": 253,
    "start_time": "2023-08-22T00:12:48.911Z"
   },
   {
    "duration": 329,
    "start_time": "2023-08-22T00:12:55.824Z"
   },
   {
    "duration": 121,
    "start_time": "2023-08-22T00:13:13.980Z"
   },
   {
    "duration": 168,
    "start_time": "2023-08-22T00:13:40.366Z"
   },
   {
    "duration": 141,
    "start_time": "2023-08-22T00:13:45.854Z"
   },
   {
    "duration": 135,
    "start_time": "2023-08-22T00:13:50.826Z"
   },
   {
    "duration": 249,
    "start_time": "2023-08-22T00:13:56.002Z"
   },
   {
    "duration": 140,
    "start_time": "2023-08-22T00:14:06.902Z"
   },
   {
    "duration": 135,
    "start_time": "2023-08-22T00:14:15.026Z"
   },
   {
    "duration": 145,
    "start_time": "2023-08-22T00:14:18.994Z"
   },
   {
    "duration": 150,
    "start_time": "2023-08-22T00:14:26.756Z"
   },
   {
    "duration": 130,
    "start_time": "2023-08-22T00:14:31.842Z"
   },
   {
    "duration": 10,
    "start_time": "2023-08-22T00:15:36.975Z"
   },
   {
    "duration": 8,
    "start_time": "2023-08-22T00:15:44.112Z"
   },
   {
    "duration": 235,
    "start_time": "2023-08-22T00:16:47.496Z"
   },
   {
    "duration": 121,
    "start_time": "2023-08-22T00:16:55.605Z"
   },
   {
    "duration": 122,
    "start_time": "2023-08-22T00:17:05.325Z"
   },
   {
    "duration": 1379,
    "start_time": "2023-08-22T00:17:10.610Z"
   },
   {
    "duration": 19,
    "start_time": "2023-08-22T00:17:51.250Z"
   },
   {
    "duration": 9,
    "start_time": "2023-08-22T00:19:17.193Z"
   },
   {
    "duration": 94,
    "start_time": "2023-08-22T00:19:17.778Z"
   },
   {
    "duration": 96,
    "start_time": "2023-08-22T00:19:31.458Z"
   },
   {
    "duration": 16,
    "start_time": "2023-08-22T00:19:35.774Z"
   },
   {
    "duration": 20,
    "start_time": "2023-08-22T00:19:43.322Z"
   },
   {
    "duration": 16,
    "start_time": "2023-08-22T00:19:51.123Z"
   },
   {
    "duration": 16,
    "start_time": "2023-08-22T00:21:23.282Z"
   },
   {
    "duration": 5,
    "start_time": "2023-08-22T00:21:24.074Z"
   },
   {
    "duration": 8,
    "start_time": "2023-08-22T00:21:25.500Z"
   },
   {
    "duration": 15,
    "start_time": "2023-08-22T00:21:26.660Z"
   },
   {
    "duration": 408,
    "start_time": "2023-08-22T00:21:30.797Z"
   },
   {
    "duration": 20,
    "start_time": "2023-08-22T00:22:41.042Z"
   },
   {
    "duration": 245,
    "start_time": "2023-08-22T00:22:46.113Z"
   },
   {
    "duration": 4,
    "start_time": "2023-08-22T00:22:59.797Z"
   },
   {
    "duration": 43,
    "start_time": "2023-08-22T00:23:52.044Z"
   },
   {
    "duration": 402,
    "start_time": "2023-08-22T00:24:02.996Z"
   },
   {
    "duration": 30,
    "start_time": "2023-08-22T00:31:40.141Z"
   },
   {
    "duration": 41,
    "start_time": "2023-08-22T00:31:51.091Z"
   },
   {
    "duration": 88,
    "start_time": "2023-08-22T00:32:09.243Z"
   },
   {
    "duration": 21,
    "start_time": "2023-08-22T00:41:37.043Z"
   },
   {
    "duration": 40,
    "start_time": "2023-08-22T00:42:14.678Z"
   },
   {
    "duration": 41,
    "start_time": "2023-08-22T00:42:15.697Z"
   },
   {
    "duration": 21,
    "start_time": "2023-08-22T00:42:16.973Z"
   },
   {
    "duration": 84,
    "start_time": "2023-08-22T00:42:23.425Z"
   },
   {
    "duration": 184,
    "start_time": "2023-08-22T00:42:48.777Z"
   },
   {
    "duration": 9,
    "start_time": "2023-08-22T00:43:37.321Z"
   },
   {
    "duration": 389,
    "start_time": "2023-08-22T00:43:45.617Z"
   },
   {
    "duration": 407,
    "start_time": "2023-08-22T00:44:22.247Z"
   },
   {
    "duration": 6,
    "start_time": "2023-08-22T00:44:43.813Z"
   },
   {
    "duration": 12,
    "start_time": "2023-08-22T00:46:21.641Z"
   },
   {
    "duration": 8,
    "start_time": "2023-08-22T00:48:24.526Z"
   },
   {
    "duration": 9,
    "start_time": "2023-08-22T00:48:45.508Z"
   },
   {
    "duration": 8,
    "start_time": "2023-08-22T00:48:54.118Z"
   },
   {
    "duration": 4,
    "start_time": "2023-08-22T00:49:00.362Z"
   },
   {
    "duration": 3,
    "start_time": "2023-08-22T00:51:04.886Z"
   },
   {
    "duration": 13623,
    "start_time": "2023-08-22T00:51:15.898Z"
   },
   {
    "duration": 28,
    "start_time": "2023-08-22T00:51:29.523Z"
   },
   {
    "duration": 351,
    "start_time": "2023-08-22T00:56:12.896Z"
   },
   {
    "duration": 350,
    "start_time": "2023-08-22T00:56:40.335Z"
   },
   {
    "duration": 332,
    "start_time": "2023-08-22T00:56:49.854Z"
   },
   {
    "duration": 329,
    "start_time": "2023-08-22T00:57:03.217Z"
   },
   {
    "duration": 336,
    "start_time": "2023-08-22T00:57:12.026Z"
   },
   {
    "duration": 323,
    "start_time": "2023-08-22T00:57:20.538Z"
   },
   {
    "duration": 334,
    "start_time": "2023-08-22T00:57:28.282Z"
   },
   {
    "duration": 333,
    "start_time": "2023-08-22T00:57:59.406Z"
   },
   {
    "duration": 325,
    "start_time": "2023-08-22T00:58:06.980Z"
   },
   {
    "duration": 334,
    "start_time": "2023-08-22T00:58:34.525Z"
   },
   {
    "duration": 328,
    "start_time": "2023-08-22T00:58:41.445Z"
   },
   {
    "duration": 111,
    "start_time": "2023-08-22T01:01:24.550Z"
   },
   {
    "duration": 306,
    "start_time": "2023-08-22T01:01:54.476Z"
   },
   {
    "duration": 259,
    "start_time": "2023-08-22T01:02:05.493Z"
   },
   {
    "duration": 255,
    "start_time": "2023-08-22T01:02:13.692Z"
   },
   {
    "duration": 256,
    "start_time": "2023-08-22T01:03:17.900Z"
   },
   {
    "duration": 254,
    "start_time": "2023-08-22T01:03:37.921Z"
   },
   {
    "duration": 1506,
    "start_time": "2023-08-22T01:04:06.615Z"
   },
   {
    "duration": 1087,
    "start_time": "2023-08-22T01:04:08.123Z"
   },
   {
    "duration": 128,
    "start_time": "2023-08-22T01:04:09.211Z"
   },
   {
    "duration": 3,
    "start_time": "2023-08-22T01:04:09.341Z"
   },
   {
    "duration": 59,
    "start_time": "2023-08-22T01:04:09.345Z"
   },
   {
    "duration": 24,
    "start_time": "2023-08-22T01:04:09.406Z"
   },
   {
    "duration": 307,
    "start_time": "2023-08-22T01:04:09.431Z"
   },
   {
    "duration": 126,
    "start_time": "2023-08-22T01:04:09.740Z"
   },
   {
    "duration": 1328,
    "start_time": "2023-08-22T01:04:09.868Z"
   },
   {
    "duration": 997,
    "start_time": "2023-08-22T01:04:11.199Z"
   },
   {
    "duration": 117,
    "start_time": "2023-08-22T01:04:12.197Z"
   },
   {
    "duration": 53,
    "start_time": "2023-08-22T01:04:12.315Z"
   },
   {
    "duration": 559,
    "start_time": "2023-08-22T01:04:12.370Z"
   },
   {
    "duration": 240,
    "start_time": "2023-08-22T01:04:12.930Z"
   },
   {
    "duration": 32,
    "start_time": "2023-08-22T01:04:13.171Z"
   },
   {
    "duration": 27,
    "start_time": "2023-08-22T01:04:13.205Z"
   },
   {
    "duration": 284,
    "start_time": "2023-08-22T01:04:13.233Z"
   },
   {
    "duration": 316,
    "start_time": "2023-08-22T01:04:13.519Z"
   },
   {
    "duration": 33,
    "start_time": "2023-08-22T01:04:13.837Z"
   },
   {
    "duration": 208,
    "start_time": "2023-08-22T01:04:13.871Z"
   },
   {
    "duration": 7,
    "start_time": "2023-08-22T01:04:14.081Z"
   },
   {
    "duration": 18,
    "start_time": "2023-08-22T01:04:14.090Z"
   },
   {
    "duration": 5,
    "start_time": "2023-08-22T01:04:14.109Z"
   },
   {
    "duration": 6,
    "start_time": "2023-08-22T01:04:14.116Z"
   },
   {
    "duration": 38,
    "start_time": "2023-08-22T01:04:14.124Z"
   },
   {
    "duration": 257,
    "start_time": "2023-08-22T01:04:14.163Z"
   },
   {
    "duration": 30,
    "start_time": "2023-08-22T01:04:14.421Z"
   },
   {
    "duration": 288,
    "start_time": "2023-08-22T01:04:14.455Z"
   },
   {
    "duration": 42,
    "start_time": "2023-08-22T01:04:14.749Z"
   },
   {
    "duration": 422,
    "start_time": "2023-08-22T01:04:14.793Z"
   },
   {
    "duration": 47,
    "start_time": "2023-08-22T01:04:15.216Z"
   },
   {
    "duration": 41,
    "start_time": "2023-08-22T01:04:15.265Z"
   },
   {
    "duration": 21,
    "start_time": "2023-08-22T01:04:15.308Z"
   },
   {
    "duration": 104,
    "start_time": "2023-08-22T01:04:15.330Z"
   },
   {
    "duration": 194,
    "start_time": "2023-08-22T01:04:15.435Z"
   },
   {
    "duration": 347,
    "start_time": "2023-08-22T01:04:15.630Z"
   },
   {
    "duration": 328,
    "start_time": "2023-08-22T01:04:15.978Z"
   },
   {
    "duration": 13489,
    "start_time": "2023-08-22T01:04:16.307Z"
   },
   {
    "duration": 21,
    "start_time": "2023-08-22T01:04:29.798Z"
   },
   {
    "duration": 12969,
    "start_time": "2023-08-22T01:07:47.782Z"
   },
   {
    "duration": 102,
    "start_time": "2023-08-22T01:26:02.529Z"
   },
   {
    "duration": 3,
    "start_time": "2023-08-22T01:26:24.917Z"
   },
   {
    "duration": 12342,
    "start_time": "2023-08-22T01:26:30.414Z"
   },
   {
    "duration": 12419,
    "start_time": "2023-08-22T01:26:51.532Z"
   },
   {
    "duration": 335,
    "start_time": "2023-08-22T01:36:09.237Z"
   },
   {
    "duration": 328,
    "start_time": "2023-08-22T01:39:46.403Z"
   },
   {
    "duration": 524,
    "start_time": "2023-08-22T01:40:57.772Z"
   },
   {
    "duration": 3,
    "start_time": "2023-08-22T01:50:41.273Z"
   },
   {
    "duration": 666,
    "start_time": "2023-08-22T01:50:41.425Z"
   },
   {
    "duration": 119,
    "start_time": "2023-08-22T01:50:42.093Z"
   },
   {
    "duration": 3,
    "start_time": "2023-08-22T01:50:42.214Z"
   },
   {
    "duration": 38,
    "start_time": "2023-08-22T01:50:42.219Z"
   },
   {
    "duration": 24,
    "start_time": "2023-08-22T01:50:42.356Z"
   },
   {
    "duration": 255,
    "start_time": "2023-08-22T01:50:42.525Z"
   },
   {
    "duration": 124,
    "start_time": "2023-08-22T01:50:42.782Z"
   },
   {
    "duration": 1054,
    "start_time": "2023-08-22T01:50:42.908Z"
   },
   {
    "duration": 792,
    "start_time": "2023-08-22T01:50:43.964Z"
   },
   {
    "duration": 111,
    "start_time": "2023-08-22T01:50:44.757Z"
   },
   {
    "duration": 41,
    "start_time": "2023-08-22T01:50:44.869Z"
   },
   {
    "duration": 450,
    "start_time": "2023-08-22T01:50:44.911Z"
   },
   {
    "duration": 188,
    "start_time": "2023-08-22T01:50:45.363Z"
   },
   {
    "duration": 33,
    "start_time": "2023-08-22T01:50:45.553Z"
   },
   {
    "duration": 26,
    "start_time": "2023-08-22T01:50:45.588Z"
   },
   {
    "duration": 255,
    "start_time": "2023-08-22T01:50:45.616Z"
   },
   {
    "duration": 325,
    "start_time": "2023-08-22T01:50:45.873Z"
   },
   {
    "duration": 20,
    "start_time": "2023-08-22T01:50:46.200Z"
   },
   {
    "duration": 161,
    "start_time": "2023-08-22T01:50:46.221Z"
   },
   {
    "duration": 7,
    "start_time": "2023-08-22T01:50:46.383Z"
   },
   {
    "duration": 15,
    "start_time": "2023-08-22T01:50:46.396Z"
   },
   {
    "duration": 5,
    "start_time": "2023-08-22T01:50:46.553Z"
   },
   {
    "duration": 7,
    "start_time": "2023-08-22T01:50:47.000Z"
   },
   {
    "duration": 14,
    "start_time": "2023-08-22T01:50:47.201Z"
   },
   {
    "duration": 323,
    "start_time": "2023-08-22T01:50:47.352Z"
   },
   {
    "duration": 21,
    "start_time": "2023-08-22T01:50:47.676Z"
   },
   {
    "duration": 258,
    "start_time": "2023-08-22T01:50:47.698Z"
   },
   {
    "duration": 43,
    "start_time": "2023-08-22T01:50:48.312Z"
   },
   {
    "duration": 345,
    "start_time": "2023-08-22T01:50:48.478Z"
   },
   {
    "duration": 49,
    "start_time": "2023-08-22T01:50:48.825Z"
   },
   {
    "duration": 42,
    "start_time": "2023-08-22T01:50:49.412Z"
   },
   {
    "duration": 21,
    "start_time": "2023-08-22T01:50:49.563Z"
   },
   {
    "duration": 87,
    "start_time": "2023-08-22T01:50:49.742Z"
   },
   {
    "duration": 185,
    "start_time": "2023-08-22T01:50:50.080Z"
   },
   {
    "duration": 367,
    "start_time": "2023-08-22T01:50:51.402Z"
   },
   {
    "duration": 46,
    "start_time": "2023-08-22T01:50:51.914Z"
   },
   {
    "duration": 14,
    "start_time": "2023-08-22T01:50:52.659Z"
   },
   {
    "duration": 339,
    "start_time": "2023-08-22T01:51:52.290Z"
   },
   {
    "duration": 10,
    "start_time": "2023-08-22T01:51:53.275Z"
   },
   {
    "duration": 13,
    "start_time": "2023-08-22T01:51:53.931Z"
   },
   {
    "duration": 304,
    "start_time": "2023-08-22T01:52:00.203Z"
   },
   {
    "duration": 12982,
    "start_time": "2023-08-22T01:52:01.346Z"
   },
   {
    "duration": 23,
    "start_time": "2023-08-22T01:52:14.329Z"
   },
   {
    "duration": 12,
    "start_time": "2023-08-22T01:52:14.353Z"
   },
   {
    "duration": 0,
    "start_time": "2023-08-22T01:52:14.366Z"
   },
   {
    "duration": 0,
    "start_time": "2023-08-22T01:52:14.367Z"
   },
   {
    "duration": 83,
    "start_time": "2023-08-22T01:52:34.904Z"
   },
   {
    "duration": 849,
    "start_time": "2023-08-22T01:52:42.747Z"
   },
   {
    "duration": 10,
    "start_time": "2023-08-22T01:52:47.035Z"
   },
   {
    "duration": 37,
    "start_time": "2023-08-22T01:52:58.429Z"
   },
   {
    "duration": 45,
    "start_time": "2023-08-23T21:17:13.140Z"
   },
   {
    "duration": 1771,
    "start_time": "2023-08-23T21:17:17.184Z"
   },
   {
    "duration": 1107,
    "start_time": "2023-08-23T21:17:18.957Z"
   },
   {
    "duration": 126,
    "start_time": "2023-08-23T21:17:20.066Z"
   },
   {
    "duration": 6,
    "start_time": "2023-08-23T21:17:20.194Z"
   },
   {
    "duration": 62,
    "start_time": "2023-08-23T21:17:20.202Z"
   },
   {
    "duration": 25,
    "start_time": "2023-08-23T21:17:20.266Z"
   },
   {
    "duration": 316,
    "start_time": "2023-08-23T21:17:20.292Z"
   },
   {
    "duration": 130,
    "start_time": "2023-08-23T21:17:20.610Z"
   },
   {
    "duration": 1401,
    "start_time": "2023-08-23T21:17:20.742Z"
   },
   {
    "duration": 1035,
    "start_time": "2023-08-23T21:17:22.146Z"
   },
   {
    "duration": 144,
    "start_time": "2023-08-23T21:17:23.183Z"
   },
   {
    "duration": 46,
    "start_time": "2023-08-23T21:17:23.328Z"
   },
   {
    "duration": 574,
    "start_time": "2023-08-23T21:17:23.375Z"
   },
   {
    "duration": 228,
    "start_time": "2023-08-23T21:17:23.951Z"
   },
   {
    "duration": 38,
    "start_time": "2023-08-23T21:17:24.180Z"
   },
   {
    "duration": 43,
    "start_time": "2023-08-23T21:17:24.220Z"
   },
   {
    "duration": 288,
    "start_time": "2023-08-23T21:17:24.265Z"
   },
   {
    "duration": 370,
    "start_time": "2023-08-23T21:17:24.555Z"
   },
   {
    "duration": 30,
    "start_time": "2023-08-23T21:17:24.926Z"
   },
   {
    "duration": 224,
    "start_time": "2023-08-23T21:17:24.958Z"
   },
   {
    "duration": 8,
    "start_time": "2023-08-23T21:17:25.184Z"
   },
   {
    "duration": 20,
    "start_time": "2023-08-23T21:17:25.194Z"
   },
   {
    "duration": 6,
    "start_time": "2023-08-23T21:17:25.216Z"
   },
   {
    "duration": 29,
    "start_time": "2023-08-23T21:17:25.223Z"
   },
   {
    "duration": 16,
    "start_time": "2023-08-23T21:17:25.254Z"
   },
   {
    "duration": 287,
    "start_time": "2023-08-23T21:17:25.272Z"
   },
   {
    "duration": 23,
    "start_time": "2023-08-23T21:17:25.561Z"
   },
   {
    "duration": 272,
    "start_time": "2023-08-23T21:17:25.587Z"
   },
   {
    "duration": 49,
    "start_time": "2023-08-23T21:17:25.861Z"
   },
   {
    "duration": 441,
    "start_time": "2023-08-23T21:17:25.912Z"
   },
   {
    "duration": 46,
    "start_time": "2023-08-23T21:17:26.355Z"
   },
   {
    "duration": 56,
    "start_time": "2023-08-23T21:17:26.403Z"
   },
   {
    "duration": 23,
    "start_time": "2023-08-23T21:17:26.461Z"
   },
   {
    "duration": 118,
    "start_time": "2023-08-23T21:17:26.485Z"
   },
   {
    "duration": 202,
    "start_time": "2023-08-23T21:17:26.605Z"
   },
   {
    "duration": 364,
    "start_time": "2023-08-23T21:17:26.808Z"
   },
   {
    "duration": 318,
    "start_time": "2023-08-23T21:17:27.174Z"
   },
   {
    "duration": 13914,
    "start_time": "2023-08-23T21:17:27.494Z"
   },
   {
    "duration": 24,
    "start_time": "2023-08-23T21:17:41.410Z"
   },
   {
    "duration": 1049,
    "start_time": "2023-08-23T21:17:41.436Z"
   },
   {
    "duration": 64,
    "start_time": "2023-08-23T21:17:42.489Z"
   },
   {
    "duration": 17903,
    "start_time": "2023-08-23T21:17:42.555Z"
   },
   {
    "duration": 0,
    "start_time": "2023-08-23T21:18:00.459Z"
   },
   {
    "duration": 81,
    "start_time": "2023-08-23T21:18:40.641Z"
   },
   {
    "duration": 11,
    "start_time": "2023-08-23T21:20:15.817Z"
   },
   {
    "duration": 17450,
    "start_time": "2023-08-23T21:20:20.408Z"
   },
   {
    "duration": 19016,
    "start_time": "2023-08-23T21:28:45.538Z"
   },
   {
    "duration": 17239,
    "start_time": "2023-08-23T21:29:21.613Z"
   },
   {
    "duration": 136,
    "start_time": "2023-08-23T21:31:46.632Z"
   },
   {
    "duration": 33,
    "start_time": "2023-08-23T21:32:29.180Z"
   },
   {
    "duration": 100,
    "start_time": "2023-08-23T21:32:35.594Z"
   },
   {
    "duration": 6051,
    "start_time": "2023-08-23T21:32:40.766Z"
   },
   {
    "duration": 5815,
    "start_time": "2023-08-23T21:34:18.532Z"
   },
   {
    "duration": 5888,
    "start_time": "2023-08-23T21:34:32.192Z"
   },
   {
    "duration": 5838,
    "start_time": "2023-08-23T21:35:00.609Z"
   },
   {
    "duration": 3,
    "start_time": "2023-08-23T21:45:35.924Z"
   },
   {
    "duration": 5854,
    "start_time": "2023-08-23T21:45:36.034Z"
   },
   {
    "duration": 9,
    "start_time": "2023-08-23T21:45:53.491Z"
   },
   {
    "duration": 6120,
    "start_time": "2023-08-23T21:46:47.711Z"
   },
   {
    "duration": 13,
    "start_time": "2023-08-23T21:46:53.834Z"
   },
   {
    "duration": 5826,
    "start_time": "2023-08-23T21:47:14.453Z"
   },
   {
    "duration": 9,
    "start_time": "2023-08-23T21:47:20.281Z"
   },
   {
    "duration": 91,
    "start_time": "2023-08-23T21:49:00.635Z"
   },
   {
    "duration": 10,
    "start_time": "2023-08-23T21:49:00.746Z"
   },
   {
    "duration": 5,
    "start_time": "2023-08-23T21:49:25.489Z"
   },
   {
    "duration": 105,
    "start_time": "2023-08-23T21:49:39.002Z"
   },
   {
    "duration": 11,
    "start_time": "2023-08-23T21:49:39.110Z"
   },
   {
    "duration": 5974,
    "start_time": "2023-08-23T21:49:56.513Z"
   },
   {
    "duration": 10,
    "start_time": "2023-08-23T21:50:02.490Z"
   },
   {
    "duration": 6,
    "start_time": "2023-08-23T21:54:44.456Z"
   },
   {
    "duration": 18407,
    "start_time": "2023-08-23T21:54:58.789Z"
   },
   {
    "duration": 17274,
    "start_time": "2023-08-23T21:55:50.189Z"
   },
   {
    "duration": 4,
    "start_time": "2023-08-23T21:56:39.241Z"
   },
   {
    "duration": 17373,
    "start_time": "2023-08-23T21:56:39.389Z"
   },
   {
    "duration": 17882,
    "start_time": "2023-08-23T21:58:58.572Z"
   },
   {
    "duration": 1522,
    "start_time": "2023-08-23T22:19:36.512Z"
   },
   {
    "duration": 972,
    "start_time": "2023-08-23T22:19:38.036Z"
   },
   {
    "duration": 64,
    "start_time": "2023-08-23T22:19:41.425Z"
   },
   {
    "duration": 37,
    "start_time": "2023-08-23T22:19:41.921Z"
   },
   {
    "duration": 302,
    "start_time": "2023-08-23T22:19:42.825Z"
   },
   {
    "duration": 127,
    "start_time": "2023-08-23T22:19:44.311Z"
   },
   {
    "duration": 244,
    "start_time": "2023-08-23T22:19:45.054Z"
   },
   {
    "duration": 246,
    "start_time": "2023-08-23T22:19:55.592Z"
   },
   {
    "duration": 13,
    "start_time": "2023-08-23T22:20:03.308Z"
   },
   {
    "duration": 231,
    "start_time": "2023-08-23T22:20:17.014Z"
   },
   {
    "duration": 1302,
    "start_time": "2023-08-23T22:20:32.700Z"
   },
   {
    "duration": 998,
    "start_time": "2023-08-23T22:21:02.104Z"
   },
   {
    "duration": 515,
    "start_time": "2023-08-23T22:21:10.587Z"
   },
   {
    "duration": 525,
    "start_time": "2023-08-23T22:21:13.544Z"
   },
   {
    "duration": 128,
    "start_time": "2023-08-23T22:21:14.071Z"
   },
   {
    "duration": 44,
    "start_time": "2023-08-23T22:22:09.372Z"
   },
   {
    "duration": 477,
    "start_time": "2023-08-23T22:22:15.704Z"
   },
   {
    "duration": 176,
    "start_time": "2023-08-23T22:23:04.185Z"
   },
   {
    "duration": 35,
    "start_time": "2023-08-23T22:25:24.290Z"
   },
   {
    "duration": 26,
    "start_time": "2023-08-23T22:26:08.713Z"
   },
   {
    "duration": 261,
    "start_time": "2023-08-23T22:26:13.133Z"
   },
   {
    "duration": 346,
    "start_time": "2023-08-23T22:26:27.202Z"
   },
   {
    "duration": 269,
    "start_time": "2023-08-23T22:26:32.037Z"
   },
   {
    "duration": 263,
    "start_time": "2023-08-23T22:26:34.712Z"
   },
   {
    "duration": 341,
    "start_time": "2023-08-23T22:27:44.626Z"
   },
   {
    "duration": 355,
    "start_time": "2023-08-23T22:28:48.251Z"
   },
   {
    "duration": 311,
    "start_time": "2023-08-23T22:29:15.515Z"
   },
   {
    "duration": 19,
    "start_time": "2023-08-23T22:29:47.920Z"
   },
   {
    "duration": 473,
    "start_time": "2023-08-23T22:29:48.049Z"
   },
   {
    "duration": 194,
    "start_time": "2023-08-23T22:29:55.722Z"
   },
   {
    "duration": 212,
    "start_time": "2023-08-23T22:29:59.289Z"
   },
   {
    "duration": 266,
    "start_time": "2023-08-23T22:30:02.229Z"
   },
   {
    "duration": 253,
    "start_time": "2023-08-23T22:30:06.381Z"
   },
   {
    "duration": 172,
    "start_time": "2023-08-23T22:31:18.588Z"
   },
   {
    "duration": 121,
    "start_time": "2023-08-23T22:31:45.691Z"
   },
   {
    "duration": 402,
    "start_time": "2023-08-23T22:32:13.039Z"
   },
   {
    "duration": 314,
    "start_time": "2023-08-23T22:32:18.788Z"
   },
   {
    "duration": 5,
    "start_time": "2023-08-23T22:32:29.044Z"
   },
   {
    "duration": 835,
    "start_time": "2023-08-23T22:32:29.286Z"
   },
   {
    "duration": 44,
    "start_time": "2023-08-23T22:32:30.123Z"
   },
   {
    "duration": 26,
    "start_time": "2023-08-23T22:32:30.169Z"
   },
   {
    "duration": 359,
    "start_time": "2023-08-23T22:32:30.197Z"
   },
   {
    "duration": 251,
    "start_time": "2023-08-23T22:32:30.558Z"
   },
   {
    "duration": 1240,
    "start_time": "2023-08-23T22:32:30.811Z"
   },
   {
    "duration": 525,
    "start_time": "2023-08-23T22:32:32.053Z"
   },
   {
    "duration": 47,
    "start_time": "2023-08-23T22:32:32.580Z"
   },
   {
    "duration": 500,
    "start_time": "2023-08-23T22:32:32.629Z"
   },
   {
    "duration": 189,
    "start_time": "2023-08-23T22:32:33.130Z"
   },
   {
    "duration": 39,
    "start_time": "2023-08-23T22:32:33.320Z"
   },
   {
    "duration": 24,
    "start_time": "2023-08-23T22:32:33.361Z"
   },
   {
    "duration": 335,
    "start_time": "2023-08-23T22:32:33.386Z"
   },
   {
    "duration": 20,
    "start_time": "2023-08-23T22:32:33.892Z"
   },
   {
    "duration": 315,
    "start_time": "2023-08-23T22:32:35.094Z"
   },
   {
    "duration": 243,
    "start_time": "2023-08-23T22:32:46.034Z"
   },
   {
    "duration": 183,
    "start_time": "2023-08-23T22:35:59.414Z"
   },
   {
    "duration": 251,
    "start_time": "2023-08-23T22:36:16.511Z"
   },
   {
    "duration": 383,
    "start_time": "2023-08-23T22:36:23.596Z"
   },
   {
    "duration": 9,
    "start_time": "2023-08-23T22:36:42.156Z"
   },
   {
    "duration": 230,
    "start_time": "2023-08-23T22:38:16.225Z"
   },
   {
    "duration": 239,
    "start_time": "2023-08-23T22:38:28.904Z"
   },
   {
    "duration": 1432,
    "start_time": "2023-08-23T22:38:50.116Z"
   },
   {
    "duration": 1453,
    "start_time": "2023-08-23T22:40:05.029Z"
   },
   {
    "duration": 4,
    "start_time": "2023-08-23T22:40:48.978Z"
   },
   {
    "duration": 898,
    "start_time": "2023-08-23T22:40:49.106Z"
   },
   {
    "duration": 37,
    "start_time": "2023-08-23T22:40:50.005Z"
   },
   {
    "duration": 26,
    "start_time": "2023-08-23T22:40:50.052Z"
   },
   {
    "duration": 294,
    "start_time": "2023-08-23T22:40:50.080Z"
   },
   {
    "duration": 253,
    "start_time": "2023-08-23T22:40:50.375Z"
   },
   {
    "duration": 1400,
    "start_time": "2023-08-23T22:40:50.631Z"
   },
   {
    "duration": 563,
    "start_time": "2023-08-23T22:40:52.032Z"
   },
   {
    "duration": 61,
    "start_time": "2023-08-23T22:40:52.597Z"
   },
   {
    "duration": 513,
    "start_time": "2023-08-23T22:40:52.659Z"
   },
   {
    "duration": 205,
    "start_time": "2023-08-23T22:40:53.174Z"
   },
   {
    "duration": 37,
    "start_time": "2023-08-23T22:40:53.381Z"
   },
   {
    "duration": 39,
    "start_time": "2023-08-23T22:40:53.420Z"
   },
   {
    "duration": 336,
    "start_time": "2023-08-23T22:40:53.462Z"
   },
   {
    "duration": 32,
    "start_time": "2023-08-23T22:40:53.799Z"
   },
   {
    "duration": 263,
    "start_time": "2023-08-23T22:40:53.833Z"
   },
   {
    "duration": 10,
    "start_time": "2023-08-23T22:40:54.098Z"
   },
   {
    "duration": 22,
    "start_time": "2023-08-23T22:40:57.430Z"
   },
   {
    "duration": 1712,
    "start_time": "2023-08-23T22:40:57.586Z"
   },
   {
    "duration": 319,
    "start_time": "2023-08-23T22:41:09.085Z"
   },
   {
    "duration": 21,
    "start_time": "2023-08-23T22:41:44.592Z"
   },
   {
    "duration": 323,
    "start_time": "2023-08-23T22:41:45.289Z"
   },
   {
    "duration": 202,
    "start_time": "2023-08-23T22:42:04.590Z"
   },
   {
    "duration": 244,
    "start_time": "2023-08-23T22:42:08.918Z"
   },
   {
    "duration": 207,
    "start_time": "2023-08-23T22:42:35.141Z"
   },
   {
    "duration": 9,
    "start_time": "2023-08-23T22:43:04.706Z"
   },
   {
    "duration": 16,
    "start_time": "2023-08-23T22:43:09.282Z"
   },
   {
    "duration": 493,
    "start_time": "2023-08-23T22:43:30.854Z"
   },
   {
    "duration": 324,
    "start_time": "2023-08-23T22:43:49.343Z"
   },
   {
    "duration": 24,
    "start_time": "2023-08-23T22:44:18.592Z"
   },
   {
    "duration": 302,
    "start_time": "2023-08-23T22:44:25.812Z"
   },
   {
    "duration": 86,
    "start_time": "2023-08-23T22:45:24.208Z"
   },
   {
    "duration": 436,
    "start_time": "2023-08-23T22:45:35.329Z"
   },
   {
    "duration": 44,
    "start_time": "2023-08-23T22:47:22.746Z"
   },
   {
    "duration": 22,
    "start_time": "2023-08-23T22:47:34.140Z"
   },
   {
    "duration": 22,
    "start_time": "2023-08-23T22:47:52.891Z"
   },
   {
    "duration": 22,
    "start_time": "2023-08-23T22:48:27.217Z"
   },
   {
    "duration": 45,
    "start_time": "2023-08-23T22:48:47.395Z"
   },
   {
    "duration": 34,
    "start_time": "2023-08-23T22:48:48.590Z"
   },
   {
    "duration": 22,
    "start_time": "2023-08-23T22:48:59.000Z"
   },
   {
    "duration": 23,
    "start_time": "2023-08-23T22:49:04.965Z"
   },
   {
    "duration": 86,
    "start_time": "2023-08-23T22:49:17.303Z"
   },
   {
    "duration": 81,
    "start_time": "2023-08-23T22:49:36.583Z"
   },
   {
    "duration": 94,
    "start_time": "2023-08-23T22:49:36.900Z"
   },
   {
    "duration": 88,
    "start_time": "2023-08-23T22:49:41.235Z"
   },
   {
    "duration": 200,
    "start_time": "2023-08-23T22:49:43.349Z"
   },
   {
    "duration": 856,
    "start_time": "2023-08-23T22:50:18.691Z"
   },
   {
    "duration": 38,
    "start_time": "2023-08-23T22:50:20.791Z"
   },
   {
    "duration": 28,
    "start_time": "2023-08-23T22:50:21.118Z"
   },
   {
    "duration": 316,
    "start_time": "2023-08-23T22:50:21.411Z"
   },
   {
    "duration": 244,
    "start_time": "2023-08-23T22:50:21.750Z"
   },
   {
    "duration": 1320,
    "start_time": "2023-08-23T22:50:21.996Z"
   },
   {
    "duration": 549,
    "start_time": "2023-08-23T22:50:23.318Z"
   },
   {
    "duration": 47,
    "start_time": "2023-08-23T22:50:23.869Z"
   },
   {
    "duration": 516,
    "start_time": "2023-08-23T22:50:23.918Z"
   },
   {
    "duration": 209,
    "start_time": "2023-08-23T22:50:24.436Z"
   },
   {
    "duration": 37,
    "start_time": "2023-08-23T22:50:24.647Z"
   },
   {
    "duration": 29,
    "start_time": "2023-08-23T22:50:24.686Z"
   },
   {
    "duration": 346,
    "start_time": "2023-08-23T22:50:24.717Z"
   },
   {
    "duration": 20,
    "start_time": "2023-08-23T22:50:25.065Z"
   },
   {
    "duration": 246,
    "start_time": "2023-08-23T22:50:25.087Z"
   },
   {
    "duration": 7,
    "start_time": "2023-08-23T22:50:25.334Z"
   },
   {
    "duration": 17,
    "start_time": "2023-08-23T22:50:25.486Z"
   },
   {
    "duration": 444,
    "start_time": "2023-08-23T22:50:25.687Z"
   },
   {
    "duration": 25,
    "start_time": "2023-08-23T22:50:26.133Z"
   },
   {
    "duration": 220,
    "start_time": "2023-08-23T22:50:26.159Z"
   },
   {
    "duration": 10,
    "start_time": "2023-08-23T22:50:26.517Z"
   },
   {
    "duration": 16,
    "start_time": "2023-08-23T22:50:26.739Z"
   },
   {
    "duration": 336,
    "start_time": "2023-08-23T22:50:26.825Z"
   },
   {
    "duration": 23,
    "start_time": "2023-08-23T22:50:27.163Z"
   },
   {
    "duration": 327,
    "start_time": "2023-08-23T22:50:27.188Z"
   },
   {
    "duration": 88,
    "start_time": "2023-08-23T22:50:28.079Z"
   },
   {
    "duration": 43,
    "start_time": "2023-08-23T22:50:28.374Z"
   },
   {
    "duration": 24,
    "start_time": "2023-08-23T22:50:28.578Z"
   },
   {
    "duration": 87,
    "start_time": "2023-08-23T22:50:28.793Z"
   },
   {
    "duration": 2,
    "start_time": "2023-08-23T22:51:37.679Z"
   },
   {
    "duration": 4,
    "start_time": "2023-08-23T22:51:52.926Z"
   },
   {
    "duration": 4,
    "start_time": "2023-08-23T22:52:42.235Z"
   },
   {
    "duration": 76,
    "start_time": "2023-08-23T22:53:08.387Z"
   },
   {
    "duration": 5,
    "start_time": "2023-08-23T22:53:10.535Z"
   },
   {
    "duration": 5,
    "start_time": "2023-08-23T22:53:18.317Z"
   },
   {
    "duration": 5,
    "start_time": "2023-08-23T22:53:38.406Z"
   },
   {
    "duration": 4,
    "start_time": "2023-08-23T22:54:14.234Z"
   },
   {
    "duration": 5,
    "start_time": "2023-08-23T22:55:39.783Z"
   },
   {
    "duration": 886,
    "start_time": "2023-08-23T22:56:21.788Z"
   },
   {
    "duration": 40,
    "start_time": "2023-08-23T22:56:22.886Z"
   },
   {
    "duration": 30,
    "start_time": "2023-08-23T22:56:23.790Z"
   },
   {
    "duration": 293,
    "start_time": "2023-08-23T22:56:24.279Z"
   },
   {
    "duration": 267,
    "start_time": "2023-08-23T22:56:24.574Z"
   },
   {
    "duration": 1365,
    "start_time": "2023-08-23T22:56:24.843Z"
   },
   {
    "duration": 570,
    "start_time": "2023-08-23T22:56:26.210Z"
   },
   {
    "duration": 50,
    "start_time": "2023-08-23T22:56:26.782Z"
   },
   {
    "duration": 512,
    "start_time": "2023-08-23T22:56:26.834Z"
   },
   {
    "duration": 199,
    "start_time": "2023-08-23T22:56:27.348Z"
   },
   {
    "duration": 37,
    "start_time": "2023-08-23T22:56:27.552Z"
   },
   {
    "duration": 30,
    "start_time": "2023-08-23T22:56:27.590Z"
   },
   {
    "duration": 338,
    "start_time": "2023-08-23T22:56:27.621Z"
   },
   {
    "duration": 21,
    "start_time": "2023-08-23T22:56:27.960Z"
   },
   {
    "duration": 247,
    "start_time": "2023-08-23T22:56:27.983Z"
   },
   {
    "duration": 20,
    "start_time": "2023-08-23T22:56:28.233Z"
   },
   {
    "duration": 20,
    "start_time": "2023-08-23T22:56:28.256Z"
   },
   {
    "duration": 489,
    "start_time": "2023-08-23T22:56:28.278Z"
   },
   {
    "duration": 21,
    "start_time": "2023-08-23T22:56:28.770Z"
   },
   {
    "duration": 232,
    "start_time": "2023-08-23T22:56:28.793Z"
   },
   {
    "duration": 8,
    "start_time": "2023-08-23T22:56:29.027Z"
   },
   {
    "duration": 25,
    "start_time": "2023-08-23T22:56:29.036Z"
   },
   {
    "duration": 333,
    "start_time": "2023-08-23T22:56:29.063Z"
   },
   {
    "duration": 25,
    "start_time": "2023-08-23T22:56:29.398Z"
   },
   {
    "duration": 323,
    "start_time": "2023-08-23T22:56:29.424Z"
   },
   {
    "duration": 87,
    "start_time": "2023-08-23T22:56:30.328Z"
   },
   {
    "duration": 42,
    "start_time": "2023-08-23T22:56:30.848Z"
   },
   {
    "duration": 22,
    "start_time": "2023-08-23T22:56:31.046Z"
   },
   {
    "duration": 3,
    "start_time": "2023-08-23T22:57:29.724Z"
   },
   {
    "duration": 336,
    "start_time": "2023-08-23T23:00:49.108Z"
   },
   {
    "duration": 309,
    "start_time": "2023-08-23T23:00:49.991Z"
   },
   {
    "duration": 13128,
    "start_time": "2023-08-23T23:04:50.690Z"
   },
   {
    "duration": 23,
    "start_time": "2023-08-23T23:05:03.819Z"
   },
   {
    "duration": 908,
    "start_time": "2023-08-23T23:06:03.483Z"
   },
   {
    "duration": 37,
    "start_time": "2023-08-23T23:06:13.891Z"
   },
   {
    "duration": 4,
    "start_time": "2023-08-23T23:12:43.689Z"
   },
   {
    "duration": 12572,
    "start_time": "2023-08-23T23:12:51.889Z"
   },
   {
    "duration": 11928,
    "start_time": "2023-08-23T23:13:49.125Z"
   },
   {
    "duration": 5496,
    "start_time": "2023-08-23T23:14:29.299Z"
   },
   {
    "duration": 5504,
    "start_time": "2023-08-23T23:14:50.718Z"
   },
   {
    "duration": 11412,
    "start_time": "2023-08-23T23:15:11.503Z"
   },
   {
    "duration": 10268,
    "start_time": "2023-08-23T23:15:35.217Z"
   },
   {
    "duration": 160,
    "start_time": "2023-08-23T23:17:54.799Z"
   },
   {
    "duration": 95,
    "start_time": "2023-08-23T23:18:47.886Z"
   },
   {
    "duration": 1668,
    "start_time": "2023-08-23T23:28:37.920Z"
   },
   {
    "duration": 902,
    "start_time": "2023-08-23T23:28:39.592Z"
   },
   {
    "duration": 74,
    "start_time": "2023-08-23T23:28:40.495Z"
   },
   {
    "duration": 27,
    "start_time": "2023-08-23T23:28:40.571Z"
   },
   {
    "duration": 320,
    "start_time": "2023-08-23T23:28:40.599Z"
   },
   {
    "duration": 249,
    "start_time": "2023-08-23T23:28:40.921Z"
   },
   {
    "duration": 1317,
    "start_time": "2023-08-23T23:28:41.171Z"
   },
   {
    "duration": 543,
    "start_time": "2023-08-23T23:28:42.489Z"
   },
   {
    "duration": 53,
    "start_time": "2023-08-23T23:28:43.034Z"
   },
   {
    "duration": 507,
    "start_time": "2023-08-23T23:28:43.089Z"
   },
   {
    "duration": 226,
    "start_time": "2023-08-23T23:28:43.598Z"
   },
   {
    "duration": 40,
    "start_time": "2023-08-23T23:28:43.825Z"
   },
   {
    "duration": 28,
    "start_time": "2023-08-23T23:28:43.867Z"
   },
   {
    "duration": 357,
    "start_time": "2023-08-23T23:28:43.896Z"
   },
   {
    "duration": 24,
    "start_time": "2023-08-23T23:28:44.254Z"
   },
   {
    "duration": 326,
    "start_time": "2023-08-23T23:28:44.280Z"
   },
   {
    "duration": 8,
    "start_time": "2023-08-23T23:28:44.608Z"
   },
   {
    "duration": 17,
    "start_time": "2023-08-23T23:28:44.618Z"
   },
   {
    "duration": 343,
    "start_time": "2023-08-23T23:28:44.637Z"
   },
   {
    "duration": 18,
    "start_time": "2023-08-23T23:28:44.982Z"
   },
   {
    "duration": 230,
    "start_time": "2023-08-23T23:28:45.002Z"
   },
   {
    "duration": 8,
    "start_time": "2023-08-23T23:28:45.233Z"
   },
   {
    "duration": 24,
    "start_time": "2023-08-23T23:28:45.243Z"
   },
   {
    "duration": 351,
    "start_time": "2023-08-23T23:28:45.269Z"
   },
   {
    "duration": 30,
    "start_time": "2023-08-23T23:28:45.622Z"
   },
   {
    "duration": 310,
    "start_time": "2023-08-23T23:28:45.654Z"
   },
   {
    "duration": 93,
    "start_time": "2023-08-23T23:28:45.966Z"
   },
   {
    "duration": 39,
    "start_time": "2023-08-23T23:28:46.062Z"
   },
   {
    "duration": 21,
    "start_time": "2023-08-23T23:28:46.102Z"
   },
   {
    "duration": 204,
    "start_time": "2023-08-23T23:28:46.124Z"
   },
   {
    "duration": 114,
    "start_time": "2023-08-23T23:28:46.329Z"
   },
   {
    "duration": 0,
    "start_time": "2023-08-23T23:28:46.444Z"
   },
   {
    "duration": 0,
    "start_time": "2023-08-23T23:28:46.445Z"
   },
   {
    "duration": 0,
    "start_time": "2023-08-23T23:28:46.446Z"
   },
   {
    "duration": 0,
    "start_time": "2023-08-23T23:28:46.452Z"
   },
   {
    "duration": 0,
    "start_time": "2023-08-23T23:28:46.453Z"
   },
   {
    "duration": 0,
    "start_time": "2023-08-23T23:28:46.453Z"
   },
   {
    "duration": 0,
    "start_time": "2023-08-23T23:28:46.455Z"
   },
   {
    "duration": 0,
    "start_time": "2023-08-23T23:28:46.456Z"
   },
   {
    "duration": 0,
    "start_time": "2023-08-23T23:28:46.457Z"
   },
   {
    "duration": 0,
    "start_time": "2023-08-23T23:28:46.458Z"
   },
   {
    "duration": 0,
    "start_time": "2023-08-23T23:28:46.458Z"
   },
   {
    "duration": 0,
    "start_time": "2023-08-23T23:28:46.459Z"
   },
   {
    "duration": 4,
    "start_time": "2023-08-23T23:29:39.844Z"
   },
   {
    "duration": 1508,
    "start_time": "2023-08-23T23:31:28.634Z"
   },
   {
    "duration": 949,
    "start_time": "2023-08-23T23:31:30.144Z"
   },
   {
    "duration": 72,
    "start_time": "2023-08-23T23:31:31.095Z"
   },
   {
    "duration": 24,
    "start_time": "2023-08-23T23:31:31.169Z"
   },
   {
    "duration": 347,
    "start_time": "2023-08-23T23:31:31.195Z"
   },
   {
    "duration": 269,
    "start_time": "2023-08-23T23:31:31.552Z"
   },
   {
    "duration": 1261,
    "start_time": "2023-08-23T23:31:31.822Z"
   },
   {
    "duration": 524,
    "start_time": "2023-08-23T23:31:33.084Z"
   },
   {
    "duration": 49,
    "start_time": "2023-08-23T23:31:33.610Z"
   },
   {
    "duration": 506,
    "start_time": "2023-08-23T23:31:33.661Z"
   },
   {
    "duration": 217,
    "start_time": "2023-08-23T23:31:34.168Z"
   },
   {
    "duration": 35,
    "start_time": "2023-08-23T23:31:34.387Z"
   },
   {
    "duration": 40,
    "start_time": "2023-08-23T23:31:34.424Z"
   },
   {
    "duration": 352,
    "start_time": "2023-08-23T23:31:34.467Z"
   },
   {
    "duration": 32,
    "start_time": "2023-08-23T23:31:34.820Z"
   },
   {
    "duration": 295,
    "start_time": "2023-08-23T23:31:34.854Z"
   },
   {
    "duration": 8,
    "start_time": "2023-08-23T23:31:35.152Z"
   },
   {
    "duration": 17,
    "start_time": "2023-08-23T23:31:35.161Z"
   },
   {
    "duration": 323,
    "start_time": "2023-08-23T23:31:35.180Z"
   },
   {
    "duration": 18,
    "start_time": "2023-08-23T23:31:35.505Z"
   },
   {
    "duration": 223,
    "start_time": "2023-08-23T23:31:35.525Z"
   },
   {
    "duration": 9,
    "start_time": "2023-08-23T23:31:35.752Z"
   },
   {
    "duration": 18,
    "start_time": "2023-08-23T23:31:35.763Z"
   },
   {
    "duration": 380,
    "start_time": "2023-08-23T23:31:35.783Z"
   },
   {
    "duration": 96,
    "start_time": "2023-08-23T23:31:36.165Z"
   },
   {
    "duration": 43,
    "start_time": "2023-08-23T23:31:36.262Z"
   },
   {
    "duration": 22,
    "start_time": "2023-08-23T23:31:36.307Z"
   },
   {
    "duration": 213,
    "start_time": "2023-08-23T23:31:36.331Z"
   },
   {
    "duration": 9,
    "start_time": "2023-08-23T23:31:36.546Z"
   },
   {
    "duration": 380,
    "start_time": "2023-08-23T23:31:36.557Z"
   },
   {
    "duration": 337,
    "start_time": "2023-08-23T23:31:36.939Z"
   },
   {
    "duration": 14650,
    "start_time": "2023-08-23T23:31:37.278Z"
   },
   {
    "duration": 29,
    "start_time": "2023-08-23T23:31:51.930Z"
   },
   {
    "duration": 987,
    "start_time": "2023-08-23T23:31:51.961Z"
   },
   {
    "duration": 37,
    "start_time": "2023-08-23T23:31:52.950Z"
   },
   {
    "duration": 3,
    "start_time": "2023-08-23T23:31:52.990Z"
   },
   {
    "duration": 13458,
    "start_time": "2023-08-23T23:31:52.995Z"
   },
   {
    "duration": 11162,
    "start_time": "2023-08-23T23:32:06.456Z"
   },
   {
    "duration": 1454,
    "start_time": "2023-08-23T23:54:25.056Z"
   },
   {
    "duration": 918,
    "start_time": "2023-08-23T23:54:26.512Z"
   },
   {
    "duration": 71,
    "start_time": "2023-08-23T23:54:27.432Z"
   },
   {
    "duration": 27,
    "start_time": "2023-08-23T23:54:27.505Z"
   },
   {
    "duration": 346,
    "start_time": "2023-08-23T23:54:27.534Z"
   },
   {
    "duration": 248,
    "start_time": "2023-08-23T23:54:27.882Z"
   },
   {
    "duration": 1297,
    "start_time": "2023-08-23T23:54:28.132Z"
   },
   {
    "duration": 537,
    "start_time": "2023-08-23T23:54:29.431Z"
   },
   {
    "duration": 47,
    "start_time": "2023-08-23T23:54:29.970Z"
   },
   {
    "duration": 511,
    "start_time": "2023-08-23T23:54:30.020Z"
   },
   {
    "duration": 205,
    "start_time": "2023-08-23T23:54:30.533Z"
   },
   {
    "duration": 35,
    "start_time": "2023-08-23T23:54:30.740Z"
   },
   {
    "duration": 44,
    "start_time": "2023-08-23T23:54:30.777Z"
   },
   {
    "duration": 329,
    "start_time": "2023-08-23T23:54:30.823Z"
   },
   {
    "duration": 22,
    "start_time": "2023-08-23T23:54:31.154Z"
   },
   {
    "duration": 336,
    "start_time": "2023-08-23T23:54:31.178Z"
   },
   {
    "duration": 8,
    "start_time": "2023-08-23T23:54:31.515Z"
   },
   {
    "duration": 36,
    "start_time": "2023-08-23T23:54:31.524Z"
   },
   {
    "duration": 331,
    "start_time": "2023-08-23T23:54:31.561Z"
   },
   {
    "duration": 19,
    "start_time": "2023-08-23T23:54:31.893Z"
   },
   {
    "duration": 216,
    "start_time": "2023-08-23T23:54:31.914Z"
   },
   {
    "duration": 7,
    "start_time": "2023-08-23T23:54:32.132Z"
   },
   {
    "duration": 24,
    "start_time": "2023-08-23T23:54:32.140Z"
   },
   {
    "duration": 349,
    "start_time": "2023-08-23T23:54:32.166Z"
   },
   {
    "duration": 95,
    "start_time": "2023-08-23T23:54:32.517Z"
   },
   {
    "duration": 53,
    "start_time": "2023-08-23T23:54:32.614Z"
   },
   {
    "duration": 22,
    "start_time": "2023-08-23T23:54:32.669Z"
   },
   {
    "duration": 355,
    "start_time": "2023-08-23T23:54:32.694Z"
   },
   {
    "duration": 4,
    "start_time": "2023-08-23T23:54:33.052Z"
   },
   {
    "duration": 385,
    "start_time": "2023-08-23T23:54:33.057Z"
   },
   {
    "duration": 347,
    "start_time": "2023-08-23T23:54:33.444Z"
   },
   {
    "duration": 14707,
    "start_time": "2023-08-23T23:54:33.792Z"
   },
   {
    "duration": 28,
    "start_time": "2023-08-23T23:54:48.501Z"
   },
   {
    "duration": 999,
    "start_time": "2023-08-23T23:54:48.531Z"
   },
   {
    "duration": 45,
    "start_time": "2023-08-23T23:54:49.532Z"
   },
   {
    "duration": 4,
    "start_time": "2023-08-23T23:54:49.579Z"
   },
   {
    "duration": 13469,
    "start_time": "2023-08-23T23:54:49.584Z"
   },
   {
    "duration": 11181,
    "start_time": "2023-08-23T23:55:03.055Z"
   },
   {
    "duration": 830363,
    "start_time": "2023-08-23T23:55:14.238Z"
   },
   {
    "duration": 13,
    "start_time": "2023-08-24T00:09:04.602Z"
   },
   {
    "duration": 0,
    "start_time": "2023-08-24T00:10:50.493Z"
   },
   {
    "duration": 0,
    "start_time": "2023-08-24T00:10:50.495Z"
   },
   {
    "duration": 0,
    "start_time": "2023-08-24T00:10:50.496Z"
   },
   {
    "duration": 1,
    "start_time": "2023-08-24T00:10:50.497Z"
   },
   {
    "duration": 103158,
    "start_time": "2023-08-24T00:11:18.398Z"
   },
   {
    "duration": 13,
    "start_time": "2023-08-24T00:16:49.288Z"
   },
   {
    "duration": 3,
    "start_time": "2023-08-24T00:20:08.793Z"
   },
   {
    "duration": 13156,
    "start_time": "2023-08-24T00:20:09.299Z"
   },
   {
    "duration": 11067,
    "start_time": "2023-08-24T00:20:22.457Z"
   },
   {
    "duration": 833222,
    "start_time": "2023-08-24T00:20:33.525Z"
   },
   {
    "duration": 10,
    "start_time": "2023-08-24T00:34:26.752Z"
   },
   {
    "duration": 102911,
    "start_time": "2023-08-24T00:34:26.763Z"
   },
   {
    "duration": 13,
    "start_time": "2023-08-24T00:36:09.676Z"
   },
   {
    "duration": 222,
    "start_time": "2023-08-24T00:36:09.690Z"
   },
   {
    "duration": 13,
    "start_time": "2023-08-24T00:36:09.913Z"
   },
   {
    "duration": 734133,
    "start_time": "2023-08-24T00:36:09.927Z"
   },
   {
    "duration": 1453,
    "start_time": "2023-08-24T01:06:14.601Z"
   },
   {
    "duration": 929,
    "start_time": "2023-08-24T01:06:16.056Z"
   },
   {
    "duration": 70,
    "start_time": "2023-08-24T01:06:16.986Z"
   },
   {
    "duration": 27,
    "start_time": "2023-08-24T01:06:17.058Z"
   },
   {
    "duration": 307,
    "start_time": "2023-08-24T01:06:17.087Z"
   },
   {
    "duration": 244,
    "start_time": "2023-08-24T01:06:17.396Z"
   },
   {
    "duration": 1317,
    "start_time": "2023-08-24T01:06:17.642Z"
   },
   {
    "duration": 538,
    "start_time": "2023-08-24T01:06:18.961Z"
   },
   {
    "duration": 53,
    "start_time": "2023-08-24T01:06:19.501Z"
   },
   {
    "duration": 508,
    "start_time": "2023-08-24T01:06:19.557Z"
   },
   {
    "duration": 197,
    "start_time": "2023-08-24T01:06:20.067Z"
   },
   {
    "duration": 37,
    "start_time": "2023-08-24T01:06:20.265Z"
   },
   {
    "duration": 30,
    "start_time": "2023-08-24T01:06:20.303Z"
   },
   {
    "duration": 359,
    "start_time": "2023-08-24T01:06:20.334Z"
   },
   {
    "duration": 22,
    "start_time": "2023-08-24T01:06:20.694Z"
   },
   {
    "duration": 310,
    "start_time": "2023-08-24T01:06:20.718Z"
   },
   {
    "duration": 8,
    "start_time": "2023-08-24T01:06:21.029Z"
   },
   {
    "duration": 55,
    "start_time": "2023-08-24T01:06:21.038Z"
   },
   {
    "duration": 314,
    "start_time": "2023-08-24T01:06:21.094Z"
   },
   {
    "duration": 19,
    "start_time": "2023-08-24T01:06:21.410Z"
   },
   {
    "duration": 225,
    "start_time": "2023-08-24T01:06:21.431Z"
   },
   {
    "duration": 12,
    "start_time": "2023-08-24T01:06:21.658Z"
   },
   {
    "duration": 17,
    "start_time": "2023-08-24T01:06:21.671Z"
   },
   {
    "duration": 342,
    "start_time": "2023-08-24T01:06:21.689Z"
   },
   {
    "duration": 90,
    "start_time": "2023-08-24T01:06:22.033Z"
   },
   {
    "duration": 57,
    "start_time": "2023-08-24T01:06:22.124Z"
   },
   {
    "duration": 23,
    "start_time": "2023-08-24T01:06:22.183Z"
   },
   {
    "duration": 216,
    "start_time": "2023-08-24T01:06:22.209Z"
   },
   {
    "duration": 3,
    "start_time": "2023-08-24T01:06:22.427Z"
   },
   {
    "duration": 374,
    "start_time": "2023-08-24T01:06:22.431Z"
   },
   {
    "duration": 329,
    "start_time": "2023-08-24T01:06:22.807Z"
   },
   {
    "duration": 14308,
    "start_time": "2023-08-24T01:06:23.138Z"
   },
   {
    "duration": 24,
    "start_time": "2023-08-24T01:06:37.447Z"
   },
   {
    "duration": 1037,
    "start_time": "2023-08-24T01:06:37.473Z"
   },
   {
    "duration": 46,
    "start_time": "2023-08-24T01:06:38.512Z"
   },
   {
    "duration": 4,
    "start_time": "2023-08-24T01:06:38.559Z"
   },
   {
    "duration": 13390,
    "start_time": "2023-08-24T01:06:38.564Z"
   },
   {
    "duration": 11100,
    "start_time": "2023-08-24T01:06:51.956Z"
   },
   {
    "duration": 828904,
    "start_time": "2023-08-24T01:07:03.058Z"
   },
   {
    "duration": 11,
    "start_time": "2023-08-24T01:20:51.963Z"
   },
   {
    "duration": 102791,
    "start_time": "2023-08-24T01:20:51.976Z"
   },
   {
    "duration": 12,
    "start_time": "2023-08-24T01:22:34.769Z"
   },
   {
    "duration": 1482903,
    "start_time": "2023-08-24T01:22:34.783Z"
   },
   {
    "duration": 80,
    "start_time": "2023-08-24T01:47:17.688Z"
   },
   {
    "duration": 562489,
    "start_time": "2023-08-24T01:47:17.770Z"
   },
   {
    "duration": 20,
    "start_time": "2023-08-24T01:56:40.261Z"
   },
   {
    "duration": 114,
    "start_time": "2023-08-24T01:56:40.282Z"
   },
   {
    "duration": 223,
    "start_time": "2023-08-24T01:59:35.333Z"
   },
   {
    "duration": 241,
    "start_time": "2023-08-24T02:02:37.658Z"
   },
   {
    "duration": 218,
    "start_time": "2023-08-24T02:03:00.224Z"
   },
   {
    "duration": 736981,
    "start_time": "2023-08-24T02:17:36.559Z"
   },
   {
    "duration": 119427,
    "start_time": "2023-08-24T02:29:53.542Z"
   },
   {
    "duration": 18,
    "start_time": "2023-08-24T02:31:52.971Z"
   },
   {
    "duration": 233,
    "start_time": "2023-08-24T02:32:46.463Z"
   },
   {
    "duration": 13,
    "start_time": "2023-08-24T02:39:25.999Z"
   },
   {
    "duration": 7,
    "start_time": "2023-08-24T02:40:06.413Z"
   },
   {
    "duration": 10,
    "start_time": "2023-08-24T02:40:49.905Z"
   },
   {
    "duration": 635,
    "start_time": "2023-08-24T02:41:32.659Z"
   },
   {
    "duration": 240,
    "start_time": "2023-08-24T02:45:02.490Z"
   },
   {
    "duration": 0,
    "start_time": "2023-08-24T02:45:02.732Z"
   },
   {
    "duration": 140,
    "start_time": "2023-08-24T02:45:02.929Z"
   },
   {
    "duration": 151,
    "start_time": "2023-08-24T02:45:03.108Z"
   },
   {
    "duration": 218,
    "start_time": "2023-08-24T02:45:03.962Z"
   },
   {
    "duration": 21,
    "start_time": "2023-08-24T02:45:27.866Z"
   },
   {
    "duration": 2949,
    "start_time": "2023-08-24T02:45:28.691Z"
   },
   {
    "duration": 418,
    "start_time": "2023-08-24T02:45:31.642Z"
   },
   {
    "duration": 700,
    "start_time": "2023-08-24T02:45:32.062Z"
   },
   {
    "duration": 87,
    "start_time": "2023-08-24T02:45:32.764Z"
   },
   {
    "duration": 82,
    "start_time": "2023-08-24T02:45:51.105Z"
   },
   {
    "duration": 11,
    "start_time": "2023-08-24T02:48:29.290Z"
   },
   {
    "duration": 12,
    "start_time": "2023-08-24T02:48:49.089Z"
   },
   {
    "duration": 591,
    "start_time": "2023-08-24T02:49:50.089Z"
   },
   {
    "duration": 553,
    "start_time": "2023-08-24T02:50:08.023Z"
   },
   {
    "duration": 19,
    "start_time": "2023-08-24T02:57:46.146Z"
   },
   {
    "duration": 4,
    "start_time": "2023-08-24T03:30:09.927Z"
   },
   {
    "duration": 48,
    "start_time": "2024-03-29T22:38:18.576Z"
   },
   {
    "duration": 2945,
    "start_time": "2024-06-02T16:11:28.707Z"
   },
   {
    "duration": 1728,
    "start_time": "2024-06-02T16:11:36.135Z"
   },
   {
    "duration": 142,
    "start_time": "2024-06-02T16:11:37.866Z"
   },
   {
    "duration": 0,
    "start_time": "2024-06-02T16:11:38.011Z"
   },
   {
    "duration": 0,
    "start_time": "2024-06-02T16:11:38.012Z"
   },
   {
    "duration": 11,
    "start_time": "2024-06-02T16:11:38.058Z"
   },
   {
    "duration": 10,
    "start_time": "2024-06-02T16:11:38.159Z"
   },
   {
    "duration": 9,
    "start_time": "2024-06-02T16:11:38.211Z"
   },
   {
    "duration": 9,
    "start_time": "2024-06-02T16:11:38.316Z"
   },
   {
    "duration": 9,
    "start_time": "2024-06-02T16:11:38.474Z"
   },
   {
    "duration": 9,
    "start_time": "2024-06-02T16:11:38.579Z"
   },
   {
    "duration": 9,
    "start_time": "2024-06-02T16:11:38.680Z"
   },
   {
    "duration": 9,
    "start_time": "2024-06-02T16:11:38.788Z"
   },
   {
    "duration": 10,
    "start_time": "2024-06-02T16:11:39.538Z"
   },
   {
    "duration": 146,
    "start_time": "2024-06-02T16:11:39.586Z"
   },
   {
    "duration": 0,
    "start_time": "2024-06-02T16:11:39.734Z"
   },
   {
    "duration": 128,
    "start_time": "2024-06-02T16:11:40.124Z"
   },
   {
    "duration": 9,
    "start_time": "2024-06-02T16:11:40.279Z"
   },
   {
    "duration": 9,
    "start_time": "2024-06-02T16:11:40.382Z"
   },
   {
    "duration": 2478,
    "start_time": "2024-06-02T16:11:48.127Z"
   },
   {
    "duration": 5,
    "start_time": "2024-06-02T16:11:50.607Z"
   },
   {
    "duration": 45,
    "start_time": "2024-06-02T16:11:50.613Z"
   }
  ],
  "colab": {
   "provenance": []
  },
  "kernelspec": {
   "display_name": "Python 3 (ipykernel)",
   "language": "python",
   "name": "python3"
  },
  "language_info": {
   "codemirror_mode": {
    "name": "ipython",
    "version": 3
   },
   "file_extension": ".py",
   "mimetype": "text/x-python",
   "name": "python",
   "nbconvert_exporter": "python",
   "pygments_lexer": "ipython3",
   "version": "3.12.7"
  },
  "toc": {
   "base_numbering": 1,
   "nav_menu": {},
   "number_sections": true,
   "sideBar": true,
   "skip_h1_title": true,
   "title_cell": "Table of Contents",
   "title_sidebar": "Contents",
   "toc_cell": false,
   "toc_position": {},
   "toc_section_display": true,
   "toc_window_display": false
  }
 },
 "nbformat": 4,
 "nbformat_minor": 4
}
